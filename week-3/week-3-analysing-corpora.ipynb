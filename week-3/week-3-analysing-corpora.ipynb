{
 "cells": [
  {
   "cell_type": "markdown",
   "metadata": {
    "collapsed": false
   },
   "source": [
    "# Hacking the Humanities Week 3: Analysing Corpora\n",
    "\n",
    "Last week we learned how to analyse a text. This week, we are going to analyse a corpus. A corpus is simply a collection of texts (or, if you have a taste for Latin, a 'body' of texts). You are going to learn how to structure a program so that you can perform a task on many texts at once, and also learn how to organise your data in Python so you can easily call up particular texts from a large corpus for closer inspection.\n",
    "\n",
    "We are also going to go a bit deeper into the problem of pre-processing. You have seen how punctuation, capital letters and special characters (e.g. `é`, `ç` or `ł`) can make it complicated to get from the tokens of a text to the types they represent. This week you will learn how to use **regular expressions**, powerful tools for flexibly interacting with text. Other popular languages like `R` and `JavaScript` use regular expressions in much the same way Python does, so you can easily take what you learn here into other projects."
   ]
  },
  {
   "cell_type": "markdown",
   "metadata": {
    "collapsed": false
   },
   "source": [
    "## Section 1: The `list` and `dict` types, revisited\n",
    "\n",
    "So far you have been implementing Python commands one at a time. This will obviously become very tedious if you have to deal with more than two or three texts. What if you want to run a stylometric analysis on all 6 of Jane Austen's novels, or all 32 of Shakespeare's plays, or on a historical corpus of thousands of letters or millions of newspaper articles?\n",
    "\n",
    "To work with a corpus, we are going to learn to use two new features of Python: `for` loops, which will allow us to apply code repeatedly to many objects, and `dicts`, which will allow us to store information about our books in a convenient format.\n",
    "\n",
    "A list, as you know, is an ordered collection of items. The items can be of any type, and you can access them using indexing and slicing."
   ]
  },
  {
   "cell_type": "code",
   "execution_count": 1,
   "metadata": {
    "collapsed": false
   },
   "outputs": [
    {
     "name": "stdout",
     "output_type": "stream",
     "text": [
      "indexing: 7\n",
      "slicing: ['eight', 9]\n"
     ]
    }
   ],
   "source": [
    "my_list = [7, 'eight', 9]\n",
    "print(f'indexing: {my_list[0]}')\n",
    "print(f'slicing: {my_list[1:]}')"
   ]
  },
  {
   "cell_type": "markdown",
   "metadata": {
    "collapsed": false
   },
   "source": [
    "A `dict` is different. It stores information in `key:value` pairs.\n",
    "\n",
    "Each `key` must be unique, and will usually be of the `int` or `str` type, though it is also possible to create rather exotic dictionaries that use different types for their keys.\n",
    "\n",
    "You create a `dict` using curly braces \"`{}`\", seperating the keys from the values with a colon \"`:`\"."
   ]
  },
  {
   "cell_type": "code",
   "execution_count": 2,
   "metadata": {
    "collapsed": false
   },
   "outputs": [
   ],
   "source": [
    "apple = {'colour':'red','type':'pome','price':'£0.15'}"
   ]
  },
  {
   "cell_type": "markdown",
   "metadata": {
    "collapsed": false
   },
   "source": [
    "To access an item in a `dict`, you simply index it using a key:"
   ]
  },
  {
   "cell_type": "code",
   "execution_count": 3,
   "metadata": {
    "collapsed": false
   },
   "outputs": [
    {
     "data": {
      "text/plain": [
       "'£0.15'"
      ]
     },
     "execution_count": 3,
     "metadata": {
     },
     "output_type": "execute_result"
    }
   ],
   "source": [
    "apple['price']"
   ]
  },
  {
   "cell_type": "markdown",
   "metadata": {
    "collapsed": false
   },
   "source": [
    "It's easy to add new information to a `dict` using indexing and `=`. You update existing information or add new information in basically the same way:"
   ]
  },
  {
   "cell_type": "code",
   "execution_count": 4,
   "metadata": {
    "collapsed": false
   },
   "outputs": [
    {
     "name": "stdout",
     "output_type": "stream",
     "text": [
      "{'colour': 'red', 'type': 'pome', 'price': '£0.25', 'variety': \"cox's orange pippin\"}\n"
     ]
    }
   ],
   "source": [
    "# Change the price of the apple:\n",
    "apple['price'] = '£0.25'\n",
    "\n",
    "# Add a new piece of information:\n",
    "apple['variety'] = 'cox\\'s orange pippin'\n",
    "\n",
    "print(apple)"
   ]
  },
  {
   "cell_type": "markdown",
   "metadata": {
    "collapsed": false
   },
   "source": [
    "If you want to know the keys in a `dict`, you can either using the `.keys()` method, or the `list()` function."
   ]
  },
  {
   "cell_type": "code",
   "execution_count": 5,
   "metadata": {
    "collapsed": false
   },
   "outputs": [
    {
     "name": "stdout",
     "output_type": "stream",
     "text": [
      "apple_keys == dict_keys(['colour', 'type', 'price', 'variety']) ⟵ this is of type \"dict_keys\"\n",
      "apple_key_list == ['colour', 'type', 'price', 'variety'] ⟵ this is of type \"list\"\n"
     ]
    }
   ],
   "source": [
    "apple_keys = apple.keys()\n",
    "apple_key_list = list(apple)\n",
    "\n",
    "print(f'apple_keys == {apple_keys} ⟵ this is of type \"{type(apple_keys).__name__}\"')\n",
    "print(f'apple_key_list == {apple_key_list} ⟵ this is of type \"{type(apple_key_list).__name__}\"')"
   ]
  },
  {
   "cell_type": "markdown",
   "metadata": {
    "collapsed": false
   },
   "source": [
    "Using `list()` is often more useful, since you get the output in the form of a `list`, which you already know how to use."
   ]
  },
  {
   "cell_type": "markdown",
   "metadata": {
    "collapsed": false
   },
   "source": [
    "### Practice 3.1: Extract information from a `dict`\n",
    "\n",
    "In the cell below, I have provided you a `dict` containing information about Arjuna, the hero of the great epic poem, *[Mahabharata](http://en.wikipedia.org/wiki/Mahabharata)*. Execute the cell to create the list.\n",
    "\n",
    "Use the `dict` to find out what family Arjuna is from, and use `list()` to find out what else we know about him."
   ]
  },
  {
   "cell_type": "code",
   "execution_count": 6,
   "metadata": {
    "collapsed": false
   },
   "outputs": [
   ],
   "source": [
    "arjuna = {'gender':'M', 'species':'demigod', 'family':'Pandavas', 'profession':'archer'}\n",
    "\n",
    "### START OF YOUR CODE (replace the 'None's)\n",
    "arjunas_family = None\n",
    "arjunas_keys = None\n",
    "### END OF YOUR CODE"
   ]
  },
  {
   "cell_type": "markdown",
   "metadata": {
    "collapsed": false
   },
   "source": [
    "```\n",
    "Expected values:\n",
    "\n",
    "arjunas_family == 'Pandavas'\n",
    "arjunas_keys == dict_keys(['gender', 'species', 'family', 'profession']) or ['gender', 'species', 'family', 'profession']\n",
    "```\n",
    "When we ingest our corpus, we will store information about each text in a `dict`. But how will we store information about multiple novels? Well, it is possible to store multiple `dicts` in a single `list`. Execute the cell below to see how this works."
   ]
  },
  {
   "cell_type": "code",
   "execution_count": 7,
   "metadata": {
    "collapsed": false
   },
   "outputs": [
    {
     "name": "stdout",
     "output_type": "stream",
     "text": [
      "One apple costs £0.15.\n",
      "A pear is an example of a pome fruit.\n"
     ]
    }
   ],
   "source": [
    "fruits = [\n",
    "    {'name':'orange','colour':'orange','type':'citrus','price':'£0.30'},\n",
    "    {'name':'apple','colour':'red','type':'pome','price':'£0.15'},\n",
    "    {'name':'pear','colour':'green','type':'pome','price':'£0.10'},\n",
    "    {'name':'blackberry','colour':'dark purple','type':'aggregated drupe','price':'£0.05'}\n",
    "]\n",
    "\n",
    "apple_price = fruits[1]['price'] # the apple is the second fruit in the list\n",
    "pear_type = fruits[2]['type'] # the pear is the third fruit in the list\n",
    "\n",
    "print(f'One apple costs {apple_price}.')\n",
    "print(f'A pear is an example of a {pear_type} fruit.')"
   ]
  },
  {
   "cell_type": "markdown",
   "metadata": {
    "collapsed": false
   },
   "source": [
    "What we have here is an example of a **nested** data structure. Each `dict` is nested inside a `list`. Each time I \"index into\" the list, I go one level down in the structure. If at that level, I encounter another item I am able to index, then there is nothing stopping me from adding another set of square brackets `[]` and indexing again:\n",
    "* `fruits` is a `list`, so I can index it using numbers, e.g. `[1]`."
   ]
  },
  {
   "cell_type": "code",
   "execution_count": 8,
   "metadata": {
    "collapsed": false
   },
   "outputs": [
    {
     "data": {
      "text/plain": [
       "{'name': 'apple', 'colour': 'red', 'type': 'pome', 'price': '£0.15'}"
      ]
     },
     "execution_count": 8,
     "metadata": {
     },
     "output_type": "execute_result"
    }
   ],
   "source": [
    "fruits[1]"
   ]
  },
  {
   "cell_type": "markdown",
   "metadata": {
    "collapsed": false
   },
   "source": [
    "* `fruits[1]` is the second item in `fruits`, and is a `dict`. Therefore I can index it using a key, e.g. `['price']`."
   ]
  },
  {
   "cell_type": "code",
   "execution_count": 9,
   "metadata": {
    "collapsed": false
   },
   "outputs": [
    {
     "data": {
      "text/plain": [
       "'£0.15'"
      ]
     },
     "execution_count": 9,
     "metadata": {
     },
     "output_type": "execute_result"
    }
   ],
   "source": [
    "fruits[1]['price']"
   ]
  },
  {
   "cell_type": "markdown",
   "metadata": {
    "collapsed": false
   },
   "source": [
    "* `fruits[1]['price']` is a `str`. In fact, if I wanted I could index this as well..."
   ]
  },
  {
   "cell_type": "code",
   "execution_count": 10,
   "metadata": {
    "collapsed": false
   },
   "outputs": [
    {
     "data": {
      "text/plain": [
       "'£0'"
      ]
     },
     "execution_count": 10,
     "metadata": {
     },
     "output_type": "execute_result"
    }
   ],
   "source": [
    "fruits[1]['price'][:2]"
   ]
  },
  {
   "cell_type": "markdown",
   "metadata": {
    "collapsed": false
   },
   "source": [
    "A string is a sequence of characters. If you index into it, you can retrieve just some of the the characters. In this case, the `price` has five characters (count them: `£0.15`). When I type `fruits[1]['price'][:2]`, I retrieve just the first two characters of the price:,  `£0`."
   ]
  },
  {
   "cell_type": "markdown",
   "metadata": {
    "collapsed": false
   },
   "source": [
    "### Assignment 3.2: Extract information from a list of dicts\n",
    "\n",
    "For this assignment, you will have to extract information from a `list` of `dicts` that someone else has created. You will need to work out its structure, and how to index it correctly. The `list` is stored as a type of file called a `pickle`, which is a file format native to Python. Execute the cell below to import the data."
   ]
  },
  {
   "cell_type": "code",
   "execution_count": 11,
   "metadata": {
    "collapsed": false
   },
   "outputs": [
   ],
   "source": [
    "import pickle\n",
    "\n",
    "with open(\"pandavas.p\", mode=\"rb\") as file:\n",
    "    pandavas = pickle.load(file)"
   ]
  },
  {
   "cell_type": "markdown",
   "metadata": {
    "collapsed": false
   },
   "source": [
    "Your task:\n",
    "1. **Investigate the structure of the list:** You might like to create another code cell to play around with. Try indexing into `pandavas` to see what you can see. You can find out what type an object is using the `type()` function. Don't forget `list()` and `.keys()`!\n",
    "2. **Find out some key information about the Pandavas:** \n",
    "    * What are the names of the second and fifth Pandava brothers? Save the information in variables called `second_name` and `fifth_name`\n",
    "    * What were their spouses called? Save the information in variables called `second_spouse` and `fifth_spouse`.\n",
    "    * How many Pandavas were there? Save the information in a variable called `num_pandavas`.*\n",
    "\n",
    "*There is a [built-in function](https://docs.python.org/3/library/functions.html?highlight=built%20functions) you can use to count the items in a `list`, which you may recall from last week."
   ]
  },
  {
   "cell_type": "code",
   "execution_count": 12,
   "metadata": {
    "collapsed": false,
    "nbgrader": {
     "grade": false,
     "grade_id": "analyse_pandavas",
     "locked": false,
     "schema_version": 3,
     "solution": true,
     "task": false
    }
   },
   "outputs": [
   ],
   "source": [
    "### BEGIN SOLUTION\n",
    "second_name = pandavas[1]['name']\n",
    "second_spouse = pandavas[1]['spouse']\n",
    "fifth_name = pandavas[4]['name']\n",
    "fifth_spouse = pandavas[4]['spouse']\n",
    "num_pandavas = len(pandavas)\n",
    "### END SOLUTION"
   ]
  },
  {
   "cell_type": "code",
   "execution_count": 13,
   "metadata": {
    "collapsed": false,
    "nbgrader": {
     "grade": true,
     "grade_id": "pandavas_tests",
     "locked": true,
     "points": 3,
     "schema_version": 3,
     "solution": false,
     "task": false
    }
   },
   "outputs": [
    {
     "name": "stdout",
     "output_type": "stream",
     "text": [
      "The second-eldest Pandava was Bhima. He was married to Draupadi.\n",
      "The fifth Pandava was Sahadeva. He was married to Draupadi.\n",
      "There were 6 Pandava brothers.\n"
     ]
    }
   ],
   "source": [
    "print(f'The second-eldest Pandava was {second_name}. He was married to {second_spouse}.')\n",
    "print(f'The fifth Pandava was {fifth_name}. He was married to {fifth_spouse}.')\n",
    "print(f'There were {num_pandavas} Pandava brothers.')\n",
    "### BEGIN HIDDEN TESTS\n",
    "assert second_name == pandavas[1]['name']\n",
    "assert second_spouse == pandavas[1]['spouse']\n",
    "assert fifth_name == pandavas[4]['name']\n",
    "assert fifth_spouse == pandavas[4]['spouse']\n",
    "assert num_pandavas == len(pandavas)\n",
    "### END HIDDEN TESTS"
   ]
  },
  {
   "cell_type": "markdown",
   "metadata": {
    "collapsed": false
   },
   "source": [
    "Expected output:\n",
    "```\n",
    "The second-eldest Pandava was Bhima. He was married to Draupadi.\n",
    "The fifth Pandava was Sahadeva. He was married to Draupadi.\n",
    "There were 6 Pandava brothers.\n",
    "```\n",
    "That's right. The Pandavas had [interesting marriage practices](https://en.wikipedia.org/wiki/Pandava). "
   ]
  },
  {
   "cell_type": "markdown",
   "metadata": {
    "collapsed": false
   },
   "source": [
    "### A note on mutable and immutable variables:\n",
    "\n",
    "Before we move on, there is another aspect of the `list` and `dict` types that we need to cover. You may recall that back in **Week 1**, I told you to add `.copy()` to your Haiku Generator code, but didn't explain why. Now you have learned a bit more about Python, you are in a position to understand what that `.copy()` was doing.\n",
    "\n",
    "All variables in Python are either **mutable** or **immutable**. If you have studied the poetry of Edmund Spenser or Percy Shelley, you probably know that 'mutability' means 'changeability'. A 'mutable' variable is one that can change, whereas an 'immutable' variable is one that cannot change unless you overwrite it. We have encountered quite a few data types (or object classes) so far, some of which are mutable, and some immutable:\n",
    "\n",
    "Mutable | Immutable\n",
    "--- | ---\n",
    "`list` | `str`\n",
    "`dict` | `int`\n",
    "`set` | `float`\n",
    "`KungFuFighter` | `tup`\n",
    "`HaikuGenerator` |\n",
    "`Text` |\n",
    "\n",
    "You know that a variable is **mutable** if you can change it without using an assignment operator such as `=`. You can add a new item to a list using the `.append()` method. Likewise, you could add more lines to the internal database of your `HaikuGenerator` using the `.add_five_syllable_line()` or `.add_seven_syllable_line()` methods.\n",
    "\n",
    "Execute the cells below. Can you see the difference between the `str` type's `.replace()` method and the `list` type's `.pop()` method?\n",
    "\n",
    "A string is immutable: the `.replace()` method creates a *new* string, and leaves the original one intact."
   ]
  },
  {
   "cell_type": "code",
   "execution_count": 49,
   "metadata": {
    "collapsed": false
   },
   "outputs": [
    {
     "name": "stdout",
     "output_type": "stream",
     "text": [
      "my_string before using .replace(): Two words\n",
      "my_string after using .replace(): Two words\n",
      "The output of my_string.replace(\"words\", \"olives\"): Two olives\n"
     ]
    }
   ],
   "source": [
    "my_string = \"Two words\"\n",
    "\n",
    "print(f'my_string before using .replace(): {my_string}')\n",
    "\n",
    "output_of_replace = my_string.replace(\"words\", \"olives\")\n",
    "\n",
    "print(f'my_string after using .replace(): {my_string}')\n",
    "print(f'The output of my_string.replace(\"words\", \"olives\"): {output_of_replace}')"
   ]
  },
  {
   "cell_type": "markdown",
   "metadata": {
    "collapsed": false
   },
   "source": [
    "A `list`, however, is mutable. `pop()` alters the original list."
   ]
  },
  {
   "cell_type": "code",
   "execution_count": 50,
   "metadata": {
    "collapsed": false
   },
   "outputs": [
    {
     "name": "stdout",
     "output_type": "stream",
     "text": [
      "my_list before using .pop(): ['Yak', 'Messerschmidt', 'Spitfire']\n",
      "my_list after using .pop(): ['Yak', 'Messerschmidt']\n",
      "The output of my_string.pop(): Spitfire\n"
     ]
    }
   ],
   "source": [
    "my_list = [\"Yak\", \"Messerschmidt\", \"Spitfire\"]\n",
    "\n",
    "print(f'my_list before using .pop(): {my_list}')\n",
    "\n",
    "output_of_pop = my_list.pop()\n",
    "\n",
    "print(f'my_list after using .pop(): {my_list}')\n",
    "print(f'The output of my_string.pop(): {output_of_pop}')"
   ]
  },
  {
   "cell_type": "markdown",
   "metadata": {
    "collapsed": false
   },
   "source": [
    "As you can see, when we use `str.replace()`, the method outputs a *new* string where something has been replaced, but leaves our original `str` variable intact. When we use `list.pop()`, by contrast, the method pops a value out of the `list` and therefore alters the original `list` variable.\n",
    "\n",
    "Where things start to get tricky is that the names of `mutable` and `immuatable` variables work differently. The cell below may give you a surprising outcome. Before you execute it, take a moment to predict what the final result will be."
   ]
  },
  {
   "cell_type": "code",
   "execution_count": 15,
   "metadata": {
    "collapsed": false
   },
   "outputs": [
    {
     "name": "stdout",
     "output_type": "stream",
     "text": [
      "['The Kick Inside', 'Lionheart']\n"
     ]
    }
   ],
   "source": [
    "list_one = [\"The Kick Inside\", \"Lionheart\", \"Hounds of Love\"]\n",
    "list_two = list_one\n",
    "list_one.pop()\n",
    "print(list_two)"
   ]
  },
  {
   "cell_type": "markdown",
   "metadata": {
    "collapsed": false
   },
   "source": [
    "That's right—when we popped an item out of `list_one`, we inadvertently popped it out of `list_two` as well.\n",
    "\n",
    "This is because the names of variables are just *pointers*. Think of it this way. When you create a `list` or `dict`, Python finds a free space in memory and collects some items there. If you give the `list` or `dict` a name, this is like a signpost pointing to the collection of items in the computer's memory. When I write\n",
    "\n",
    "```\n",
    "list_two = list_one\n",
    "```\n",
    "I am telling the computer \"make the name `list_two` refer to the same collection of items as `list_one`.\" If I alter the underlying collection of items, this doesn't change the fact that the names `list_one` and `list_two` both still point to that collection.\n",
    "\n",
    "This 'pointer' issue is probably the biggest source of bugs for beginning Python programmers. Other bugs tend to give you an `Error` message, but if you think two variables are different and they are actually the same, you might get silent errors that simply make your results weird or incorrect without your knowing.\n",
    "\n",
    "One simple way to avoid the error is to use the `.copy()` method, which returns a copy of the mutable variable instead of just creating another name for it:"
   ]
  },
  {
   "cell_type": "code",
   "execution_count": 16,
   "metadata": {
    "collapsed": false
   },
   "outputs": [
    {
     "name": "stdout",
     "output_type": "stream",
     "text": [
      "list_three: ['Pather Panchali', 'Aparajito', 'Charulata']\n",
      "list_four: ['Pather Panchali', 'Aparajito', 'Apur Sansar']\n"
     ]
    }
   ],
   "source": [
    "list_three = [\"Pather Panchali\", \"Aparajito\", \"Apur Sansar\"]\n",
    "list_four = list_three.copy()\n",
    "list_three[2] = \"Charulata\"\n",
    "print(f'list_three: {list_three}')\n",
    "print(f'list_four: {list_four}')"
   ]
  },
  {
   "cell_type": "markdown",
   "metadata": {
    "collapsed": false
   },
   "source": [
    "You can see that I have used indexing to change the third value in `list_three`, but because `list_four` is a copy, it is a seperate `list`, and remains unchanged. Another option, if you want an alternative to a `list`, is to use the `tup` (or 'tuple') data type, which is much the same as a list, except it is immutable. This has the advantage that you can make your code more bug-proof, but because the `tup` cannot be changed, it is somewhat less functional:"
   ]
  },
  {
   "cell_type": "code",
   "execution_count": 17,
   "metadata": {
    "collapsed": false
   },
   "outputs": [
    {
     "ename": "TypeError",
     "evalue": "'tuple' object does not support item assignment",
     "output_type": "error",
     "traceback": [
      "\u001b[0;31m---------------------------------------------------------------------------\u001b[0m",
      "\u001b[0;31mTypeError\u001b[0m                                 Traceback (most recent call last)",
      "\u001b[0;32m<ipython-input-17-d9ea8290275d>\u001b[0m in \u001b[0;36m<module>\u001b[0;34m\u001b[0m\n\u001b[1;32m      1\u001b[0m \u001b[0mmy_tup\u001b[0m \u001b[0;34m=\u001b[0m \u001b[0;34m(\u001b[0m\u001b[0;36m7\u001b[0m\u001b[0;34m,\u001b[0m\u001b[0;36m8\u001b[0m\u001b[0;34m,\u001b[0m\u001b[0;34m\"nine\"\u001b[0m\u001b[0;34m)\u001b[0m\u001b[0;34m\u001b[0m\u001b[0;34m\u001b[0m\u001b[0m\n\u001b[0;32m----> 2\u001b[0;31m \u001b[0mmy_tup\u001b[0m\u001b[0;34m[\u001b[0m\u001b[0;36m2\u001b[0m\u001b[0;34m]\u001b[0m \u001b[0;34m=\u001b[0m \u001b[0;36m9\u001b[0m\u001b[0;34m\u001b[0m\u001b[0;34m\u001b[0m\u001b[0m\n\u001b[0m",
      "\u001b[0;31mTypeError\u001b[0m: 'tuple' object does not support item assignment"
     ]
    }
   ],
   "source": [
    "my_tup = (7,8,\"nine\")\n",
    "my_tup[2] = 9"
   ]
  },
  {
   "cell_type": "markdown",
   "metadata": {
    "collapsed": false
   },
   "source": [
    "As you can see, once a `tup` has been created, it cannot be altered, though of course you can overwrite it:"
   ]
  },
  {
   "cell_type": "code",
   "execution_count": 51,
   "metadata": {
    "collapsed": false
   },
   "outputs": [
    {
     "name": "stdout",
     "output_type": "stream",
     "text": [
      "('barry', 'crocker')\n"
     ]
    }
   ],
   "source": [
    "my_tup = (7,8,9)\n",
    "my_tup = (\"barry\", \"crocker\")\n",
    "print(my_tup)"
   ]
  },
  {
   "cell_type": "markdown",
   "metadata": {
    "collapsed": false
   },
   "source": [
    "### Assignment 3.2: Be careful with the `dict` type!\n",
    "\n",
    "The `dict` type is also mutable. If you aren't careful, you might accidentally create multiple names that refer to the same collection of items, having unintended consequences.\n",
    "\n",
    "For this assignment you are going to create and alter a `dict`, while being careful about which dict you are changing.\n",
    "\n",
    "Your task:\n",
    "1. **Create a new `dict` called `my_template`:** This `dict` will contain three `key:value` pairs. Set the \"title\" to \"Unknown\", the \"author\" to \"Anonymous\" and the \"date\" to \"????\".\n",
    "2. **Create a new `dict` from `my_template` called `my_book` using `.copy()`:** Once you have created `my_book` from `my_template`, use indexing to change the value of \"title\" to \"Faustbuch\". **NB:** Make sure this new a *new* dict, not merely a pointer to the same `dict` as `my_template`.\n",
    "3. **Create a new pointer to `my_template` called `the_same_template`**."
   ]
  },
  {
   "cell_type": "code",
   "execution_count": 19,
   "metadata": {
    "collapsed": false,
    "nbgrader": {
     "grade": false,
     "grade_id": "careful_with_dict_type",
     "locked": false,
     "schema_version": 3,
     "solution": true,
     "task": false
    }
   },
   "outputs": [
   ],
   "source": [
    "### BEGIN SOLUTION\n",
    "my_template = {\"title\":\"Unknown\", \"author\":\"Anonymous\", \"date\":\"????\"}\n",
    "my_book = my_template.copy()\n",
    "my_book[\"title\"] = \"Faustbuch\"\n",
    "the_same_template = my_template\n",
    "### END SOLUTION"
   ]
  },
  {
   "cell_type": "code",
   "execution_count": 20,
   "metadata": {
    "collapsed": false,
    "nbgrader": {
     "grade": true,
     "grade_id": "careful_with_dict_type",
     "locked": true,
     "points": 2,
     "schema_version": 3,
     "solution": false,
     "task": false
    }
   },
   "outputs": [
    {
     "name": "stdout",
     "output_type": "stream",
     "text": [
      "The title of my book is Faustbuch\n",
      "If the following statement is true, then `the_same_template` and `my_template` are pointers to the same object:\n",
      "True\n"
     ]
    }
   ],
   "source": [
    "print(f'The title of my book is {my_book[\"title\"]}')\n",
    "print(f'If the following statement is true, then `the_same_template` and `my_template` are pointers to the same object:')\n",
    "print(the_same_template is my_template)\n",
    "### BEGIN HIDDEN TESTS\n",
    "assert my_template == {\"title\":\"Unknown\", \"author\":\"Anonymous\", \"date\":\"????\"}\n",
    "assert my_book[\"title\"] == \"Faustbuch\"\n",
    "assert my_book[\"author\"] is my_template[\"author\"]\n",
    "assert my_book[\"date\"] is my_template[\"date\"]\n",
    "assert the_same_template is my_template\n",
    "### END HIDDEN TESTS"
   ]
  },
  {
   "cell_type": "markdown",
   "metadata": {
    "collapsed": false
   },
   "source": [
    "Expected output:\n",
    "```\n",
    "The title of my book is Faustbuch\n",
    "If the following statement is true, then `the_same_template` and `my_template` are pointers to the same object:\n",
    "True\n",
    "```"
   ]
  },
  {
   "cell_type": "markdown",
   "metadata": {
    "collapsed": false
   },
   "source": [
    "### Extension 3.3: Shallow vs Deep Copies\n",
    "\n",
    "The `.copy()` method only creates a 'shallow' copy of an object. This actually doesn't completely eliminate the risk of creating new variables that remain linked to each other, though it is good enough in many common cases.\n",
    "\n",
    "If you want, you could research the difference between a 'shallow copy' and a 'deep copy' in Python, and then try to recreate the problem we have just solved in **Assignment 3.2**. Can you create a `list` or `dict` using `.copy()` that will still change when the original `list` or `dict` is changed? How could you do a 'deep copy' that would avoid this new problem?"
   ]
  },
  {
   "cell_type": "code",
   "execution_count": 21,
   "metadata": {
    "collapsed": false
   },
   "outputs": [
    {
     "ename": "AttributeError",
     "evalue": "'NoneType' object has no attribute 'copy'",
     "output_type": "error",
     "traceback": [
      "\u001b[0;31m---------------------------------------------------------------------------\u001b[0m",
      "\u001b[0;31mAttributeError\u001b[0m                            Traceback (most recent call last)",
      "\u001b[0;32m<ipython-input-21-408f747ab49e>\u001b[0m in \u001b[0;36m<module>\u001b[0;34m\u001b[0m\n\u001b[1;32m      3\u001b[0m \u001b[0;34m\u001b[0m\u001b[0m\n\u001b[1;32m      4\u001b[0m \u001b[0;31m# Create a shallow copy of it:\u001b[0m\u001b[0;34m\u001b[0m\u001b[0;34m\u001b[0m\u001b[0;34m\u001b[0m\u001b[0m\n\u001b[0;32m----> 5\u001b[0;31m \u001b[0mnew_object\u001b[0m \u001b[0;34m=\u001b[0m \u001b[0moriginal_object\u001b[0m\u001b[0;34m.\u001b[0m\u001b[0mcopy\u001b[0m\u001b[0;34m(\u001b[0m\u001b[0;34m)\u001b[0m\u001b[0;34m\u001b[0m\u001b[0;34m\u001b[0m\u001b[0m\n\u001b[0m\u001b[1;32m      6\u001b[0m \u001b[0;34m\u001b[0m\u001b[0m\n\u001b[1;32m      7\u001b[0m \u001b[0;31m# Change original_object\u001b[0m\u001b[0;34m\u001b[0m\u001b[0;34m\u001b[0m\u001b[0;34m\u001b[0m\u001b[0m\n",
      "\u001b[0;31mAttributeError\u001b[0m: 'NoneType' object has no attribute 'copy'"
     ]
    }
   ],
   "source": [
    "# Create a list or dict:\n",
    "original_object = None\n",
    "\n",
    "# Create a shallow copy of it:\n",
    "new_object = original_object.copy()\n",
    "\n",
    "# Change original_object\n",
    "\n",
    "# Has new_object also changed?\n",
    "\n",
    "# Can you make a 'deep copy' of original_object?"
   ]
  },
  {
   "cell_type": "markdown",
   "metadata": {
    "collapsed": false
   },
   "source": [
    "## Section 2: Control the flow of a program with `for`-loops\n",
    "\n",
    "Now you are a master of `lists` and `dicts`, it is time to learn how to use a `for`-loop to work with many objects at once.\n",
    "\n",
    "There are many different ways to use a `for`-loop, but the simplest way is to use it with a `list`:"
   ]
  },
  {
   "cell_type": "code",
   "execution_count": 22,
   "metadata": {
    "collapsed": false
   },
   "outputs": [
    {
     "name": "stdout",
     "output_type": "stream",
     "text": [
      "The new number is 9.\n",
      "The new number is 14.\n",
      "The new number is 86.\n",
      "The new number is 8.\n",
      "The new number is 2.\n"
     ]
    }
   ],
   "source": [
    "my_list = [7, 12, 84, 6, 0]\n",
    "\n",
    "for number in my_list:\n",
    "    new_number = number + 2\n",
    "    print(f\"The new number is {new_number}.\")"
   ]
  },
  {
   "cell_type": "markdown",
   "metadata": {
    "collapsed": false
   },
   "source": [
    "You can see that `for` uses very similar syntax to `def`, `class` and `with`. You introduce a block of code with a `for` statement, followed by a colon. After the colon, all the indented lines are 'inside' the for loop.\n",
    "\n",
    "The `for` statement has two important parts:\n",
    "```\n",
    "for variable in iterable:\n",
    "```\n",
    "You need to have some kind of `iterable` object. Working out if an object is iterable [is a bit tricky](https://stackoverflow.com/questions/1952464/in-python-how-do-i-determine-if-an-object-is-iterable), but in a pinch you can just try to use a `for`-loop and see if it works. Because a `list` is iterable, Python knows how to step through each item inside it.\n",
    "\n",
    "The second key part of the `for`-loop is the arbitrary name you give to the variable that pops out of the iterable. Since the `list` in the example was a `list` of numbers, I chose the name `number`. But I could have chosen `frances` and it would have worked just as well.\n",
    "\n",
    "**A warning:** A `for`-loop is not sealed off in the same way a function (`def`), object (`class`) or context (`with`) is. The variable you define in the `for`-statement, and any variables you manipulate in the body of the `for`-loop, will hang around in your environment afterwards:"
   ]
  },
  {
   "cell_type": "code",
   "execution_count": 23,
   "metadata": {
    "collapsed": false
   },
   "outputs": [
    {
     "name": "stdout",
     "output_type": "stream",
     "text": [
      "0\n",
      "2\n"
     ]
    }
   ],
   "source": [
    "print(number)\n",
    "print(new_number)"
   ]
  },
  {
   "cell_type": "markdown",
   "metadata": {
    "collapsed": false
   },
   "source": [
    "### Assignment 3.4: Use a for-loop to add items to an empty list\n",
    "\n",
    "In the example above, we simply printed the `new_number` to the screen. But when we import a corpus of many novels, we will want to store them in memory so we can use them, rather than just printing millions of words.\n",
    "\n",
    "A common technique for saving the results of a `for`-loop is to create an empty `list`, and use it to save the results of the loop. You can create an empty list by simply using square brackets without any data:\n",
    "```\n",
    "empty_list = []\n",
    "```\n",
    "You can also use the built-in `list()` function:\n",
    "```\n",
    "empty_list = list()\n",
    "```\n",
    "\n",
    "As we saw in **Week 1**, you can add a new item to the end of a list by using the `.append()` method.\n",
    "\n",
    "Your task: turn the lowercase words in `lower_case_list` into Title Case words.\n",
    "1. **Create an empty list:** call it `title_case_list`.\n",
    "2. **Loop over `lower_case_list`:** write a `for`-statement that will loop over each word in `lower_case_list`\n",
    "3. **Convert the lower case word into a title case word:** inside the `for`-loop, use the right [string method]() to convert the lower case word into a title case word. Save the information in a variable, you can call it whatever you like. **Hint:** You might rememeber that the `.lower()` method turns a string to *lower* case. You can probably guess what method will convert it to *title* case.\n",
    "4. **Append the new title case word to `title_case_list`:** still inside the `for`-loop, append the title case word to `title_case_list`"
   ]
  },
  {
   "cell_type": "code",
   "execution_count": 24,
   "metadata": {
    "collapsed": false,
    "nbgrader": {
     "grade": false,
     "grade_id": "title_case_list",
     "locked": false,
     "schema_version": 3,
     "solution": true,
     "task": false
    }
   },
   "outputs": [
   ],
   "source": [
    "lower_case_list = [\"lyra belacqua\", \"pantalaimon\", \"will parry\", \"kirjava\", \"the authority\", \"lord asriel\"]\n",
    "### BEGIN SOLUTION\n",
    "title_case_list = []\n",
    "for word in lower_case_list:\n",
    "    title = word.title()\n",
    "    title_case_list.append(title)\n",
    "### END SOLUTION"
   ]
  },
  {
   "cell_type": "code",
   "execution_count": 25,
   "metadata": {
    "collapsed": false,
    "nbgrader": {
     "grade": true,
     "grade_id": "title_case_test",
     "locked": true,
     "points": 3,
     "schema_version": 3,
     "solution": false,
     "task": false
    }
   },
   "outputs": [
    {
     "name": "stdout",
     "output_type": "stream",
     "text": [
      "['Lyra Belacqua', 'Pantalaimon', 'Will Parry', 'Kirjava', 'The Authority', 'Lord Asriel']\n"
     ]
    }
   ],
   "source": [
    "print(title_case_list)\n",
    "### BEGIN HIDDEN TESTS\n",
    "assert title_case_list == [word.title() for word in lower_case_list]\n",
    "### END HIDDEN TESTS"
   ]
  },
  {
   "cell_type": "markdown",
   "metadata": {
    "collapsed": false
   },
   "source": [
    "Expected output:\n",
    "```\n",
    "['Lyra Belacqua', 'Pantalaimon', 'Will Parry', 'Kirjava', 'The Authority', 'Lord Asriel']\n",
    "```"
   ]
  },
  {
   "cell_type": "markdown",
   "metadata": {
    "collapsed": false
   },
   "source": [
    "There are many other kinds of `iterable` object, but the most important one for our purposes is the `dict`. A `dict` has a more complex structure than a `list`, however. If you just loop over it naivly, then it will only give you the keys and not the values to work with:"
   ]
  },
  {
   "cell_type": "code",
   "execution_count": 26,
   "metadata": {
    "collapsed": false
   },
   "outputs": [
    {
     "name": "stdout",
     "output_type": "stream",
     "text": [
      "Shakespeare\n",
      "Behn\n",
      "Ibsen\n",
      "Kane\n"
     ]
    }
   ],
   "source": [
    "how_many_plays = {'Shakespeare':41, 'Behn':17, 'Ibsen':25, 'Kane':5}\n",
    "\n",
    "for output in how_many_plays:\n",
    "    print(output)"
   ]
  },
  {
   "cell_type": "markdown",
   "metadata": {
    "collapsed": false
   },
   "source": [
    "If you want to actually work with the data, the best way is to use the `dict.items()` method. This method gives you the `key` *and* the `value` for each iteration of the `for`-loop:"
   ]
  },
  {
   "cell_type": "code",
   "execution_count": 27,
   "metadata": {
    "collapsed": false
   },
   "outputs": [
    {
     "name": "stdout",
     "output_type": "stream",
     "text": [
      "Shakespeare wrote only 41 plays! I could do way better!\n",
      "Behn wrote only 17 plays! I could do way better!\n",
      "Ibsen wrote only 25 plays! I could do way better!\n",
      "Kane wrote only 5 plays! I could do way better!\n"
     ]
    }
   ],
   "source": [
    "for playwright,plays in how_many_plays.items():\n",
    "    print(playwright + \" wrote only \" + str(plays) + \" plays! I could do way better!\")"
   ]
  },
  {
   "cell_type": "markdown",
   "metadata": {
    "collapsed": false
   },
   "source": [
    "### Extension 3.5: Experiment with looping techniques\n",
    "\n",
    "If you visit the Python documentation, you will discover there are many different [looping techniques](https://docs.python.org/3/tutorial/datastructures.html#looping-techniques) that make `for`-loops more flexible and powerful. If you want, have a play with the different techniques in the cell below. If you want a list to practise with, you can use the `title_case_list` you created above. If you want to practise with a `dict`, you can use `how_many_plays` from the cell just above.\n",
    "\n",
    "If you really want to stretch yourself, you can try using a `while`-loop. A `while`-loop is just like a `for`-loop, in that it also allows you to write a block of code which is then applied many times. But it is quite different to set up. [Check out the documentation](https://docs.python.org/3/reference/compound_stmts.html#while) if you want to have a go.\n",
    "\n",
    "**NB:** When using `for` and `while`, it is quite easy to accidentally create an infinite loop that never stops running! If you do find that your code is executing for a long time, and you think something is wrong, you can hit the stop button at the top of the screen (it looks like a black square), or if things get really bad you can go to the <kbd>Kernel</kbd> menu and choose 'restart'."
   ]
  },
  {
   "cell_type": "code",
   "execution_count": 28,
   "metadata": {
    "collapsed": false
   },
   "outputs": [
   ],
   "source": [
    "# You could try using `enumerate()` on a list...\n",
    "\n",
    "# You could try using `.values()` instead of `.items()` on a dict...\n",
    "\n",
    "# You could try using `range()` to iterate over instead of an array...\n",
    "\n",
    "# You could try to use a `while` loop..."
   ]
  },
  {
   "cell_type": "markdown",
   "metadata": {
    "collapsed": false
   },
   "source": [
    "## Section 3: Building and analysing a corpus\n",
    "\n",
    "Now you know how to create a dict, how to do a for loop and how to add items to an empty list. From the previous session, you know how to import a text file using `open('path/to/file.txt', mode='r', errors='ignore')` and `.read()`.\n",
    "\n",
    "Using this knowledge, you are going to loop over a folder of text files, importing each one as a `dict` and storing it in a new `list`."
   ]
  },
  {
   "cell_type": "markdown",
   "metadata": {
    "collapsed": false
   },
   "source": [
    "### Assignment 3.6: Get a list of the files\n",
    "\n",
    "In the same folder as this notebook is a folder called 'corpus'. You are going to create a list of all the filenames in that folder.\n",
    "\n",
    "Your task:\n",
    "1. **Import the `listdir()` function from the `os` package.** `os` is short for 'operating system'. The `os` package contains many useful functions for interacting with the files, folders and programs on your computer.\n",
    "2. **Use the `listdir()` function to create a `list` of filnames called `file_list`.** [Here is the documentation for the function.](https://docs.python.org/3.7/library/os.html?highlight=listdir#os.listdir)"
   ]
  },
  {
   "cell_type": "code",
   "execution_count": 52,
   "metadata": {
    "collapsed": false,
    "nbgrader": {
     "grade": false,
     "grade_id": "import_file_list",
     "locked": false,
     "schema_version": 3,
     "solution": true,
     "task": false
    }
   },
   "outputs": [
   ],
   "source": [
    "### BEGIN SOLUTION\n",
    "from os import listdir\n",
    "file_list = listdir('corpus')\n",
    "### END SOLUTION"
   ]
  },
  {
   "cell_type": "code",
   "execution_count": 57,
   "metadata": {
    "collapsed": false,
    "nbgrader": {
     "grade": true,
     "grade_id": "import_file_list",
     "locked": true,
     "points": 1,
     "schema_version": 3,
     "solution": false,
     "task": false
    }
   },
   "outputs": [
    {
     "name": "stdout",
     "output_type": "stream",
     "text": [
      "['father_goriot.txt', 'such_is_life.txt', 'north_and_south.txt', 'pilgrims_progress.txt', 'gitanjali.txt', 'erewhon.txt', 'jane_eyre.txt', 'corinne.txt', 'moby_dick.txt', 'pride_and_prejudice.txt']\n"
     ]
    }
   ],
   "source": [
    "print(file_list)\n",
    "### BEGIN HIDDEN TESTS\n",
    "import sys\n",
    "assert \"os\" in sys.modules\n",
    "import os\n",
    "assert file_list == os.listdir('corpus')\n",
    "### END HIDDEN TESTS"
   ]
  },
  {
   "cell_type": "markdown",
   "metadata": {
    "collapsed": false
   },
   "source": [
    "Expected output:\n",
    "```\n",
    "['father_goriot.txt', 'such_is_life.txt', 'north_and_south.txt', 'pilgrims_progress.txt', 'gitanjali.txt', 'erewhon.txt', 'jane_eyre.txt', 'corinne.txt', 'moby_dick.txt', 'pride_and_prejudice.txt']\n",
    "```\n",
    "\n",
    "This is a fairly small corpus of 10 texts. But once you know how to import a corpus of 10 texts, exactly the same code will easily import a corpus of 10,000 or 10,000,000."
   ]
  },
  {
   "cell_type": "markdown",
   "metadata": {
    "collapsed": false
   },
   "source": [
    "### Assignment 3.7: Loop over `file_list` and import the corpus\n",
    "\n",
    "We saw above how you can *nest* `dict`s inside a `list`. You are now going to use just such a nested structure to store all the texts in your corpus. it will look something like this:\n",
    "\n",
    "```\n",
    "corpus = [\n",
    "    {\"title\":\"tale_of_two_cities.txt\", \"text\":\"It was the best of times ...\"},\n",
    "    {\"title\":\"1984\", \"text\":\"It was a bright cold day in April, and the clocks were striking thirteen. ...\"},\n",
    "    ...\n",
    "]\n",
    "```\n",
    "\n",
    "In other words, your corpus is going to be a `list`. Each text in the corpus will be a `dict` with two keys: \"title\", which for convenience' sake will just be the filename, and \"text\", which is the text of the whole novel in the form of a single string.\n",
    "\n",
    "If you have forgotten, this is the basic structure for importing an individual text:\n",
    "```\n",
    "with open(file_path, mode='r', errors='ignore') as file:\n",
    "    text = file.read()\n",
    "```\n",
    "In this case, `file_path` would be a variable of the `str` type which is the path to the file, e.g. `\"My Documents/essay_one.docx\"`.\n",
    "\n",
    "Now you are going to loop over `file_list` and import the corpus of texts. Your task:\n",
    "1. **Create an empty list called `corpus`.**\n",
    "2. **Use `for` to loop over each `file_name` in `file_list`.**\n",
    "3. **Create a `dict` for the novel/book:** It doesn't really matter what you call it, but you can call it `novel_dict` if you like.\n",
    "3. **Complete the path to the text by concatenating `file_name` with `\"corpus/\"`:** Create a new variable called `full_path` that has includes the file name *and* folder name. If you look at the file list above, you will see that the folder name has not been included. All of these files are in the 'corpus' folder, so you will need to add 'corpus/' to the beginning of each file name. This will turn `'father_goriot.txt'` into `'corpus/father_goriot.txt'`. We learnt how to concatenate strings using one of Python's [basic operators](https://docs.python.org/3.8/reference/expressions.html#binary-arithmetic-operations) in Week 1.\n",
    "4. **Import the text using `with` and `open`:** Still inside the `for`-loop, import the text. Save the imported text in your dict, using code such as `novel_dict[\"text\"] = ...`. **NB:** You must use `\"text\"` as the key for this value.\n",
    "5. **Use the `file_name` as the title for the novel:** Still inside the `for`-loop, save the title information in your dict, using code such as `novel_dict[\"title\"] = ...`. **NB:** You must use `\"title\"` as the key for this value.\n",
    "6. **Append this new `dict` to `corpus`:** Still inside the `for`-loop, append your `dict` to the end of your `corpus` list, so that it forms part of your corpus."
   ]
  },
  {
   "cell_type": "code",
   "execution_count": 58,
   "metadata": {
    "collapsed": false,
    "nbgrader": {
     "grade": false,
     "grade_id": "import_corpus",
     "locked": false,
     "schema_version": 3,
     "solution": true,
     "task": false
    }
   },
   "outputs": [
   ],
   "source": [
    "### BEGIN SOLUTION\n",
    "corpus = []\n",
    "for file_name in file_list:\n",
    "    novel_dict = {}\n",
    "    full_path = \"corpus/\" + file_name\n",
    "    with open(full_path, mode='r', errors='ignore') as file:\n",
    "        novel_dict[\"text\"] = file.read()\n",
    "    novel_dict[\"title\"] = file_name\n",
    "    corpus.append(novel_dict)\n",
    "### END SOLUTION"
   ]
  },
  {
   "cell_type": "code",
   "execution_count": 59,
   "metadata": {
    "collapsed": false,
    "nbgrader": {
     "grade": true,
     "grade_id": "import_corpus_test",
     "locked": true,
     "points": 6,
     "schema_version": 3,
     "solution": false,
     "task": false
    }
   },
   "outputs": [
    {
     "name": "stdout",
     "output_type": "stream",
     "text": [
      "Corpus imported from the \"corpus/\" folder. There are 10 texts in the corpus.\n",
      "\n",
      "\"gitanjali.txt\" is text number 4 in the corpus. The first 200 characters are:\n",
      "\n",
      " ***﻿The Project Gutenberg EBook of Gitanjali, by Rabindranath Tagore\n",
      "\n",
      "This eBook is for the use of anyone anywhere at no cost and with\n",
      "almost no restrictions whatsoever.  You may copy it, give it away...\n"
     ]
    }
   ],
   "source": [
    "print(f'Corpus imported from the \"corpus/\" folder. There are {len(corpus)} texts in the corpus.\\n')\n",
    "git_idx = [idx for idx,text in enumerate(corpus) if text[\"title\"] == \"gitanjali.txt\"][0]\n",
    "print(f'\"gitanjali.txt\" is text number {git_idx} in the corpus. The first 200 characters are:\\n\\n {corpus[git_idx][\"text\"][0:200]}...')\n",
    "### BEGIN HIDDEN TESTS\n",
    "assert file_name == file_list[-1]\n",
    "assert full_path == \"corpus/\" + file_list[-1]\n",
    "assert corpus[-1][\"title\"] == file_name\n",
    "with open(full_path, mode='r', errors='ignore') as file:\n",
    "    test_text = file.read()\n",
    "assert corpus[-1][\"text\"] == test_text\n",
    "assert len(corpus) == len(file_list)\n",
    "del test_text\n",
    "### END HIDDEN TESTS"
   ]
  },
  {
   "cell_type": "markdown",
   "metadata": {
    "collapsed": false
   },
   "source": [
    "Expected output:\n",
    "```\n",
    "Corpus imported. There are 10 texts in the corpus.\n",
    "\n",
    "\"gitanjali.txt\" is text number 4 in the corpus. The first 200 characters are:\n",
    "\n",
    " ***The Project Gutenberg EBook of Gitanjali, by Rabindranath Tagore\n",
    "\n",
    "This eBook is for the use of anyone anywhere at no cost and with\n",
    "almost no restrictions whatsoever.  You may copy it, give it away...\n",
    "```\n",
    "**NB:** `\"gitanjali.txt\"` may not necessarily be the 4th text in your corpus. The order that files have in a folder is quite unstable."
   ]
  },
  {
   "cell_type": "markdown",
   "metadata": {
    "collapsed": false
   },
   "source": [
    "Congratulations! You have now imported a whole corpus of texts! You can now apply all of the techniques you have already learned—tokenisation, using the `Text()` object from `nltk`, plotting word frequencies and so on—to many texts easily, allowing you to do larger-scale comparisons.\n",
    "\n",
    "### Practice 3.8: Access data in your corpus\n",
    "\n",
    "In the cell below, you can practice indexing into your corpus. Remember that `corpus` is a `list` and each text inside it is a `dict` with two `keys`: `\"title\"` and `\"text\"`."
   ]
  },
  {
   "cell_type": "code",
   "execution_count": 33,
   "metadata": {
    "collapsed": false
   },
   "outputs": [
    {
     "data": {
      "text/plain": [
       "'\\ufeffThe Project Gutenberg eBook, Jane Eyre, by Charlotte Bronte, Illustrated\\nby F. H. Townsend\\n\\n\\nThis eBook is for the use of anyone anywhere at no cost and with\\nalmost no restrictions whatsoever.  You m'"
      ]
     },
     "execution_count": 33,
     "metadata": {
     },
     "output_type": "execute_result"
    }
   ],
   "source": [
    "# Get the first title:\n",
    "corpus[0][\"title\"]\n",
    "\n",
    "# Look at the first 200 characters of the 5th text:\n",
    "corpus[6][\"text\"][:200]"
   ]
  },
  {
   "cell_type": "markdown",
   "metadata": {
    "collapsed": false
   },
   "source": [
    "### Section 4: The power of regular expressions\n",
    "\n",
    "In this section, you will learn how to use [regular expressions](https://en.wikipedia.org/wiki/Regular_expression) as implemented in Python's [`re` module](https://docs.python.org/3.8/howto/regex.html). Regular expressions are an extremely powerful tool for navigating and manipulating text.\n",
    "\n",
    "You might have noticed that the texts in your corpus begin with very similar words:\n",
    "```\n",
    "print(novel_list[8][\"text\"][0:200])\n",
    "\n",
    "The Project Gutenberg EBook of Moby Dick; or The Whale, by Herman\n",
    "Melville\n",
    "\n",
    "This eBook is for the use of anyone anywhere at no cost and with almost\n",
    "no restrictions whatsoever.  You may copy it, give\n",
    "```\n",
    "They also end with fairly simliar words:\n",
    "```\n",
    "print(novel_list[8][\"text\"][-300:-1])\n",
    "\n",
    "acility:\n",
    "\n",
    "  http://www.gutenberg.org\n",
    "\n",
    "This Web site includes information about Project Gutenberg-tm,\n",
    "including how to make donations to the Project Gutenberg Literary\n",
    "Archive Foundation, how to help produce our new eBooks, and how to\n",
    "subscribe to our email newsletter to hear about new eBooks.\n",
    "```\n",
    "In this section, you will learn how to find and delete this 'boilerplate' from your documents using regular expressions.\n",
    "\n",
    "The crucial concept you need to understand is the idea of a **pattern**. A regular expression is a special type of object in Python, which is defined by a particular pattern. This pattern is a kind of template or detector that the regular expression uses to scan through a string, looking for matches.\n",
    "\n",
    "In the example below, we use the following pattern:\n",
    "```\n",
    "'Kerryn.{0,10}Phelps'\n",
    "```\n",
    "This pattern has four main parts:\n",
    "* `\"Kerryn\"`: looks for the exact characters `K`, `e`, `r`, `r`, `y`, `n` in exactly that order.\n",
    "* `\".\"`: this is a 'wildcard'. It looks for *any* character at all of *any* kind (with one exception, as I explain below).\n",
    "* `\"{0,10}\"`: this little nugget means 'look for 0-10 of whatever came just before this'.\n",
    "* `\"Phelps\"`: looks for the exact characters `P`, `h`, `e`, `l`, `p`, `s` in exactly that order.\n",
    "\n",
    "So let's put this back together. This pattern is quite a simple one, really. It tells the computer to \"Look for K, e, r, r, y and n in exactly that order, then look for 0-10 characters of any kind, followed by the characters P, h, e, l, p, s in exactly that order.\"\n",
    "\n",
    "Regular expression objects have many useful methods. One is `.sub()`, which looks for matches to the pattern, and replaces every match it finds with whatever you tell it to.\n",
    "\n",
    "Execute the cell below to see all this in action:"
   ]
  },
  {
   "cell_type": "code",
   "execution_count": 34,
   "metadata": {
    "collapsed": false
   },
   "outputs": [
    {
     "name": "stdout",
     "output_type": "stream",
     "text": [
      "The type of my_regex is: SRE_Pattern\n",
      "\n",
      "The old sentence was: \"Kerryn Lyndel Phelps is the new member for Wentworth. Most people just call her Kerryn Phelps.\"\n",
      "And the new sentence is: \"Dave Sharma is the new member for Wentworth. Most people just call her Dave Sharma.\"\n"
     ]
    }
   ],
   "source": [
    "import re\n",
    "\n",
    "# First we use the `compile()` function to create a regular expression\n",
    "my_regex = re.compile('Kerryn.{0,10}Phelps')\n",
    "\n",
    "# A regular expression is a type of object, just like a str or a KungFuFighter\n",
    "print(\"The type of my_regex is: \" + type(my_regex).__name__ + \"\\n\")\n",
    "\n",
    "# Here is the sentence we would like to work with:\n",
    "sentence = \"Kerryn Lyndel Phelps is the new member for Wentworth. Most people just call her Kerryn Phelps.\"\n",
    "\n",
    "# Apply my_regex to our sentence, subbing all matches for the new phrase 'Dave Sharma'\n",
    "new_sentence = my_regex.sub('Dave Sharma', sentence)\n",
    "\n",
    "print(f'The old sentence was: \"{sentence}\"')\n",
    "print(f'And the new sentence is: \"{new_sentence}\"')"
   ]
  },
  {
   "cell_type": "markdown",
   "metadata": {
    "collapsed": false
   },
   "source": [
    "Hopefully you can see why regular expressions can be so powerful. If we had just looked for \"Kerryn Phelps\", maybe using the `str.replace()` method, then we would have missed \"Kerryn Lyndel Phelps.\" But because we used a regular expression, we could use \"`.{0,10}`\" allowing us to find instances of Kerryn Phelps's name even when her middle name is also used.\n",
    "\n",
    "Now you are going to create two regular expressions, one that can strip away the boilerplate at the start of a Project Gutenberg ebook, and one that can strip away the boilerplate at the end.\n",
    "\n",
    "To make it easier, you are going to build the regular expression in little pieces under close guidance. The cell below shows how you can do this:"
   ]
  },
  {
   "cell_type": "code",
   "execution_count": 35,
   "metadata": {
    "collapsed": false
   },
   "outputs": [
    {
     "name": "stdout",
     "output_type": "stream",
     "text": [
      "Mr. Peabody ⟶ Lady Peabody\n",
      "Ms Cruella de Ville ⟶ Captain Cruella de Ville\n",
      "Mrs Frances Burney ⟶ Empress Frances Burney\n"
     ]
    }
   ],
   "source": [
    "my_new_regex_part_1 = \"M\" # Find a capital 'M'\n",
    "my_new_regex_part_2 = \"[rs]{1,2}\" # Followed by one or two 'r's and/or 's's\n",
    "my_new_regex_part_3 = \"\\.?\" # Followed by 0-1 full stops\n",
    "\n",
    "my_new_regex = re.compile(my_new_regex_part_1 + my_new_regex_part_2 + my_new_regex_part_3)\n",
    "\n",
    "print(\"Mr. Peabody ⟶ \" + my_new_regex.sub(\"Lady\", \"Mr. Peabody\"))\n",
    "print(\"Ms Cruella de Ville ⟶ \" + my_new_regex.sub(\"Captain\", \"Ms Cruella de Ville\"))\n",
    "print(\"Mrs Frances Burney ⟶ \" + my_new_regex.sub(\"Empress\", \"Mrs Frances Burney\"))"
   ]
  },
  {
   "cell_type": "markdown",
   "metadata": {
    "collapsed": false
   },
   "source": [
    "As you can see, you can define your pattern in multiple string variables, and then just concatenate them to create the full, complex pattern.\n",
    "\n",
    "A few notes on this example:\n",
    "* A backslash \"`\\`\" converts a special character into an ordinary character, e.g. it turns \"`.`\" from meaning \"any character\" into meaning simply \"`.`\". Similarly, it converts `\"{\"`, `\"}\"`, `\"[\"`, `\"]\"` or `\"?\"` into simply the characters that they are. It also converts another backslash into an ordinary character. In a regular expression, \"`\\d`\" normally means \"any digit\", but `\"\\\\d\"` would mean \"a backslash followed by a lower-case `d`\"\n",
    "* Square brackets \"`[]`\" are used to define a \"character class\". So \"`[rs]`\" means \"r or s\", and \"`[A-Z]`\" means \"A,B,C,D,E,F ... W,X,Y or Z\".\n",
    "* The `.sub()` method requires two parameters, and probably in the opposite order to what you expect. If you look back at the example, you'll see that it expects `.sub(replacement, string)`, where `replacement` is what you want the regular expression to substitute when it finds a match, and `string` is the string where you want it to search for matches."
   ]
  },
  {
   "cell_type": "markdown",
   "metadata": {
    "collapsed": false
   },
   "source": [
    "### Assignment 3.9: Clean away the metadata at the start of each file\n",
    "\n",
    "Your first assignment is to write a regex that will find and delete the boilerplate at the beginning of every Project Gutenberg ebook.\n",
    "\n",
    "Every Project Gutenberg ebook begins with some boilerplate. When the metadata is over, a sentence of the following kind appears:\n",
    "```\n",
    "*** START OF THE PROJECT GUTENBERG EBOOK JANE EYRE ***\n",
    "```\n",
    "You can [visit the ebook itself](http://www.gutenberg.org/cache/epub/1260/pg1260.txt) to have a look at the boilerplate at the beginning.\n",
    "\n",
    "Use the cell below to create your first regex, which will strip away the metadata at the beginning. Some tools you can use:\n",
    "\n",
    "* \"`[A-Z]`\" will match any capital letter\n",
    "* \"`.`\" will match any character.*\n",
    "* \"`*`\" is a special character in a Python regex. To look for actual asterisks, you will need to type `\\*`.\n",
    "* `\"{m,n}`\" will match the preceding character m-n times. `{n}` will match it exactly n times. *Hint:* if you want to find three of the same character in a row, use `{3}`\n",
    "* \"`+`\" will match the preceding character 1 or more times.\n",
    "* \"`\\A`\" matches the start of a string. For instance, \"`\\AAthens`\" would match the `\"Athens\"` in `\"Athens is the capital of Greece.\"`, but would find no match in `\"The capital of Greece is Athens.\"`\n",
    "* You can match a space by simply typing a space: ` `.\n",
    "\n",
    "\\* I mentioned above that there is an exception to the rule that \"`.`\" matches any charcter: by default \"`.`\" does *not* match a newline. This would cause problems in this case, because the Gutenberg boilerplate can have many new lines. You will see in the solution I add the extra argument `flags=re.DOTALL` to `re.compile()`. This 'flag' tells the computer that you want the \"`.`\" to match all characters, including newlines."
   ]
  },
  {
   "cell_type": "code",
   "execution_count": 36,
   "metadata": {
    "collapsed": false,
    "nbgrader": {
     "grade": false,
     "grade_id": "start_regex",
     "locked": false,
     "schema_version": 3,
     "solution": true,
     "task": false
    }
   },
   "outputs": [
   ],
   "source": [
    "### BEGIN SOLUTION\n",
    "start_1 = '\\A'   # Find the start of the string\n",
    "start_2 = '.+'   # Match one or more of any character\n",
    "start_3 = '\\*{3}'   # Match the exact phrase '***': i.e. match three asterisks (see hint above)\n",
    "start_4 = ' {0,2}'   # Match 0-2 spaces\n",
    "start_5 = 'START OF'   # Match the exact phrase 'START OF' NB: the licence at the end begins with 'START:'\n",
    "start_6 = '.{0,100}'   # Match 0-100 of any character\n",
    "start_7 = '\\*{3}'   # Match three asterisks again\n",
    "### END SOLUTION"
   ]
  },
  {
   "cell_type": "code",
   "execution_count": 37,
   "metadata": {
    "collapsed": false,
    "nbgrader": {
     "grade": true,
     "grade_id": "start_regex_test",
     "locked": true,
     "points": 7,
     "schema_version": 3,
     "solution": false,
     "task": false
    }
   },
   "outputs": [
    {
     "name": "stdout",
     "output_type": "stream",
     "text": [
      "The metadata of father_goriot.txt is:\n",
      "\n",
      " ******﻿The Project Gutenberg EBook of Father Goriot, by Honore de Balzac\n",
      "\n",
      "This eBook is for the use of anyone anywhere at no cost and with\n",
      "almost no restrictions whatsoever.  You may copy it, give it away or\n",
      "re-use it under the terms of the Project Gutenberg License included\n",
      "with this eBook or online at www.gutenberg.org\n",
      "\n",
      "\n",
      "Title: Father Goriot\n",
      "\n",
      "Author: Honore de Balzac\n",
      "\n",
      "Translator: Ellen Marriage\n",
      "\n",
      "Release Date: March, 1998  [Etext #1237]\n",
      "Posting Date: February 22, 2010\n",
      "Last Updated: November 22, 2016\n",
      "\n",
      "Language: English\n",
      "\n",
      "Character set encoding: UTF-8\n",
      "\n",
      "***START OF THIS PROJECT GUTENBERG EBOOK FATHER GORIOT***\n"
     ]
    }
   ],
   "source": [
    "start_regex = re.compile(start_1 + start_2 + start_3 + start_4 + start_5 + start_6 + start_7, flags=re.DOTALL)\n",
    "print(f'The metadata of {corpus[0][\"title\"]} is:\\n\\n {start_regex.search(corpus[0][\"text\"]).group(0)}')\n",
    "### BEGIN HIDDEN TESTS\n",
    "test_start_regex = re.compile('\\\\A.+\\\\*{3} {0,2}START OF.{0,100}\\\\*{3}', flags=re.DOTALL)\n",
    "test_text = corpus[-1][\"text\"]\n",
    "assert test_start_regex.search(test_text).group(0) == start_regex.search(test_text).group(0)\n",
    "### END HIDDEN TESTS"
   ]
  },
  {
   "cell_type": "markdown",
   "metadata": {
    "collapsed": false
   },
   "source": [
    "Expected output:\n",
    "```\n",
    "The metadata of father_goriot.txt is:\n",
    "\n",
    " ******﻿The Project Gutenberg EBook of Father Goriot, by Honore de Balzac\n",
    "\n",
    "This eBook is for the use of anyone anywhere at no cost and with\n",
    "almost no restrictions whatsoever.  You may copy it, give it away or\n",
    "re-use it under the terms of the Project Gutenberg License included\n",
    "with this eBook or online at www.gutenberg.org\n",
    "\n",
    "\n",
    "Title: Father Goriot\n",
    "\n",
    "Author: Honore de Balzac\n",
    "\n",
    "Translator: Ellen Marriage\n",
    "\n",
    "Release Date: March, 1998  [Etext #1237]\n",
    "Posting Date: February 22, 2010\n",
    "Last Updated: November 22, 2016\n",
    "\n",
    "Language: English\n",
    "\n",
    "Character set encoding: UTF-8\n",
    "\n",
    "***START OF THIS PROJECT GUTENBERG EBOOK FATHER GORIOT***\n",
    "```\n",
    "**NB:** You may see a text other than *Father Goriot*, but in any case, you should see the complete frontmatter, ending with that final triple asterisk."
   ]
  },
  {
   "cell_type": "markdown",
   "metadata": {
    "collapsed": false
   },
   "source": [
    "### Assignment 3.10: Clean away the licence at the end of each file\n",
    "\n",
    "Now you need to do the same for the licence at the end. This regex is much simpler. You simply need to find the phrase `*** END OF` and an infinite number of characters after it (which will take you to the end of the novel)\n",
    "\n",
    "This time, you can call `re.compile()` to create the regex yourself.\n",
    "\n",
    "**NB:** Don't forget the crucial `flags` parameter. Try leaving it off, and you'll see the problem."
   ]
  },
  {
   "cell_type": "code",
   "execution_count": 38,
   "metadata": {
    "collapsed": false,
    "nbgrader": {
     "grade": false,
     "grade_id": "end_regex",
     "locked": false,
     "schema_version": 3,
     "solution": true,
     "task": false
    }
   },
   "outputs": [
   ],
   "source": [
    "### BEGIN SOLUTION\n",
    "end_1 = '\\*{3}'    # Match three asterisks\n",
    "end_2 = ' {0,2}'    # Match 0-2 spaces\n",
    "end_3 = 'END OF'    # Match the exact phrase 'END OF'\n",
    "end_4 = '.+'    # Match one or more of any character\n",
    "end_regex = re.compile(end_1 + end_2 + end_3 + end_4, flags=re.DOTALL)\n",
    "### END SOLUTION"
   ]
  },
  {
   "cell_type": "code",
   "execution_count": 39,
   "metadata": {
    "collapsed": false,
    "nbgrader": {
     "grade": true,
     "grade_id": "end_regex_test",
     "locked": true,
     "points": 3,
     "schema_version": 3,
     "solution": false,
     "task": false
    }
   },
   "outputs": [
    {
     "name": "stdout",
     "output_type": "stream",
     "text": [
      "The licence of pilgrims_progress.txt is:\n",
      "\n",
      " *** END OF THIS PROJECT GUTENBERG EBOOK THE PILGRIM'S PROGRESS***\n",
      "\n",
      "***** This file should be named 131.txt or 131.zip *****\n",
      "This and all associated files of various formats will be found in:\n",
      "        http://www.gutenberg.org/1/3/131/\n",
      "\n",
      "Produced by SeeW\n",
      "\n",
      "[...truncated...]\n",
      "\n",
      "... start at our Web site which has the main PG search facility:\n",
      "\n",
      "     http://www.gutenberg.net\n",
      "\n",
      "This Web site includes information about Project Gutenberg-tm,\n",
      "including how to make donations to the Project Gutenberg Literary\n",
      "Archive Foundation, how to help produce our new eBooks, and how to\n",
      "subscribe to our email newsletter to hear about new eBooks.\n"
     ]
    }
   ],
   "source": [
    "print(f'The licence of {corpus[3][\"title\"]} is:\\n\\n {end_regex.search(corpus[3][\"text\"]).group(0)[0:250]}\\n\\n[...truncated...]\\n\\n...{end_regex.search(corpus[3][\"text\"]).group(0)[-350:-1]}')\n",
    "### BEGIN HIDDEN TESTS\n",
    "test_end_regex = re.compile('\\\\*{3} {0,2}END OF.+', flags=re.DOTALL)\n",
    "test_text = corpus[-1][\"text\"]\n",
    "assert test_end_regex.search(test_text).group(0) == end_regex.search(test_text).group(0)\n",
    "### END HIDDEN TESTS"
   ]
  },
  {
   "cell_type": "markdown",
   "metadata": {
    "collapsed": false
   },
   "source": [
    "Expected output:\n",
    "```\n",
    "The licence of pilgrims_progress.txt is:\n",
    "\n",
    " *** END OF THIS PROJECT GUTENBERG EBOOK THE PILGRIM'S PROGRESS***\n",
    "\n",
    "***** This file should be named 131.txt or 131.zip *****\n",
    "This and all associated files of various formats will be found in:\n",
    "        http://www.gutenberg.org/1/3/131/\n",
    "\n",
    "Produced by SeeW\n",
    "\n",
    "[...truncated...]\n",
    "\n",
    "... start at our Web site which has the main PG search facility:\n",
    "\n",
    "     http://www.gutenberg.net\n",
    "\n",
    "This Web site includes information about Project Gutenberg-tm,\n",
    "including how to make donations to the Project Gutenberg Literary\n",
    "Archive Foundation, how to help produce our new eBooks, and how to\n",
    "subscribe to our email newsletter to hear about new eBooks.\n",
    "```\n",
    "**NB:** You might not see the licence of *Pilgrim's Progress*, but of another text in the corpus."
   ]
  },
  {
   "cell_type": "markdown",
   "metadata": {
    "collapsed": false
   },
   "source": [
    "### Assigment 3.11: Clean up the texts in your corpus\n",
    "\n",
    "When you analyse the texts in your corpus, you probably don't want to include Gutenberg's boilerplate. Now that you have defined your two regexes, it is time to loop over your corpus and clean out the rubbish.\n",
    "\n",
    "You can use the same [re.sub()](https://docs.python.org/3.7/library/re.html#re.sub) method as we used above. To delete any matches found by the regex, we can simply use `\"\"`, also known as the \"empty string\" as the replacement.\n",
    "\n",
    "Your task:\n",
    "1. **Loop over each `text_dict` in your `corpus`:** Use a `for`-loop. Remember that each item in your corpus is a `dict` with two keys, `\"title\"` and `\"text\"`.\n",
    "2. **Apply your `start_regex` and `end_regex` to clean up the start and end of each text:** You should replace the existing text in your corpus with the cleaned-up text. You can use the following code as a model: `text_dict[\"text\"] = one_of_your_regexs.sub(\"\", text_dict[\"text\"])`. You will need at least two lines of code, one where you use `start_regex` to clean up the start, and one where you use `end_regex` to clean up the end."
   ]
  },
  {
   "cell_type": "code",
   "execution_count": 40,
   "metadata": {
    "collapsed": false,
    "nbgrader": {
     "grade": false,
     "grade_id": "clean_texts",
     "locked": false,
     "schema_version": 3,
     "solution": true,
     "task": false
    }
   },
   "outputs": [
   ],
   "source": [
    "### BEGIN SOLUTION\n",
    "for text_dict in corpus:\n",
    "    text_dict[\"text\"] = start_regex.sub('', text_dict[\"text\"])\n",
    "    text_dict[\"text\"] = end_regex.sub('', text_dict[\"text\"])\n",
    "### END SOLUTION"
   ]
  },
  {
   "cell_type": "code",
   "execution_count": 41,
   "metadata": {
    "collapsed": false,
    "nbgrader": {
     "grade": true,
     "grade_id": "clean_texts",
     "locked": true,
     "points": 3,
     "schema_version": 3,
     "solution": false,
     "task": false
    }
   },
   "outputs": [
    {
     "name": "stdout",
     "output_type": "stream",
     "text": [
      "After applying our regexes, the beginning text of erewhon.txt is:\n",
      "\n",
      "\n",
      "\n",
      "\n",
      "\n",
      "Transcribed from the 1910 A. C. Fifield (revised) edition by David Price,\n",
      "email ccx074@coventry.ac.uk\n",
      "\n",
      "\n",
      "\n",
      "\n",
      "\n",
      "EREWHON, OR OVER THE RANGE\n",
      "\n",
      "\n",
      "   \"[Greek text]\"--ARIST.  _Pol_.\n",
      "\n",
      "   \"There is no action save upon a balance of\n",
      "   considerations.\"--_Paraphrase_.\n",
      "\n",
      "\n",
      "\n",
      "\n",
      "PREFACE TO THE FIRST EDITION\n",
      "\n",
      "\n",
      "The Aut...\n"
     ]
    }
   ],
   "source": [
    "print(f'After applying our regexes, the beginning text of {corpus[5][\"title\"]} is:{corpus[5][\"text\"][0:300]}...')\n",
    "### BEGIN HIDDEN TESTS\n",
    "for text_dict in corpus:\n",
    "    assert test_start_regex.search(text_dict[\"text\"]) is None\n",
    "    assert test_end_regex.search(text_dict[\"text\"]) is None\n",
    "### END HIDDEN TESTS"
   ]
  },
  {
   "cell_type": "markdown",
   "metadata": {
    "collapsed": false
   },
   "source": [
    "Expected ouput:\n",
    "```\n",
    "After applying our regexes, the beginning text of erewhon.txt is:\n",
    "\n",
    "\n",
    "\n",
    "\n",
    "\n",
    "Transcribed from the 1910 A. C. Fifield (revised) edition by David Price,\n",
    "email ccx074@coventry.ac.uk\n",
    "\n",
    "\n",
    "\n",
    "\n",
    "\n",
    "EREWHON, OR OVER THE RANGE\n",
    "\n",
    "\n",
    "   \"[Greek text]\"--ARIST.  _Pol_.\n",
    "\n",
    "   \"There is no action save upon a balance of\n",
    "   considerations.\"--_Paraphrase_.\n",
    "\n",
    "\n",
    "\n",
    "\n",
    "PREFACE TO THE FIRST EDITION\n",
    "\n",
    "\n",
    "The Aut...\n",
    "```\n",
    "**NB:** You man not see *Erewhon*, but another text.\n",
    "\n",
    "There is still some cleaning up we could do. As you can see from the 'expected output' just above, some transcription information is often included *after* the starting boilerplate. But this is only a few words, and is unlikely to affect our analysis."
   ]
  },
  {
   "cell_type": "markdown",
   "metadata": {
    "collapsed": false
   },
   "source": [
    "## Section 4: Pre-processing and analysing your corpus\n",
    "\n",
    "Now you have all your texts in a single `list`, with the boilerplate removed. You could now perform exactly the same pre-processing we did last week, tokenising each text and putting it in lowercase. But as we saw last week, our simple method of tokenising using `str.split()` left much to be desired.\n",
    "\n",
    "You could try to write a regular expression that would search for word boundaries. You might like to treat all spaces as word boundaries, using the \"`\\s`\" wildcard. You might also like to treat all punctuation as a boundary, using the \"`\\W`\" wildcard that matched 'non-word' characters. You might let Python find the word boundaries using the \"`\\b`\" wildcard——which matches 'word boudaries' as they are defined in the `re` module itself. You might like to build in advanced features to deal with special cases, like apostrophes that are inside words.\n",
    "\n",
    "Much of this hard work has been done for you, though. In particular, the **Natural Langauge Toolkit** contains a number of tokenisers in the `nltk.tokenize` module:"
   ]
  },
  {
   "cell_type": "code",
   "execution_count": 42,
   "metadata": {
    "collapsed": false
   },
   "outputs": [
    {
     "name": "stdout",
     "output_type": "stream",
     "text": [
      "wordpunct_tokenize: ['Or', ',', 'if', 'I', 'should', 'seem', 'now', 'and', 'then', 'to', 'trifle', 'upon', 'the', 'road', ',—', 'or', 'should', 'sometimes', 'put', 'on', 'a', 'fool', '’', 's', 'cap', 'with', 'a', 'bell', 'to', 'it', ',', 'for', 'a', 'moment', 'or', 'two', 'as', 'we', 'pass', 'along', ',—', 'don', '’', 't', 'fly', 'off', ',—', 'but', 'rather', 'courteously', 'give', 'me', 'credit', 'for', 'a', 'little', 'more', 'wisdom', 'than', 'appears', 'upon', 'my', 'outside', ';—', 'and', 'as', 'we', 'jog', 'on', ',', 'either', 'laugh', 'with', 'me', ',', 'or', 'at', 'me', ',', 'or', 'in', 'short', 'do', 'any', 'thing', ',—', 'only', 'keep', 'your', 'temper', '.']\n",
      "\n",
      "word_tokenize: ['Or', ',', 'if', 'I', 'should', 'seem', 'now', 'and', 'then', 'to', 'trifle', 'upon', 'the', 'road', ',', '—or', 'should', 'sometimes', 'put', 'on', 'a', 'fool', '’', 's', 'cap', 'with', 'a', 'bell', 'to', 'it', ',', 'for', 'a', 'moment', 'or', 'two', 'as', 'we', 'pass', 'along', ',', '—don', '’', 't', 'fly', 'off', ',', '—but', 'rather', 'courteously', 'give', 'me', 'credit', 'for', 'a', 'little', 'more', 'wisdom', 'than', 'appears', 'upon', 'my', 'outside', ';', '—and', 'as', 'we', 'jog', 'on', ',', 'either', 'laugh', 'with', 'me', ',', 'or', 'at', 'me', ',', 'or', 'in', 'short', 'do', 'any', 'thing', ',', '—only', 'keep', 'your', 'temper', '.']\n"
     ]
    }
   ],
   "source": [
    "from nltk.tokenize import wordpunct_tokenize, word_tokenize\n",
    "\n",
    "shandyan_string = \"Or, if I should seem now and then to trifle upon the road,—or should sometimes put on a fool’s cap with a bell to it, for a moment or two as we pass along,—don’t fly off,—but rather courteously give me credit for a little more wisdom than appears upon my outside;—and as we jog on, either laugh with me, or at me, or in short do any thing,—only keep your temper.\"\n",
    "\n",
    "print(\"wordpunct_tokenize: \" + str(wordpunct_tokenize(shandyan_string)))\n",
    "print(\"\\nword_tokenize: \" + str(word_tokenize(shandyan_string)))"
   ]
  },
  {
   "cell_type": "markdown",
   "metadata": {
    "collapsed": false
   },
   "source": [
    "If you wanted to define and use your own regex to tokenize with, you could either use the `nltk`'s handy `regexp_tokenize()` function to apply your regex, or compile your regex and use its `.split()` method, which splits the input string wherever the regex finds a match.\n",
    "\n",
    "The `nltk` also contains more complicated tokenisers that rely on statistical models to work out where the word boundaries are. You can check it all out [on the website](https://www.nltk.org/api/nltk.tokenize.html)."
   ]
  },
  {
   "cell_type": "markdown",
   "metadata": {
    "collapsed": false
   },
   "source": [
    "### Assignment 3.12: Tokenise your corpus using a function from the NLTK\n",
    "\n",
    "Looking at the output of the cell above, choose which of the NLTK's regular-expression-based tokenisers you would like to use, `word_tokenize()` or `wordpunct_tokenize()`. Then loop over your corpus and tokenise it.\n",
    "\n",
    "Your task:\n",
    "1. **Loop over each `text_dict` in your corpus.**\n",
    "2. **Apply your chosen tokeniser to the text:** Inside the `for`-loop, tokenise the `\"text\"` and save the new list of tokens to the `dict` under a new key, `\"tokens\"`.\n",
    "\n",
    "If you make a mistake, remember you can just re-execute the cells above this one to re-import your corpus afresh."
   ]
  },
  {
   "cell_type": "code",
   "execution_count": 43,
   "metadata": {
    "collapsed": false,
    "nbgrader": {
     "grade": false,
     "grade_id": "tokenise_corpus",
     "locked": false,
     "schema_version": 3,
     "solution": true,
     "task": false
    }
   },
   "outputs": [
   ],
   "source": [
    "### BEGIN SOLUTION\n",
    "for text_dict in corpus:\n",
    "    text_dict[\"tokens\"] = wordpunct_tokenize(text_dict[\"text\"])\n",
    "### END SOLUTION"
   ]
  },
  {
   "cell_type": "code",
   "execution_count": 44,
   "metadata": {
    "collapsed": false,
    "nbgrader": {
     "grade": true,
     "grade_id": "tokenise_corpus",
     "locked": true,
     "points": 2,
     "schema_version": 3,
     "solution": false,
     "task": false
    }
   },
   "outputs": [
    {
     "name": "stdout",
     "output_type": "stream",
     "text": [
      "The first twenty words of north_and_south.txt are:\n",
      "\n",
      "['Produced', 'by', 'Charles', 'Aldarondo', 'NORTH', 'AND', 'SOUTH', 'by', 'ELIZABETH', 'GASKELL', 'First', 'published', 'in', 'serial', 'form', 'in', '_Household', 'Words_', 'in', '1854']\n"
     ]
    }
   ],
   "source": [
    "print(f\"The first twenty words of {corpus[2]['title']} are:\\n\\n{corpus[2]['tokens'][:20]}\")\n",
    "### BEGIN HIDDEN TESTS\n",
    "test_word_tokens = word_tokenize(corpus[2]['text'])\n",
    "test_wp_tokens = wordpunct_tokenize(corpus[2]['text'])\n",
    "assert corpus[2]['tokens'][:100] == test_word_tokens[:100] or corpus[2]['tokens'][:100] == test_wp_tokens[:100]\n",
    "del test_word_tokens, test_wp_tokens\n",
    "### END HIDDEN TESTS"
   ]
  },
  {
   "cell_type": "markdown",
   "metadata": {
    "collapsed": false
   },
   "source": [
    "Now you have a set of 10 cleaned-up, tokenised texts. The cells below give some examples of how you can make use of this corpus to do some text analysis using NLTK's handy [`Text()` object](https://www.nltk.org/api/nltk.html#nltk.text.Text) from **Week 1**, and the methods we looked at in **Week 2**. Do feel free to play around and see what you think about the different texts in the corpus."
   ]
  },
  {
   "cell_type": "code",
   "execution_count": 45,
   "metadata": {
    "collapsed": false
   },
   "outputs": [
   ],
   "source": [
    "from nltk.text import Text\n",
    "\n",
    "for text_dict in corpus:\n",
    "    text_dict[\"nltk_text\"] = Text(text_dict['tokens'])"
   ]
  },
  {
   "cell_type": "code",
   "execution_count": 46,
   "metadata": {
    "collapsed": false
   },
   "outputs": [
    {
     "name": "stdout",
     "output_type": "stream",
     "text": [
      "\"house\" in \"father_goriot.txt\"\n"
     ]
    },
    {
     "name": "stdout",
     "output_type": "stream",
     "text": [
      "world room man money head father widow morning countess student\n",
      "Similar words: None\n",
      "\n",
      "\"house\" in \"such_is_life.txt\"\n"
     ]
    },
    {
     "name": "stdout",
     "output_type": "stream",
     "text": [
      "time river man day saddle station hut fence other horse\n",
      "Similar words: None\n",
      "\n",
      "\"house\" in \"north_and_south.txt\"\n"
     ]
    },
    {
     "name": "stdout",
     "output_type": "stream",
     "text": [
      "room time way day place life world door moment man\n",
      "Similar words: None\n",
      "\n",
      "\"house\" in \"pilgrims_progress.txt\"\n"
     ]
    },
    {
     "name": "stdout",
     "output_type": "stream",
     "text": [
      "way man king gate place hill name city fair river\n",
      "Similar words: None\n",
      "\n",
      "\"house\" in \"gitanjali.txt\"\n",
      "life heart door friend darling all god father journey mind\n",
      "Similar words: None\n",
      "\n",
      "\"house\" in \"erewhon.txt\"\n"
     ]
    },
    {
     "name": "stdout",
     "output_type": "stream",
     "text": [
      "country time machines subject other people book wind water streets\n",
      "Similar words: None\n",
      "\n",
      "\"house\" in \"jane_eyre.txt\"\n"
     ]
    },
    {
     "name": "stdout",
     "output_type": "stream",
     "text": [
      "room time day door world moment hall heart fire table\n",
      "Similar words: None\n",
      "\n",
      "\"house\" in \"corinne.txt\"\n"
     ]
    },
    {
     "name": "stdout",
     "output_type": "stream",
     "text": [
      "day heart world soul love mind country life earth land\n",
      "Similar words: None\n",
      "\n",
      "\"house\" in \"moby_dick.txt\"\n"
     ]
    },
    {
     "name": "stdout",
     "output_type": "stream",
     "text": [
      "whale sea ship boat time body side man deck voyage\n",
      "Similar words: None\n",
      "\n",
      "\"house\" in \"pride_and_prejudice.txt\"\n"
     ]
    },
    {
     "name": "stdout",
     "output_type": "stream",
     "text": [
      "room subject family other world evening time country letter day\n",
      "Similar words: None\n",
      "\n"
     ]
    }
   ],
   "source": [
    "# Have a look at words that are used in a similar context:\n",
    "chosen_word = \"house\"\n",
    "for td in corpus:\n",
    "    print(f'\"{chosen_word}\" in \"{td[\"title\"]}\"')\n",
    "    similar_words = td[\"nltk_text\"].similar(chosen_word, num=10)\n",
    "    print(f'Similar words: {similar_words}\\n')"
   ]
  },
  {
   "cell_type": "code",
   "execution_count": 47,
   "metadata": {
    "collapsed": false
   },
   "outputs": [
    {
     "data": {
      "image/png": "[encoded data removed]",
      "text/plain": [
       "<Figure size 720x2880 with 10 Axes>"
      ]
     },
     "execution_count": 47,
     "metadata": {
      "image/png": {
       "height": 2220,
       "width": 608
      },
      "needs_background": "light"
     },
     "output_type": "execute_result"
    }
   ],
   "source": [
    "# Gendered language across all the novels\n",
    "from matplotlib import pyplot as plt\n",
    "\n",
    "# You can create multiple plots at once using plt.subplots()\n",
    "fig, axs = plt.subplots(10, figsize=(10,40))\n",
    "x_values = ['she', 'he']\n",
    "\n",
    "# We didn't put our text in lower case before we tokenised it, so we will need to search for 'She' and 'she', etc.\n",
    "for idx,text_dict in enumerate(corpus):\n",
    "    word_count = len(text_dict['tokens'])\n",
    "\n",
    "    # Change this code to look for different words (you can do more than two)\n",
    "    she = text_dict['tokens'].count('she') + text_dict['tokens'].count('She')\n",
    "    he = text_dict['tokens'].count('he') + text_dict['tokens'].count('He')\n",
    "    y_values = [she/word_count*1000, he/word_count*1000]\n",
    "\n",
    "    # If you do search for different words, you might like to change the title of the plot:\n",
    "    axs[idx].set_title(\"Gendered language in \" + text_dict['title'])\n",
    "\n",
    "    axs[idx].bar(x_values, y_values)\n",
    "    axs[idx].set_ylabel('Word freq (per 1000 words)')\n"
   ]
  },
  {
   "cell_type": "markdown",
   "metadata": {
    "collapsed": false
   },
   "source": [
    "## Conclusion\n",
    "\n",
    "By completing this notebook, you have learned\n",
    "* How to use `lists` and `dicts` to structure your data\n",
    "* How to use `for`-loops to iterate over data structures\n",
    "* How to use regular expressions to search through and manipulate text\n",
    "* A better method for tokenisation, using existing functions in `nltk`\n",
    "\n",
    "Ther is no particular extension activity this week, but now that you have imported the corpus, you could try manipulating the example cells above to do different kinds of analysis. Next week, we will anlayse an entire corpus at once, in a more abstract way, in order to attribute an anonymous text to its author."
   ]
  }
 ],
 "metadata": {
  "kernelspec": {
   "display_name": "Python 3 (system-wide)",
   "language": "python",
   "metadata": {
    "cocalc": {
     "description": "Python 3 programming language",
     "priority": 100,
     "url": "https://www.python.org/"
    }
   },
   "name": "python3"
  },
  "language_info": {
   "codemirror_mode": {
    "name": "ipython",
    "version": 3
   },
   "file_extension": ".py",
   "mimetype": "text/x-python",
   "name": "python",
   "nbconvert_exporter": "python",
   "pygments_lexer": "ipython3",
   "version": "3.6.9"
  }
 },
 "nbformat": 4,
 "nbformat_minor": 4
}