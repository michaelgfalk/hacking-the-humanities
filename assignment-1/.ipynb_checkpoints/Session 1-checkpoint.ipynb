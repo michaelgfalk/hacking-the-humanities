{
 "cells": [
  {
   "cell_type": "markdown",
   "metadata": {},
   "source": [
    "# DH Downunder: Distant Reading\n",
    "\n",
    "## Notebook 1: Welcome!\n",
    "\n",
    "Welcome to the Distant Reading stream of *Dh Downunder 2018*. In this first session, we are going to cover some of the basics of programming in Python, particularly using the Jupyter Notebooks interface.\n",
    "\n",
    "At the end of this notebook, you will know how to use Jupyter's features to code interactively in Python, you will know how to import and export data, and you will have conducted your first distant reading of a corpus of texts.\n",
    "\n",
    "## Section 1: Programming in Python using Jupyter notebooks\n",
    "\n",
    "Jupyter Notebooks provide an interactive programming environment, where you can write code, run it to test its output, and annotate it so it is easier for a human to interpret.\n",
    "\n",
    "A notebook consists of cell, which can be of two main types:\n",
    "* **Markdown cells:** Markdown cells (like this one) contain text and images. They are where you can keep your 'notes' about the program you are writing. 'Markdown' is an extremely simple programming language for laying out documents. If you double click on this cell, you can see and edit the underlying markdown. Simply click <kbd>Ctrl</kbd> + <kbd>Enter</kbd> to return to the rendered view.\n",
    "* **Code cells:** Code cells contain Python code you can execute. If you want to run some Python code, create or click on a code cell, write the code if it's not already there, then click <kbd>Ctrl</kbd> + <kbd>Enter</kbd> and you will see the output just below."
   ]
  },
  {
   "cell_type": "markdown",
   "metadata": {},
   "source": [
    "### Exercise 1.1: Edit this markdown cell\n",
    "\n",
    "Visit [this Github guide](https://guides.github.com/features/mastering-markdown/) to find the basic syntax of markdown. Then double-click on this cell to edit it, and see if you can do the following:\n",
    "\n",
    "Turn me into a header 2\n",
    "\n",
    "Put the word 'bongo' in italics and the phrase 'topknot pigeon' in bold.\n",
    "\n",
    "Make\n",
    "us\n",
    "into\n",
    "a\n",
    "bullet\n",
    "point\n",
    "list\n",
    "\n",
    "Turn these fruits into a numbered list:\n",
    "Durian\n",
    "Pawpaw\n",
    "Breadfruit\n",
    "\n",
    "Have fun! If you want a more advanced challenge, you might try to include a code block, a blockquote, a hyperlink or a table. If you want to see the results of your completed markdown cell at any time, just click <kbd>Ctrl</kbd> + <kbd>Enter</kbd>."
   ]
  },
  {
   "cell_type": "markdown",
   "metadata": {},
   "source": [
    "### Exercise 1.2: Your first Python program.\n",
    "\n",
    "Well, this may or may not be your first Python program, but it is definitely your first one for this class. The cell below is a Python cell. There are two parts to the exercise:\n",
    "1. **Make your computer say something cool:** use the `print()` function to make your computer say something cool. Simply type `print()`, and then inside the parentheses, type a phrase in inverted commas or quotation marks, e.g. `'I am Inigo Montoya'`. Then hit <kbd>Ctrl</kbd> + <kbd>Enter</kbd> to see the output of your program.\n",
    "2. **Describe your program with a comment:** use a hashtag to indicate comments, e.g. `#this is a comment`. It is good practice to annotate your programs with comments, so you can understand what you've done when you return to them."
   ]
  },
  {
   "cell_type": "code",
   "execution_count": null,
   "metadata": {},
   "outputs": [],
   "source": [
    "# YOUR CODE HERE:\n",
    "\n",
    "\n",
    "# END OF YOUR CODE"
   ]
  },
  {
   "cell_type": "markdown",
   "metadata": {},
   "source": [
    "### Exercise 1.3: Adding a new cell\n",
    "\n",
    "For this exercise, you will add a new cell and write a slightly more complex program.\n",
    "\n",
    "* **Add a cell:** Click on the <kbd>+</kbd> button at the top of the screen. Make sure it is a 'code' cell. If the cell appears in the wrong place, just use the <kbd>↑</kbd> and <kbd>↓</kbd> buttons at the top of the screen to move it to where you would like it to be. \n",
    "\n",
    "For this new program, you are going to define a variable and print it as part of a sentence.\n",
    "* **Define a variable:** Simply type a name for your variable, e.g. `my_var`, then type `=`, and then type the value you wish to assign to your variable. This can be an integer, e.g. `1`, a floating point number, e.g `3.14`, or a string, e.g. `'Songs of a Sentimental Bloke'`.\n",
    "* **Print it as part of a sentence:** Use a [formatted string](https://docs.python.org/3/reference/lexical_analysis.html#f-strings). To use a formatted string, you need to add an `f` just before the string begins. This lets you include your variable in the string by using curly braces: `{}`, e.g. `print(f'I wish I had {my_var} dollars!')`."
   ]
  },
  {
   "cell_type": "markdown",
   "metadata": {},
   "source": [
    "## Section 2: First steps in distant reading\n",
    "\n",
    "Now you are a master of Python and of Jupyter notebooks, it is time to start working with some text data.\n",
    "\n",
    "From a computer's perspective, a text is simply a string of characters: `We slept in what had once been the gymnasium.`. In this and the workshops to follow, we will learn how to take a string of charactrs, and transform them so a computer can find interesting patterns in them.\n",
    "\n",
    "### Exercise 2.1: Tokenisation\n",
    "\n",
    "The most basic operation in text analysis is 'tokenisation', or splitting a string into individual words or 'tokens'. Before you execute the cell below, try to predict what the ouput will be:"
   ]
  },
  {
   "cell_type": "code",
   "execution_count": null,
   "metadata": {},
   "outputs": [],
   "source": [
    "my_string = 'We slept in what had once been the gymnasium.'\n",
    "my_tokens = my_string.split()\n",
    "print(f'String before tokenisation: {my_string}')\n",
    "print(f'String after tokenisation: {my_tokens}')"
   ]
  },
  {
   "cell_type": "markdown",
   "metadata": {},
   "source": [
    "You can use the `.split()` method in this way to tokenise any string in Python. The square brackets `[...]` mean that your tokenised sentence is now a list of strings. You can get a particular word from a list using indexing. Python, like many programming languages, counts from 0. If you had a list of five words called `my_five_words`, you could get the first word by typing `my_five_words[0]`, and the fifth word by typing `my_five_words[4]`. You can also count from the item in the list using negative numbers. So you could also get the fifth word by typing `my_five_words[-1]`.\n",
    "\n",
    "In the cell below, type in your own sentence (maybe your favourite line of poetry, a line from your favourite film, or a quote from your favourite poststructuralist theorist), tokenise it, then get the first word, the third word and the last word.\n",
    "\n",
    "When you're done, try putting different sentences into `my_string`. In particular, try a sentence that has extra spaces between the words or unorthodox punctuation. Can you see any limitations of using `.split()` to tokenise a string?"
   ]
  },
  {
   "cell_type": "code",
   "execution_count": null,
   "metadata": {},
   "outputs": [],
   "source": [
    "# YOUR CODE HERE:\n",
    "my_string = \n",
    "my_tokens = \n",
    "\n",
    "first_word = \n",
    "third_word = \n",
    "last_word = \n",
    "# END OF YOUR CODE\n",
    "\n",
    "print(f'My sentence is: {my_string}')\n",
    "print(f'The first word is \"{first_word}\".')\n",
    "print(f'The third word is \"{third_word}\".')\n",
    "print(f'The last word is \"{last_word}\".')"
   ]
  },
  {
   "cell_type": "markdown",
   "metadata": {},
   "source": [
    "### Exercise 2.2: Capitalisation\n",
    "\n",
    "In distant reading, it is also very common to strip out capital letters. This is because as far as a computer is concerned, `q` and `Q` are completely different letters. You can check this by running the cell below. The `==` operator means 'is the same as'.\n",
    "\n",
    "If you like, you can try typing in some different words and see what Python thinks. What does it think of the two French words `ou` (or) and `où` (where)?"
   ]
  },
  {
   "cell_type": "code",
   "execution_count": null,
   "metadata": {},
   "outputs": [],
   "source": [
    "'Enterprise' == 'enterprise'"
   ]
  },
  {
   "cell_type": "markdown",
   "metadata": {},
   "source": [
    "Luckily there is an easy solution to this problem, and in the cell below you are going to find it. You have two tasks:\n",
    "* **Put the supplied string into lower case:** Visit the [string methods](https://docs.python.org/3/library/stdtypes.html#string-methods) page of the Python documentation and find a method like `.split()` that will put all the characters in lower case.\n",
    "* **Count the number of times 'the' appears in the string:** Visit the [list methods](https://docs.python.org/3/tutorial/datastructures.html) page of the Python documentation and find a method that will let you count the number of times the word 'the' appears in your list of tokens.\n",
    "\n",
    "When you have completed these two tasks, you can try:\n",
    "* Finding methods to put your string into UPPERCASE or Title Case.\n",
    "* Counting how many times 'the' appears if you don't put the string in lower case"
   ]
  },
  {
   "cell_type": "code",
   "execution_count": null,
   "metadata": {},
   "outputs": [],
   "source": [
    "sentence = 'He—for there could be no doubt of his sex, though the fashion of the time did something to disguise it—was in the act of slicing at the head of a Moor which swung from the rafters.'\n",
    "\n",
    "# YOUR CODE HERE\n",
    "\n",
    "# Put the sentence in lower case:\n",
    "lower_case = \n",
    "\n",
    "# Tokenise the new lower-case sentence:\n",
    "token_list = \n",
    "\n",
    "# Count the number of times 'the' appears in the list of tokens:\n",
    "num_the = \n",
    "\n",
    "# END OF YOUR CODE\n",
    "print(f'The original sentence was:\\n\"{sentence}\"\\n')\n",
    "print(f'After lowering the case, it became:\\n\"{lower_case}\"\\n')\n",
    "print(f'After tokenisation, it became:\\n{token_list}\\n')\n",
    "print(f'The word \"the\" appears {num_the} times in the sentence.')"
   ]
  },
  {
   "cell_type": "markdown",
   "metadata": {},
   "source": [
    "## Section 3: Importing data, analysing text\n",
    "\n",
    "In the folder for this session, I have provided the .txt files of two novels, Charlotte Brontë's *Jane Eyre* and the Australian classic, *Such is Life* by [Joseph Furphy](http://adb.anu.edu.au/biography/furphy-joseph-6261).\n",
    "\n",
    "It is quite easy to import a whole novel as a single long string into Python. In this final part of the notebook, you are going to import these two novels and compare some patterns in their language.\n",
    "\n",
    "### Exercise 3.1: Import the two novels.\n",
    "\n",
    "To import the novels, you will need to use the `open()` function. This command tells Python to connect to a file so it can read or write to it. Usually this is done using a `with` construction. This is somewhat complicated. For now, just trust me that it works.\n",
    "\n",
    "The `open()` function requires you to give it two pieces of information. It needs to know which file you want it to open, and what you would like Python to do with the file. For example, if you had done some analysis, and wanted to save it to a file called 'analysis_results.txt', you would use the command:\n",
    "```python\n",
    "open('analysis_results.txt', mode = 'w')\n",
    "```\n",
    "The `mode = 'w'` argument tells Python that you want to *write* to this file. You can [check the documentation](), or maybe just guess, what you would put if you want Python to *read* the file instead.\n",
    "\n",
    "Your first exercise is to use open to find the novels and read in the text:\n",
    "* **Find the novels:** The novels are stored in the files `jane_eyre.txt` and `such_is_life.txt`.\n",
    "* **Read in the text:** Set `open()` to the correct mode so it *reads* rather than *writes* the files. *If you put `mode = 'w'` you will delete the text files. If you do this accidentally, I can provide a backup.*"
   ]
  },
  {
   "cell_type": "code",
   "execution_count": null,
   "metadata": {},
   "outputs": [],
   "source": [
    "# YOUR CODE HERE\n",
    "\n",
    "# Import Jane Eyre\n",
    "with open( , mode = , encoding = 'utf-8') as file1:\n",
    "    jane_eyre = file1.read()\n",
    "\n",
    "# Import Such is Life\n",
    "with open( , mode = , encoding = 'utf-8') as file2:\n",
    "    such_is_life = file2.read()\n",
    "\n",
    "# END OF YOUR CODE\n",
    "\n",
    "print(f'jane_eyre is a string {len(jane_eyre):,} characters long.')\n",
    "print(f'such_is_life is a string {len(such_is_life):,} characters long.')"
   ]
  },
  {
   "cell_type": "markdown",
   "metadata": {},
   "source": [
    "### Exercise 3.2: Decapitalise and tokenise the novels\n",
    "\n",
    "Looking at your code above, put the two novels in lower case and then tokenise them.\n",
    "\n",
    "When you have done this, use the `len()` function on the the tokenised version of each novel to calculate their word counts. You can find out about the function [here](https://docs.python.org/3/library/functions.html#len). *NB: `len()` is a 'function' like `open()` or `print()`, not a 'method' like `.split()`.*"
   ]
  },
  {
   "cell_type": "code",
   "execution_count": null,
   "metadata": {},
   "outputs": [],
   "source": [
    "# YOUR CODE HERE\n",
    "\n",
    "# Pre-process Jane Eyre\n",
    "jane_eyre_lower = \n",
    "jane_eyre_tokens = \n",
    "jane_eyre_word_count = \n",
    "\n",
    "# Pre-process Such is Life\n",
    "such_is_life_lower = \n",
    "such_is_life_tokens = \n",
    "such_is_life_word_count = \n",
    "\n",
    "# END OF YOUR CODE\n",
    "\n",
    "print(f'Jane Eyre is {jane_eyre_word_count:,} words long.')\n",
    "print(f'Such is Life is {such_is_life_word_count:,} words long.')"
   ]
  },
  {
   "cell_type": "markdown",
   "metadata": {},
   "source": [
    "### Exercise 3.3: Gendered language\n",
    "\n",
    "Now that you have converted each novel into a list of words, you can begin to do some basic analysis. Charlotte Brontë is one of the great feminist novelists of the nineteenth century, while Joseph Furphy is more famous for his democratic nationalism. Both suffered from typical nineteenth-century attitudes towards race. Can we find any evidence of this using basic distant reading?\n",
    "\n",
    "In this part of the notebook, we are going to use the `pyplot` module from the package `matplotlib`. You should have installed `matplotlib` as part of your preparation for this workshop. This module allows you to create many common kinds of graphs with ease.\n",
    "\n",
    "The basic way to load a module from a package is like this:\n",
    "```python\n",
    "from package import module as nickname\n",
    "```\n",
    "As we will see in later sessions, you can also just import an entire package if you like, which requires a slightly different command. It is usually a bit more convenient just to import the modules you need, for reasons we will also see.\n",
    "\n",
    "Use the next cell to import the `pyplot` module of `matplotlib`, and give it the nickname `plt` for convenience."
   ]
  },
  {
   "cell_type": "code",
   "execution_count": null,
   "metadata": {},
   "outputs": [],
   "source": [
    "# YOUR CODE HERE\n",
    "\n",
    "# END OF YOUR CODE\n",
    "\n",
    "# This line is sometimes necessary to allow plots to appear in Jupyter Notebooks\n",
    "%matplotlib inline\n",
    "\n",
    "plt.xlim((0,10))\n",
    "plt.ylim((0,10))\n",
    "plt.scatter([5,5,4,3,6,6,7,9,1,1,2,3,5,6,5], [9,8,7,6,5,4,3,4,5,6,5,4,2,3,4])\n",
    "plt.title(\"A totally random scatterplot.\")\n",
    "plt.xlabel(\"Meaningless variable 1\")\n",
    "plt.ylabel(\"Meaningless variable 2\")\n",
    "plt.show()"
   ]
  },
  {
   "cell_type": "markdown",
   "metadata": {},
   "source": [
    "Now that you have imported `pyplot` and both the novels, we can start to investigate gendered language in the two novels, and display the results graphically.\n",
    "\n",
    "In the next cell, find the number of times that Brontë and Furphy use the words 'he' and 'she'. Fill in the curly braces `{...}` in the f-strings to display the results in a human-readable format."
   ]
  },
  {
   "cell_type": "code",
   "execution_count": null,
   "metadata": {},
   "outputs": [],
   "source": [
    "# YOUR CODE HERE\n",
    "\n",
    "# Count 'he' and 'she' in Jane Eyre:\n",
    "bronte_he = \n",
    "bronte_she = \n",
    "\n",
    "# Count 'he' and 'she' in Such is Life:\n",
    "furphy_he = \n",
    "furphy_she = \n",
    "\n",
    "print(f'Charlotte Brontë uses the word \"he\" { } times, and \"she\" { } times.')\n",
    "print(f'Joseph Furphy uses the word \"he\" { } times, and \"she\" { } times.')\n",
    "\n",
    "# END CODE HERE"
   ]
  },
  {
   "cell_type": "markdown",
   "metadata": {},
   "source": [
    "Now you can display the results in a bar graph using `plt.bar()`. This function requires two arguments in the parentheses:\n",
    "1. A list of numbers giving the height for each bar. You have four variables that you wish to plot. In the next cell, put the four of them into a list by enclosing them in square brackets `[number_1, number_2, ...]`. Then feed this list to `plt.bar()` using the keyword `height = `.\n",
    "2. A list of labels for the bars, which you can feed to `plt.bar()` using the keyword `tick_label = `. You should make a list of labels by using square brackets and typing the string for each label into the list, e.g. `[\"label 1\", \"label 2\", ...]` Make sure that your list of variables and your list of labels are in the same order, so that the plot is correct!\n",
    "\n",
    "Finally, give your plot a title, and label the y axis using `plt.title()` and `plt.ylabel()`."
   ]
  },
  {
   "cell_type": "code",
   "execution_count": null,
   "metadata": {},
   "outputs": [],
   "source": [
    "# YOUR CODE HERE:\n",
    "\n",
    "variable_list = []\n",
    "label_list = []\n",
    "\n",
    "plt.bar(x = [1,2,3,4], height = , tick_label = )\n",
    "plt.title()\n",
    "plt.ylabel()\n",
    "\n",
    "# END OF YOUR CODE\n",
    "\n",
    "plt.show()"
   ]
  },
  {
   "cell_type": "markdown",
   "metadata": {},
   "source": [
    "Of course, this comparison could be unfair, because *Such is Life* has fewer words that *Jane Eyre*. It would be more accurate to compare the relative frequency of the words 'he' and 'she' in each novel. An easy way to do this is to divide the raw word counts by the total words in each novel. You have already calculated the total words for each novel above. You can use `/` to do the division."
   ]
  },
  {
   "cell_type": "code",
   "execution_count": null,
   "metadata": {},
   "outputs": [],
   "source": [
    "# YOUR CODE HERE:\n",
    "\n",
    "# Divide 'he' and 'she' in Jane Eyre by the total words in Jane Eyre:\n",
    "bronte_he_relative = \n",
    "bronte_she_relative = \n",
    "\n",
    "# Divide 'he' and 'she' in Such is Life by the total words in Such is Life:\n",
    "furphy_he_relative = \n",
    "furphy_she_relative = \n",
    "\n",
    "# Create lists for bar graph:\n",
    "relative_variable_list = []\n",
    "relative_label_list = [] # HINT: if you have put the variables in the same order, you can use your old label_list\n",
    "\n",
    "# Create your new graph:\n",
    "plt.bar(x = [1,2,3,4], height = , tick_label = )\n",
    "plt.title()\n",
    "plt.ylabel()\n",
    "\n",
    "# END OF YOUR CODE\n",
    "\n",
    "plt.show()"
   ]
  }
 ],
 "metadata": {
  "kernelspec": {
   "display_name": "Python 3",
   "language": "python",
   "name": "python3"
  },
  "language_info": {
   "codemirror_mode": {
    "name": "ipython",
    "version": 3
   },
   "file_extension": ".py",
   "mimetype": "text/x-python",
   "name": "python",
   "nbconvert_exporter": "python",
   "pygments_lexer": "ipython3",
   "version": "3.7.0"
  }
 },
 "nbformat": 4,
 "nbformat_minor": 2
}
