{
 "cells": [
  {
   "cell_type": "markdown",
   "metadata": {},
   "source": [
    "# Hacking the Humanities\n",
    "\n",
    "## Welcome!\n",
    "\n",
    "Welcome to *Hacking the Humanities*. This is your first Jupyter Notebook, which is designed to get you used to the course's online programming environment.\n",
    "\n",
    "All the programming in this course will be done in Python. Python is [one of the world's most popular programming languages](https://www.tiobe.com/tiobe-index/), and is particularly popular in academia, due to its easy learning curve and huge library of community-developed packages that enable all kinds of extra functionality.\n",
    "\n",
    "I hope you enjoy learning Python.\n",
    "\n",
    "Jupyter is a web-based platform that allows you to write interactive documents. There can be text cells (like this one), and code cells, where you can type in some Python code, press <kbd>Ctrl</kbd> + <kbd>Enter</kbd>, and see what happens. You can use Jupyter Notebooks to write essays or articles that incorporate data analysis, which you can then publish online or export as a pdf for printing. Jupyter is also an ideal environment for testing out your ideas, because it is easy to write and test little chunks of code one at a time before moving on. And as you progress as a programmer, you can use Jupyter with other programming languages like Julia or R. Getting used to Jupyter truly is a transferable skill.\n",
    "\n",
    "—**Michael Falk**, [Lecturer in Eighteenth-Century Studies, School of English](https://www.kent.ac.uk/english/people/2706/www.kent.ac.uk/english/people/2706/falk-michael), "
   ]
  },
  {
   "cell_type": "markdown",
   "metadata": {},
   "source": [
    "## Programming in Python using Jupyter notebooks\n",
    "\n",
    "As mentioned above, Jupyter Notebooks provide an interactive programming environment, where you can write code, run it to test its output, and annotate it so it is easier for a human to interpret.\n",
    "\n",
    "A notebook consists of cell, which can be of two main types:\n",
    "* **Markdown cells:** Markdown cells (like this one) contain text and images. They are where you can keep your 'notes' about the program you are writing. 'Markdown' is an extremely simple programming language for laying out documents. If you double click on this cell, you can see and edit the underlying markdown. Simply click <kbd>Ctrl</kbd> + <kbd>Enter</kbd> (Windows) or <kbd>Control</kbd> + <kbd>Enter</kbd> (Mac) to return to the rendered view.\n",
    "* **Code cells:** Code cells contain Python code you can execute. If you want to run some Python code, create or click on a code cell, write the code if it's not already there, then click <kbd>Ctrl</kbd>/<kbd>Control</kbd> + <kbd>Enter</kbd> and you will see the output just below.\n",
    "\n",
    "There is a code cell just below. Click on it and then press <kbd>Ctrl</kbd>/<kbd>Control</kbd> + <kbd>Enter</kbd> to see what it does."
   ]
  },
  {
   "cell_type": "code",
   "execution_count": null,
   "metadata": {},
   "outputs": [],
   "source": [
    "28 + 31"
   ]
  },
  {
   "cell_type": "markdown",
   "metadata": {},
   "source": [
    "## Structure of the Course Notebooks\n",
    "\n",
    "This course comprises four modules, through which you will receive a general introduction to Python, and learn how to do some text analysis. Text analysis (also known as Natural Language Processing) is an extremely useful skill: not only can it be applied in literary research, but it also runs many of the online services you would be familiar with, such as Facebook's ad targeting, the NSA's notorious surveillance program (PRISM), and the search functionality in many of the search engines and databases you have used throughout your degree.\n",
    "\n",
    "Each notebook contains three kinds of exercise: practices, assignments, and extension activities. Practices are to ease you into a topic. Assignments are the marked component of the course, which you can use to check your progress. Extensions are additional activities you can undergo to extend yourself if you wish to.\n",
    "\n",
    "Below is an example of each kind of activity."
   ]
  },
  {
   "cell_type": "markdown",
   "metadata": {},
   "source": [
    "### Practice 0.1: Edit this markdown cell\n",
    "\n",
    "Visit [this Github guide](https://guides.github.com/features/mastering-markdown/) to find the basic syntax of markdown. Then double-click on this cell to edit it, and see if you can do the following:\n",
    "\n",
    "Turn me into a header 2\n",
    "\n",
    "Put the word 'bongo' in italics and the phrase 'topknot pigeon' in bold.\n",
    "\n",
    "Make\n",
    "us\n",
    "into\n",
    "a\n",
    "bullet\n",
    "point\n",
    "list\n",
    "\n",
    "Turn these fruits into a numbered list:\n",
    "Durian\n",
    "Pawpaw\n",
    "Breadfruit\n",
    "\n",
    "Have fun! If you want a more advanced challenge, you might try to include a code block, a blockquote, a hyperlink or a table. If you want to see the results of your completed markdown cell at any time, just click <kbd>Ctrl</kbd> + <kbd>Enter</kbd>."
   ]
  },
  {
   "cell_type": "markdown",
   "metadata": {},
   "source": [
    "### Assignment 0.1: Your first Python program.\n",
    "\n",
    "Every notebook on this course will include a few marked assignments. Everything you need to know to complete the assignments will be explained in the instructional videos, in the text of the notebooks, and in our webinars during the course. There is a help forum on the Moodle page where you can consult with your classmates, and links to numerous online resources such as the [official Python documentation](https://docs.python.org/3) and the online help forum [Stack Overflow](https://stackoverflow.com). I can also log into CoCalc with you directly and help you with any particularly thorny problems.\n",
    "\n",
    "If you complete enough of the assignments successfully, you will earn a certificate testifying to your programming skills. \n",
    "\n",
    "Below is your first practice assignment, where you will write your very first Python program. The task is simple.\n",
    "\n",
    "**Make your computer say something cool:** use the `print()` function to make your computer say something cool. Simply type `print()`, and then inside the parentheses, type a phrase in inverted commas or quotation marks, e.g. `'I am Inigo Montoya'`. Then hit <kbd>Ctrl</kbd> + <kbd>Enter</kbd> to see the output of your program."
   ]
  },
  {
   "cell_type": "code",
   "execution_count": null,
   "metadata": {},
   "outputs": [],
   "source": [
    "# YOUR CODE HERE:\n",
    "\n",
    "\n",
    "# END OF YOUR CODE"
   ]
  },
  {
   "cell_type": "markdown",
   "metadata": {},
   "source": [
    "### Extension 0.1: Adding a new cell\n",
    "\n",
    "At the end of a notebook, there will sometimes be an extension activity where you can practice \n",
    "\n",
    "For this exercise, you will add a new cell and write a slightly more complex program.\n",
    "\n",
    "* **Add a cell:** Click on the <kbd>+</kbd> button at the top of the screen. Make sure it is a 'code' cell. If the cell appears in the wrong place, just use the <kbd>↑</kbd> and <kbd>↓</kbd> buttons at the top of the screen to move it to where you would like it to be. \n",
    "\n",
    "For this new program, you are going to define a variable and print it as part of a sentence.\n",
    "* **Define a variable:** Simply type a name for your variable, e.g. `my_var`, then type `=`, and then type the value you wish to assign to your variable. This can be an integer, e.g. `1`, a floating point number, e.g `3.14`, or a string, e.g. `'Songs of a Sentimental Bloke'`.\n",
    "* **Print it as part of a sentence:** Use a [formatted string](https://docs.python.org/3/reference/lexical_analysis.html#f-strings). To use a formatted string, you need to add an `f` just before the string begins. This lets you include your variable in the string by using curly braces: `{}`, e.g. `print(f'I wish I had {my_var} dollars!')`."
   ]
  },
  {
   "cell_type": "code",
   "execution_count": null,
   "metadata": {},
   "outputs": [],
   "source": []
  }
 ],
 "metadata": {
  "kernelspec": {
   "display_name": "Python 3",
   "language": "python",
   "name": "python3"
  },
  "language_info": {
   "codemirror_mode": {
    "name": "ipython",
    "version": 3
   },
   "file_extension": ".py",
   "mimetype": "text/x-python",
   "name": "python",
   "nbconvert_exporter": "python",
   "pygments_lexer": "ipython3",
   "version": "3.7.7"
  }
 },
 "nbformat": 4,
 "nbformat_minor": 2
}
