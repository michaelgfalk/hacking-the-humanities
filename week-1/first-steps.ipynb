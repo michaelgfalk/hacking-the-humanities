{
 "cells": [
  {
   "cell_type": "markdown",
   "metadata": {
    "collapsed": false
   },
   "source": [
    "# Hacking the Humanities Week 1: First Steps in Python\n",
    "\n",
    "Welcome to *Hacking the Humanities*. If this is your first time coding, and you haven't yet watched the welcome lecture on Moodle or completed the notebook in the 'welcome' folder of your CoCalc project, I would recommend you do both now.\n",
    "\n",
    "Otherwise, let's get started with the course!\n",
    "\n",
    "In this first week of the course, we are going to build a basic Haiku generator. By doing so, we will have the opportunity to learn all the basic components of the Python programming language, in particular *variables*, *functions*, *oeprators*, *packages* and *types* or *object classes*. These terms should already be familar to you if you have watched the explainer videos on Moodle."
   ]
  },
  {
   "cell_type": "markdown",
   "metadata": {
    "collapsed": false
   },
   "source": [
    "## Section 1: Variables, Functions and Operators\n",
    "\n"
   ]
  },
  {
   "cell_type": "markdown",
   "metadata": {
    "collapsed": false
   },
   "source": [
    "### Practice 1.1: Assignment vs. Equality\n",
    "\n",
    "As mentioned in the explainer videos, there are two different kinds of equals sign in Python (as in many other programming languages). A single equals sign, `=`, is the *assignment operator*. It assigns a value to a particular variable. The double equals sign, `==`, is the *equality operator*. It checks if a particular variable is equal to another. There are a range of similar operators in Python, such as `!=`, which is the *negation operator*, or `>=`, which is *greater than or equal to*, or `is`, which is similar too, but subtly different from `==`.\n",
    "\n",
    "For this practice, experiment with the code cell below. To get you started, here are some questions you could consider:\n",
    "* Does 'étrange' equal 'etrange'?\n",
    "* Does `7. == 7` yield the same result as `7. is 7`?\n",
    "* Is `\"27\"` greater than or equal to `5`? (Note the quotation marks)\n",
    "\n",
    "Python's different operators are explained in the [Expressions](https://docs.python.org/3/reference/expressions.html?highlight=operators#comparisons) chapter of the official documentation."
   ]
  },
  {
   "cell_type": "code",
   "execution_count": 7,
   "metadata": {
    "collapsed": false
   },
   "outputs": [
    {
     "data": {
      "text/plain": [
       "False"
      ]
     },
     "execution_count": 7,
     "metadata": {
     },
     "output_type": "execute_result"
    }
   ],
   "source": [
    "my_var = 'A string'\n",
    "\n",
    "my_var == 'a string'"
   ]
  },
  {
   "cell_type": "markdown",
   "metadata": {
    "collapsed": false
   },
   "source": [
    "## Section 2: Packages\n",
    "\n",
    "One of the most powerful aspects of Python is the wide range of *packages* which you can import to extend the language's functionality. There are a number of useful packages included in the 'Python standard library', such as `random`, `IO` and `functools`, and there are many popular packages such as `NLTK`, `scipy` and `scikit-learn` that you can download onto your machine to add further functionality. Many of the popular additional packages are already included here in CoCalc, so for the purposes of this course you don't need to worry about downloading anything.\n",
    "\n",
    "Once you get your skills up a bit in Python, it is surprisingly easy to develop your own packages and distribute them on the web. The ease with which packages can be created is one of the reasons Python is such a popular language today.\n",
    "\n",
    "Importing a package is easy, using the `import` command. Execute the cell below to see how we can import the `datetime` package (part of the Python standard library), and use its `date` object to calculate today's date."
   ]
  },
  {
   "cell_type": "code",
   "execution_count": 10,
   "metadata": {
    "collapsed": false
   },
   "outputs": [
    {
     "name": "stdout",
     "output_type": "stream",
     "text": [
      "2020-04-22\n"
     ]
    }
   ],
   "source": [
    "import datetime\n",
    "\n",
    "todays_date = datetime.date.today()\n",
    "\n",
    "print(todays_date)"
   ]
  },
  {
   "cell_type": "markdown",
   "metadata": {
    "collapsed": false
   },
   "source": [
    "In the cell above, we imported the whole `datetime` package. But what if we just wanted to use one part of the package? It would be inconvenient to have to keep typing `datetime.date.today()` if all we wanted was `today()`. You can use the `from ... import` structure to just get the particular parts of a package you want."
   ]
  },
  {
   "cell_type": "code",
   "execution_count": 12,
   "metadata": {
    "collapsed": false
   },
   "outputs": [
    {
     "name": "stdout",
     "output_type": "stream",
     "text": [
      "['This', 'sentence', 'has', 'five', 'words', '.']\n"
     ]
    }
   ],
   "source": [
    "from nltk.tokenize import wordpunct_tokenize\n",
    "\n",
    "my_tokens = wordpunct_tokenize('This sentence has five words.')\n",
    "\n",
    "print(my_tokens)"
   ]
  },
  {
   "cell_type": "markdown",
   "metadata": {
    "collapsed": false
   },
   "source": [
    "We will be looking at 'tokenizing' text next week.\n",
    "\n",
    "You can also use `as` to give a function a nickname, to save you typing out the whole thing."
   ]
  }
 ],
 "metadata": {
  "kernelspec": {
   "display_name": "Python 3 (system-wide)",
   "language": "python",
   "metadata": {
    "cocalc": {
     "description": "Python 3 programming language",
     "priority": 100,
     "url": "https://www.python.org/"
    }
   },
   "name": "python3"
  },
  "language_info": {
   "codemirror_mode": {
    "name": "ipython",
    "version": 3
   },
   "file_extension": ".py",
   "mimetype": "text/x-python",
   "name": "python",
   "nbconvert_exporter": "python",
   "pygments_lexer": "ipython3",
   "version": "3.6.9"
  }
 },
 "nbformat": 4,
 "nbformat_minor": 4
}