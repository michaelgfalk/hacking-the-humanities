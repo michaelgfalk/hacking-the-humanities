{
 "cells": [
  {
   "cell_type": "markdown",
   "metadata": {
    "collapsed": false
   },
   "source": [
    "# Hacking the Humanities Week 1: First Steps in Python\n",
    "\n",
    "Welcome to *Hacking the Humanities*. If this is your first time coding, and you haven't yet watched the welcome lecture on Moodle or completed the notebook in the [welcome](../welcome) folder of your CoCalc project, I would recommend you do both now.\n",
    "\n",
    "Otherwise, let's get started with the course!\n",
    "\n",
    "In this first week of the course, we are going to build a Haiku generator. By doing so, we will have the opportunity to learn all the basic components of the Python programming language, in particular *variables*, *functions*, *operators*, *packages* and *types* or *object classes*. These terms should already be familar to you if you have watched the explainer videos on Moodle."
   ]
  },
  {
   "cell_type": "markdown",
   "metadata": {
    "collapsed": false
   },
   "source": [
    "## Section 1: Variables, Functions and Operators\n",
    "\n",
    "A **variable** is like a pronoun (they, it, this, that) or a pronumeral (x, y). It is a placeholder to which you can assign a value. By convention, variable names are written in [snake_case](https://en.wikipedia.org/wiki/Snake_case). There cannot be a space in a variable name. You can assign a value to a variable using `=`.\n",
    "\n",
    "If you just type a value without giving it a name, e.g. `7`, `\"Star Wars\"`, or `[1,2,3,4]`, this is called a **literal**.\n",
    "\n",
    "Execute the cell below to see how to assign a value to a variable. To execute the cell, click on it, then press <kbd>Ctrl</kbd>/<kbd>Control</kbd> + <kbd>Enter</kbd>."
   ]
  },
  {
   "cell_type": "code",
   "execution_count": 1,
   "metadata": {
    "collapsed": false
   },
   "outputs": [
    {
     "name": "stdout",
     "output_type": "stream",
     "text": [
      "This variable is a string\n"
     ]
    }
   ],
   "source": [
    "my_var = 'This variable is a string'\n",
    "print(my_var)"
   ]
  },
  {
   "cell_type": "markdown",
   "metadata": {
    "collapsed": false
   },
   "source": [
    "A **function** is a command you can use to make Python do something. Most functions require some *arguments* or *parameters* to be provided, which tell the computer how it should perform the function. You can think of a function as a *verb*, and the parameters as *nouns*.\n",
    "\n",
    "An example: The `int()` function converts its input into an integer. Execute the cell below to see how it works."
   ]
  },
  {
   "cell_type": "code",
   "execution_count": 2,
   "metadata": {
    "collapsed": false
   },
   "outputs": [
    {
     "name": "stdout",
     "output_type": "stream",
     "text": [
      "my_string is a <class 'str'>\n",
      "100 billion dollars\n",
      "my_int is a <class 'int'>\n",
      "110\n"
     ]
    }
   ],
   "source": [
    "my_string = '100'\n",
    "print(f'my_string is a {type(my_string)}')\n",
    "print(my_string + ' billion dollars')\n",
    "\n",
    "# Let's convert my_string into an integer using int()\n",
    "my_int = int(my_string)\n",
    "print(f'my_int is a {type(my_int)}')\n",
    "print(my_int + 10)"
   ]
  },
  {
   "cell_type": "markdown",
   "metadata": {
    "collapsed": false
   },
   "source": [
    "In the code cell above, you will also have seen a `+`. This is an example of an **operator**. Operators are a bit like functions, in that they command the computer to do something. But whereas a function is a word with paraentheses, e.g. `do_something()`, an operator is simply a symbol or a word that in between two variables or literals you wish to affect. Common operators in Python include:\n",
    "\n",
    "Symbol | Operation \n",
    "--- | --- \n",
    "`=` | Assignment\n",
    "`==` | Equality\n",
    "`+` | Addition or Concatenation\n",
    "`-` | Subtraction\n",
    "`*` | Multiplication\n",
    "`/` | Division (with decimal point)\n",
    "`//` | Division (whole number, drop the remainder)\n",
    "`%` | Modulo (divide and just keep the remainder)\n",
    "\n",
    "As you will have seen above, `+` does something different to strings and numbers:"
   ]
  },
  {
   "cell_type": "code",
   "execution_count": 3,
   "metadata": {
    "collapsed": false
   },
   "outputs": [
    {
     "name": "stdout",
     "output_type": "stream",
     "text": [
      "107.832\n",
      "ArnoldSchwarzenegger\n"
     ]
    }
   ],
   "source": [
    "# `+` adds two numbers:\n",
    "print(26.5 + 81.332)\n",
    "\n",
    "# But it concatenates two strings\n",
    "print('Arnold' + 'Schwarzenegger')"
   ]
  },
  {
   "cell_type": "markdown",
   "metadata": {
    "collapsed": false
   },
   "source": [
    "### Practice 1.1: Assignment vs. Equality\n",
    "\n",
    "As mentioned in the explainer videos, there are two different kinds of equals sign in Python (as in many other programming languages). A single equals sign, `=`, is the *assignment operator*. It assigns a value to a variable. The double equals sign, `==`, is the *equality operator*. It checks if one variable or literal is equal to another. There are a range of similar operators in Python, such as `!=`, which is the *negation operator*, or `>=`, which is *greater than or equal to*, or `is` and `is not`, which are similar to `==` and `!=`, but check for *identity* rather than *equality*.\n",
    "\n",
    "For this practice, experiment with the code cell below. To get you started, here are some questions you could consider:\n",
    "* Does `'étrange'` equal `'etrange'`? How about `'Joe'` and `'joe'`?\n",
    "* Does `7. == 7` yield the same result as `7. is 7`? How about `!=` and `is not`?\n",
    "* Is `'27'` greater than or equal to `5`? (Note the quotation marks)\n",
    "* What happens if you try to execute `82 = 82`? Why does that happen?\n",
    "\n",
    "Python's different operators are explained in the [Expressions](https://docs.python.org/3/reference/expressions.html?highlight=operators#comparisons) chapter of the official documentation."
   ]
  },
  {
   "cell_type": "code",
   "execution_count": 5,
   "metadata": {
    "collapsed": false
   },
   "outputs": [
    {
     "data": {
      "text/plain": [
       "False"
      ]
     },
     "execution_count": 5,
     "metadata": {
     },
     "output_type": "execute_result"
    }
   ],
   "source": [
    "my_var = 'A string'\n",
    "\n",
    "my_var == 'a string'"
   ]
  },
  {
   "cell_type": "markdown",
   "metadata": {
    "collapsed": false
   },
   "source": [
    "### Assignment 1.2: Define your own function\n",
    "\n",
    "In order to build your Haiku generator, you will need to be able to define your own functions. To define a function, you need to use a `def` statement. This is the format:\n",
    "\n",
    "```\n",
    "def function_name(parameter_1, parameter_2=45, parameter_3=\"default value\", etc.):\n",
    "    \"\"\"A docstring describing what your function does\"\"\"\n",
    "\n",
    "    # Some code which does something to the parameters\n",
    "    # NB: These lines must be indented. By default you indent four spaces, which you can do using the 'tab' key\n",
    "\n",
    "    output = parameter_1 // parameter_2 * 7\n",
    "\n",
    "    # At the end of a function, you should usually have a `return` statement, which says what the output of the function will be.\n",
    "    # If there is no 'return' statement, then the function will not have an output.\n",
    "\n",
    "    return output\n",
    "```\n",
    "\n",
    "When you are developing code, it is a good practice to include comments explaining what it does, so that other people can understand your code—and so that you can understand it when you come back to it later. There are two ways of writing a comment in Python:\n",
    "\n",
    "```\n",
    "# A hashtag turns everything after it into a comment\n",
    "```\n",
    "or\n",
    "```\n",
    "\"\"\"\n",
    "You can use triple quotation marks\n",
    "to create a multiline comment.\n",
    "Triple inverted commas (''') work as well.\n",
    "\"\"\"\n",
    "```\n",
    "\n",
    "Now you know how to create a variable, use some basic operators and define a function, here is your first assignment: create a function called `concatenate()` that concatenates two strings. To do this:\n",
    "* Define a function called `concatenate` that takes two parameters as input. (By convention, functions are also named in [snake_case](https://en.wikipedia.org/wiki/Snake_case), just like variables.)\n",
    "* Inside the function, use the correct operator to concatenate those parameters\n",
    "* Use a `return` statement to output the concatenated string"
   ]
  },
  {
   "cell_type": "code",
   "execution_count": 2,
   "metadata": {
    "collapsed": false,
    "nbgrader": {
     "grade": false,
     "grade_id": "define_function",
     "locked": false,
     "schema_version": 3,
     "solution": true,
     "task": false
    }
   },
   "outputs": [
   ],
   "source": [
    "### BEGIN SOLUTION\n",
    "def concatenate(string_1, string_2):\n",
    "    \"\"\"Concatenates two strings\"\"\"\n",
    "    return string_1 + string_2\n",
    "### END SOLUTION"
   ]
  },
  {
   "cell_type": "code",
   "execution_count": 3,
   "metadata": {
    "collapsed": false,
    "nbgrader": {
     "grade": true,
     "grade_id": "define_function_test",
     "locked": true,
     "points": 3,
     "schema_version": 3,
     "solution": false,
     "task": false
    }
   },
   "outputs": [
    {
     "name": "stdout",
     "output_type": "stream",
     "text": [
      "Your mother was a hamster, and your father smelled of elderberries.\n"
     ]
    }
   ],
   "source": [
    "my_concatenated_string = concatenate('Your mother was a hamster, ', 'and your father smelled of elderberries.')\n",
    "print(my_concatenated_string)\n",
    "### BEGIN HIDDEN TESTS\n",
    "assert concatenate('Astro', 'Turf') == 'AstroTurf'\n",
    "### END HIDDEN TESTS"
   ]
  },
  {
   "cell_type": "markdown",
   "metadata": {
    "collapsed": false
   },
   "source": [
    "Expected output:\n",
    "```\n",
    "Your mother was a hamster, and your father smelled of elderberries.\n",
    "```"
   ]
  },
  {
   "cell_type": "markdown",
   "metadata": {
    "collapsed": false
   },
   "source": [
    "### Extension 1.3: Can you fix this error?\n",
    "\n",
    "Run the cell below. Why doesn't it work? Can you fix your function so that is no longer vulnerable to this error? (Hint: Python has [a built-in function](https://docs.python.org/3/library/functions.html) that might help.)"
   ]
  },
  {
   "cell_type": "code",
   "execution_count": 4,
   "metadata": {
    "collapsed": false
   },
   "outputs": [
    {
     "ename": "TypeError",
     "evalue": "unsupported operand type(s) for +: 'int' and 'str'",
     "output_type": "error",
     "traceback": [
      "\u001b[0;31m---------------------------------------------------------------------------\u001b[0m",
      "\u001b[0;31mTypeError\u001b[0m                                 Traceback (most recent call last)",
      "\u001b[0;32m<ipython-input-4-84a1a351da3b>\u001b[0m in \u001b[0;36m<module>\u001b[0;34m\u001b[0m\n\u001b[0;32m----> 1\u001b[0;31m \u001b[0mconcatenate\u001b[0m\u001b[0;34m(\u001b[0m\u001b[0;36m7\u001b[0m\u001b[0;34m,\u001b[0m \u001b[0;34m'21'\u001b[0m\u001b[0;34m)\u001b[0m\u001b[0;34m\u001b[0m\u001b[0;34m\u001b[0m\u001b[0m\n\u001b[0m",
      "\u001b[0;32m<ipython-input-2-d8563e0dfdb4>\u001b[0m in \u001b[0;36mconcatenate\u001b[0;34m(string_1, string_2)\u001b[0m\n\u001b[1;32m      2\u001b[0m \u001b[0;32mdef\u001b[0m \u001b[0mconcatenate\u001b[0m\u001b[0;34m(\u001b[0m\u001b[0mstring_1\u001b[0m\u001b[0;34m,\u001b[0m \u001b[0mstring_2\u001b[0m\u001b[0;34m)\u001b[0m\u001b[0;34m:\u001b[0m\u001b[0;34m\u001b[0m\u001b[0;34m\u001b[0m\u001b[0m\n\u001b[1;32m      3\u001b[0m     \u001b[0;34m\"\"\"Concatenates two strings\"\"\"\u001b[0m\u001b[0;34m\u001b[0m\u001b[0;34m\u001b[0m\u001b[0m\n\u001b[0;32m----> 4\u001b[0;31m     \u001b[0;32mreturn\u001b[0m \u001b[0mstring_1\u001b[0m \u001b[0;34m+\u001b[0m \u001b[0mstring_2\u001b[0m\u001b[0;34m\u001b[0m\u001b[0;34m\u001b[0m\u001b[0m\n\u001b[0m\u001b[1;32m      5\u001b[0m \u001b[0;31m### END SOLUTION\u001b[0m\u001b[0;34m\u001b[0m\u001b[0;34m\u001b[0m\u001b[0;34m\u001b[0m\u001b[0m\n",
      "\u001b[0;31mTypeError\u001b[0m: unsupported operand type(s) for +: 'int' and 'str'"
     ]
    }
   ],
   "source": [
    "concatenate(7, '21')"
   ]
  },
  {
   "cell_type": "markdown",
   "metadata": {
    "collapsed": false
   },
   "source": [
    "## Section 2: Packages\n",
    "\n",
    "One of the most powerful aspects of Python is the wide range of *packages* which you can import to extend the language's functionality. There are a number of useful packages included in the 'Python standard library', such as `random`, `IO` and `functools`, and there are many popular packages such as `NLTK`, `scipy` and `scikit-learn` that you can download onto your machine to add further functionality. Many of the popular additional packages are already included here in CoCalc, so for the purposes of this course you don't need to worry about downloading anything.\n",
    "\n",
    "Once you get your skills up a bit in Python, it is surprisingly easy to develop your own packages and distribute them on the web. The ease with which packages can be created is one of the reasons Python is such a popular language today.\n",
    "\n",
    "Importing a package is easy, using the `import` command. Execute the cell below to see how we can import the `datetime` package (part of the Python standard library), and use its `date` object to calculate today's date."
   ]
  },
  {
   "cell_type": "code",
   "execution_count": 1,
   "metadata": {
    "collapsed": false
   },
   "outputs": [
    {
     "name": "stdout",
     "output_type": "stream",
     "text": [
      "2021-05-07\n"
     ]
    }
   ],
   "source": [
    "import datetime\n",
    "\n",
    "todays_date = datetime.date.today()\n",
    "\n",
    "print(todays_date)"
   ]
  },
  {
   "cell_type": "markdown",
   "metadata": {
    "collapsed": false
   },
   "source": [
    "In the cell above, we imported the whole `datetime` package. But what if we just wanted to use one part of the package? It would be inconvenient to have to keep typing `datetime.date.today()` if all we wanted was `today()`. You can use the `from ... import` structure to just get the particular parts of a package you want."
   ]
  },
  {
   "cell_type": "code",
   "execution_count": 11,
   "metadata": {
    "collapsed": false
   },
   "outputs": [
    {
     "name": "stdout",
     "output_type": "stream",
     "text": [
      "['This', 'sentence', 'has', 'five', 'words', '.']\n"
     ]
    }
   ],
   "source": [
    "from nltk.tokenize import wordpunct_tokenize\n",
    "\n",
    "my_tokens = wordpunct_tokenize('This sentence has five words.')\n",
    "\n",
    "print(my_tokens)"
   ]
  },
  {
   "cell_type": "markdown",
   "metadata": {
    "collapsed": false
   },
   "source": [
    "Using `from ... import` we can avoid having to type `nltk.tokenize.wordpunct_tokenize` every time. We will be looking at 'tokenizing' text next week.\n",
    "\n",
    "If you want even more convenience, you can use `as` to give a nickname to what you import."
   ]
  },
  {
   "cell_type": "code",
   "execution_count": 13,
   "metadata": {
    "collapsed": false
   },
   "outputs": [
    {
     "data": {
      "image/png": "[encoded data removed]",
      "text/plain": [
       "<Figure size 432x288 with 1 Axes>"
      ]
     },
     "execution_count": 13,
     "metadata": {
      "image/png": {
       "height": 248,
       "width": 378
      },
      "needs_background": "light"
     },
     "output_type": "execute_result"
    }
   ],
   "source": [
    "from matplotlib import pyplot as plt\n",
    "\n",
    "plt.bar(['A','B','C','D','E'],[7,21,5,4,15])\n",
    "plt.show()"
   ]
  },
  {
   "cell_type": "markdown",
   "metadata": {
    "collapsed": false
   },
   "source": [
    "We will learn about `matplotlib` and creating graphs next week. But now you have seen how to import and use functions, you can attempt...\n",
    "\n",
    "### Assignment 1.4: Generate a random number\n",
    "\n",
    "For our haiku generator, we will need to be able to introduce some randomness. Generating [true random numbers is complicated](https://en.wikipedia.org/wiki/Pseudorandomness). But Python allows you to easily generate 'pseudorandom' numbers, which are nearly just as good. For your first assignment of *Hacking the Humanities*, you will learn how to use the `random` package to introduce randomness into your code. The `random` package is fully documented [here](https://docs.python.org/3/library/random.html).\n",
    "\n",
    "Your task:\n",
    "* Import the `randint` function from the `random` package using `from ... import ...`. (NB: Do not use `as` for this exercise, it will confuse the grader.)\n",
    "* Use the `randint` function to generate a random integer called `my_int`. (NB: the `randint()` function needs you to put a minimum and a maximum value, e.g. if you provide the values `0` and `22`, then it will generate a pseudorandom number between 0 and 22.)"
   ]
  },
  {
   "cell_type": "code",
   "execution_count": 14,
   "metadata": {
    "collapsed": false,
    "nbgrader": {
     "grade": false,
     "grade_id": "gen_rand_int",
     "locked": false,
     "schema_version": 3,
     "solution": true,
     "task": false
    }
   },
   "outputs": [
   ],
   "source": [
    "### BEGIN SOLUTION\n",
    "from random import randint\n",
    "my_int = randint(0, 10)\n",
    "### END SOLUTION"
   ]
  },
  {
   "cell_type": "code",
   "execution_count": 15,
   "metadata": {
    "collapsed": false,
    "nbgrader": {
     "grade": true,
     "grade_id": "gen_rand_int_test",
     "locked": true,
     "points": 2,
     "schema_version": 3,
     "solution": false,
     "task": false
    }
   },
   "outputs": [
    {
     "name": "stdout",
     "output_type": "stream",
     "text": [
      "Success! You have randomly generated the integer 9\n"
     ]
    }
   ],
   "source": [
    "# Have you created the variable correctly?\n",
    "if type(my_int) == int:\n",
    "    print(f'Success! You have randomly generated the integer {my_int}')\n",
    "### BEGIN HIDDEN TESTS\n",
    "assert randint\n",
    "assert type(my_int) is int\n",
    "### END HIDDEN TESTS"
   ]
  },
  {
   "cell_type": "markdown",
   "metadata": {
    "collapsed": false
   },
   "source": [
    "Expected output:\n",
    "```\n",
    "Success! You have randomly generated the integer [a random whole number]\n",
    "```"
   ]
  },
  {
   "cell_type": "markdown",
   "metadata": {
    "collapsed": false
   },
   "source": [
    "## Section 3: Types and Objects\n",
    "\n",
    "Every variable (or literal) in Python has both a **type** and a **value**. You have already encountered several types, including strings and integers. Here are some of Python's most common types:\n",
    "\n",
    "Type | Definition | Example Value\n",
    "--- | --- | ---\n",
    "`str` | A string of characters | 'Ramayana' or \"Ramayana\"\n",
    "`int` | A whole number | 891\n",
    "`float` | A decimal number (a [floating point number](https://en.wikipedia.org/wiki/Floating-point_arithmetic), in computer science terms) | 75.442\n",
    "`list` | An ordered collection of items | [9, 10, 10, 41]\n",
    "`tuple` | An immutable\\* ordered collection of items | (9, 10, 10, 41)\n",
    "`dict` | A labelled collection of items | {'author':'Eliza Haywood', 'title':'Betsy Thoughtless', 'year':1751}\n",
    "`set` | An unordered collection of unique items | {25,41,100028}\n",
    "\n",
    "\\* We will cover the distinction between 'mutable' and 'immutable' variables in **Week 3**.\n",
    "\n",
    "Here is where things get a bit more complicated. Python is a so-called [object-oriented programming language](https://en.wikipedia.org/wiki/Object-oriented_programming). This means that (with a very few exceptions), nearly everything you encounter is Python is an **object** that combines *data* with *functionality*. We have already seen some free-floating functions like `print()` and `int()` and your own `concatenate()` function that you can use to do this or that using Python. But objects also have built-in functions, usually known as **methods**, which allow them to do things. When we talk about objects, we often refer to their **class** rather than their **type**, but the two words are synonymous.\n",
    "\n",
    "One important class of object you will need for your Haiku generator is the `list`. It has [many useful methods](https://docs.python.org/3/tutorial/datastructures.html). Execute the cell below to see some of them in action."
   ]
  },
  {
   "cell_type": "code",
   "execution_count": 6,
   "metadata": {
    "collapsed": false,
    "scrolled": true
   },
   "outputs": [
    {
     "name": "stdout",
     "output_type": "stream",
     "text": [
      "my_fruits when first created: ['apple', 'pawpaw', 'kiwi', 'achacha', 'durian']\n",
      "my_fruits after using .append('mango'): ['apple', 'pawpaw', 'kiwi', 'achacha', 'durian', 'mango']\n",
      "The str 'mango' popped out of my_fruits\n",
      "Now my_fruits looks like this: ['apple', 'pawpaw', 'kiwi', 'achacha', 'durian']\n"
     ]
    }
   ],
   "source": [
    "# You define a list using square brackets\n",
    "my_fruits = ['apple', 'pawpaw', 'kiwi', 'achacha', 'durian']\n",
    "print(f'my_fruits when first created: {my_fruits}')\n",
    "\n",
    "# You can add to the list using `.append()`\n",
    "my_fruits.append('mango')\n",
    "print(f'my_fruits after using .append(\\'mango\\'): {my_fruits}')\n",
    "\n",
    "# You can retrieve the last item from the list using `.pop()`\n",
    "last_fruit = my_fruits.pop()\n",
    "print(f'The str \\'{last_fruit}\\' popped out of my_fruits')\n",
    "print(f'Now my_fruits looks like this: {my_fruits}')"
   ]
  },
  {
   "cell_type": "markdown",
   "metadata": {
    "collapsed": false
   },
   "source": [
    "Another object that we covered in the explainer video was the `date` object, which can be accessed using the `datetime` package. We have already imported this package (see above), so we can just go ahead and create a new **instance** of the `date` **class** using the code below. If it doesn't work, you will need to scroll up a few cells, find the cell where we imported the `datetime` package and execute it."
   ]
  },
  {
   "cell_type": "code",
   "execution_count": 5,
   "metadata": {
    "collapsed": false
   },
   "outputs": [
   ],
   "source": [
    "the_queens_birthday = datetime.date(1926, 4, 21)"
   ]
  },
  {
   "cell_type": "markdown",
   "metadata": {
    "collapsed": false
   },
   "source": [
    "We have created a new **instance** of the `date` **class**, which represents the Queen's birthday. Now that we have created this object, we can access many useful **attributes** and **methods**. One attribute we can access, for example, is the month the Queen was born:"
   ]
  },
  {
   "cell_type": "code",
   "execution_count": 6,
   "metadata": {
    "collapsed": false
   },
   "outputs": [
    {
     "data": {
      "text/plain": [
       "4"
      ]
     },
     "execution_count": 6,
     "metadata": {
     },
     "output_type": "execute_result"
    }
   ],
   "source": [
    "the_queens_birthday.month"
   ]
  },
  {
   "cell_type": "markdown",
   "metadata": {
    "collapsed": false
   },
   "source": [
    "A nifty *method* we can use is the `.weekday()` method. This works out what day of the week it was on the given day. What day of the week was the Queen born? (**NB:** Python counts from `0`, and considers Monday to be the first day of the week, so `0 == Monday`, `1 == Tuesday`, `2 == Wednesday` etc. etc.)"
   ]
  },
  {
   "cell_type": "code",
   "execution_count": 4,
   "metadata": {
    "collapsed": false
   },
   "outputs": [
    {
     "data": {
      "text/plain": [
       "2"
      ]
     },
     "execution_count": 4,
     "metadata": {
     },
     "output_type": "execute_result"
    }
   ],
   "source": [
    "the_queens_birthday.weekday()"
   ]
  },
  {
   "cell_type": "markdown",
   "metadata": {
    "collapsed": false
   },
   "source": [
    "If you want to have a play with the `date` class, you can find a comprehensive list of all its attributes and methods [in the official Python documentation](https://docs.python.org/3/library/datetime.html#datetime.date)."
   ]
  },
  {
   "cell_type": "markdown",
   "metadata": {
    "collapsed": false
   },
   "source": [
    "### Practice 1.5: Have a play with a `Text` object\n",
    "\n",
    "Python packages typically contain a whole host of useful **classes** that you can use for particular applications. The `numpy` package, for instance, allows you to work with different kinds of mathematical objects, such as vectors and matrices. The `pandas` package lets you work with tables of data. The Python **Natural Language Toolkit** contains many kinds of object that are extremely useful for linguistic analysis, such as `corpora` of texts, `tokenizers` to split them up with, and different kinds of `models` for analysing them.\n",
    "\n",
    "One of the most useful classes in the **Natural Language Toolkit** is the `Text` class. We have seen how basic types, like `str` and `int`, can be created simply by typing a string or a number. More complex classes must be created using a **constructor**. By convention, constructors are written in TitleCase. You can provide parameters to the constructor in just the same way you would to a function.\n",
    "\n",
    "You create a new **instance** of the `Text` class by calling the constructor on a `list` of words:\n",
    "```\n",
    "my_text = Text(list_of_words)\n",
    "```\n",
    "Execute the cell below to create a `Text` out of Walt Whitman's *Leaves of Grass*.\\* Then use the following cell to experiment with some of the useful methods that come with the `Text` class. Here is the [full list of the methods](https://www.nltk.org/api/nltk.html#nltk.text.Text). The `.concordance` and `.dispersion_plot` methods are particularly fun to start with.\n",
    "\n",
    "\\* We will be looking at how to import your own text data in **Week 2**."
   ]
  },
  {
   "cell_type": "code",
   "execution_count": 17,
   "metadata": {
    "collapsed": false
   },
   "outputs": [
    {
     "data": {
      "text/plain": [
       "nltk.text.Text"
      ]
     },
     "execution_count": 17,
     "metadata": {
     },
     "output_type": "execute_result"
    }
   ],
   "source": [
    "import nltk\n",
    "from nltk.text import Text\n",
    "\n",
    "leaves_of_grass_words = nltk.corpus.gutenberg.words('whitman-leaves.txt')\n",
    "\n",
    "leaves_of_grass_text = Text(leaves_of_grass_words)\n",
    "\n",
    "# leaves_of_grass_text is of type 'nltk.text.Text':\n",
    "type(leaves_of_grass_text)"
   ]
  },
  {
   "cell_type": "code",
   "execution_count": 18,
   "metadata": {
    "collapsed": false
   },
   "outputs": [
    {
     "name": "stdout",
     "output_type": "stream",
     "text": [
      "Displaying 30 of 189 matches:\n",
      "only purport of the form thou art , the real I myself , An image , an eidolon . Thy very songs not i\n",
      " man really knew aught of my life , Why even I myself I often think know little or nothing of my rea\n",
      "e known , Arouse ! for you must justify me . I myself but write one or two indicative words for the \n",
      "of mortality , For I think I shall then supply myself with the poems of my soul and of immortality .\n",
      "vil also , I commemorate that part also , I am myself just as much evil as good , and my nation is -\n",
      " with the old ones , Coming among the new ones myself to be their companion and equal , coming perso\n",
      " persuaded many times before I consent to give myself really to you , but what of that ? Must not Na\n",
      "te , haste on with me . [ BOOK III ] } Song of Myself 1 I celebrate myself , and sing myself , And w\n",
      " . [ BOOK III ] } Song of Myself 1 I celebrate myself , and sing myself , And what I assume you shal\n",
      "Song of Myself 1 I celebrate myself , and sing myself , And what I assume you shall assume , For eve\n",
      "rowded with perfumes , I breathe the fragrance myself and know it and like it , The distillation wou\n",
      " discuss I am silent , and go bathe and admire myself . Welcome is every organ and attribute of me ,\n",
      "I love , The sickness of one of my folks or of myself , or ill - doing or loss or lack of money , or\n",
      "and go from me again , But they are not the Me myself . Apart from the pulling and hauling stands wh\n",
      "eople , all just as immortal and fathomless as myself , ( They do not know how immortal , but I know\n",
      " a person or object missing , Absorbing all to myself and for this song . Oxen that rattle the yoke \n",
      "th her half - spread wings , I see in them and myself the same old law . The press of my foot to the\n",
      "chances , spending for vast returns , Adorning myself to bestow myself on the first that will take m\n",
      "g for vast returns , Adorning myself to bestow myself on the first that will take me , Not asking th\n",
      ", And of these one and all I weave the song of myself . 16 I am of old and young , of the foolish as\n",
      "ing my own face , This the thoughtful merge of myself , and the outlet again . Do you guess I have s\n",
      "n sticks to my own bones . In all people I see myself , none more and not one a barley - corn less ,\n",
      "ley - corn less , And the good or bad I say of myself I say of them . I know I am solid and sound , \n",
      "are and by far the largest to me , and that is myself , And whether I come to my own to - day or in \n",
      " with me , The first I graft and increase upon myself , the latter I translate into new tongue . I a\n",
      "akable passionate love . 22 You sea ! I resign myself to you also -- I guess what you mean , I behol\n",
      "e ever touch ' d , it shall be you . I dote on myself , there is that lot of me and all so luscious \n",
      "htning to strike what is hardly different from myself , On all sides prurient provokers stiffening m\n",
      "d nobody else am the greatest traitor , I went myself first to the headland , my own hands carried m\n",
      "me and I accept them , They bring me tokens of myself , they evince them plainly in their possession\n"
     ]
    }
   ],
   "source": [
    "# Have a play with some of the Text methods:\n",
    "leaves_of_grass_text.concordance('myself', width=101, lines=30)"
   ]
  },
  {
   "cell_type": "markdown",
   "metadata": {
    "collapsed": false
   },
   "source": [
    "You can define a new class of object using a `class` statement, which works a lot like the `def` statement you use to define a function. Just like when you define a function, everything 'inside' the class has to be indented. The cell below creates a simple `class` called `KungFuFighter`. You will see that classes are a little more complex to define than functions.\n",
    "\n",
    "The most important concept for understanding how an object works is the special `self` variable. This variable is built-in to every function and by default, every time you use a `method` of that function, `self` is provided as the first parameter. So when you type\n",
    "```\n",
    "leaves_of_grass_text.concordance('myself')\n",
    "```\n",
    "the computer interprets it as\n",
    "```\n",
    "leaves_of_grass_text.concordance(self, 'myself')\n",
    "```\n",
    "and knows that you want to apply the `.concordance()` method to *Leaves of Grass* itself.\n",
    "\n",
    "**NB:** When you use an object method, you never need to type the word `self`——it is implied. If you look above, you will see that we typed `my_fruits.append('mango')` and NOT `my_fruits.append(self, 'mango')`.\n",
    "\n",
    "Run the cell below to create the new class called `KungFuFighter`. The code is commented to explain to you how it works. After you have run the cell, you will be able to use the `KungFuFighter()` constructor to create new martial artists."
   ]
  },
  {
   "cell_type": "code",
   "execution_count": 9,
   "metadata": {
    "collapsed": false
   },
   "outputs": [
   ],
   "source": [
    "class KungFuFighter():\n",
    "    \"\"\"A Kung Fu Fighter. Hee-ya!\"\"\"\n",
    "\n",
    "    # Every class needs to have an '__init__' method. This is the method that is used to 'initialise' a new\n",
    "    # instance of the class. It has double-underscores on either side of the name because it is a 'hidden'\n",
    "    # method. The user will never have to type KungFuFighter.__init__(). If they want to create a new KungFuFighter,\n",
    "    # they can just type `my_fighter = KungFuFighter(name=... etc.)`\n",
    "\n",
    "    # A method is just a special kind of function, so you use a `def` statement to define it. Note how `self`\n",
    "    # is the first parameter of the method, and that we indent the lines a second time to indicate we are 'inside'\n",
    "    # the method:\n",
    "\n",
    "    def __init__(self, name='Unknown fighter', hit_points=100, strength=10):\n",
    "\n",
    "        # When we initialise a new KungFuFighter, we want to let the user choose its attributes.\n",
    "        # If the user does not choose a name, hit_points or strength, then the default values will be used.\n",
    "        # To store some data as an attribute, you just create a variable inside the class with a `self.` in its name.\n",
    "        self.name = name\n",
    "        self.hit_points = hit_points\n",
    "        self.strength = strength\n",
    "\n",
    "        # You can also add attributes that the user cannot control. By design, each KungFuFighter is alive\n",
    "        # when they are created:\n",
    "        self.status = 'Alive and kicking'\n",
    "\n",
    "        # This is a general pattern: you define the attributes of a `class` in the `__init__()` method. Then you\n",
    "        # define further methods below, which make use of those attributes or even change them.\n",
    "\n",
    "        # You can access the attributes of an object in the same sort of way you access their methods. If I want to know\n",
    "        # how many hit_points my KungFuFighter has, I just type `my_fighter.hit_points` or `print(my_fighter.hit_points)`.\n",
    "        # Because an attribute is a variable, not a function, you do not need parentheses after `hit_points`.\n",
    "\n",
    "    # Now we will add some more methods so our KungFuFighter can engage in combat.\n",
    "\n",
    "    def get_kicked(self, kick_strength):\n",
    "        \"\"\"Get kicked by another KungFuFighter.\"\"\"\n",
    "\n",
    "        # If our KungFuFighter gets kicked, then we want their hit_points to go down according to how strong\n",
    "        # the kick was.\n",
    "        self.hit_points = self.hit_points - kick_strength\n",
    "\n",
    "        # What happens when our KungFuFighter runs out of hit_points? Let's change their status from\n",
    "        # 'Alive and kicking' to 'Knocked out' (this Kung Fu film is PG)\n",
    "        if self.hit_points <= 0:\n",
    "            self.status = 'Knocked out'\n",
    "            print(f'{self.name} has been knocked out!')\n",
    "\n",
    "        # Since we are storing the data inside the KungFuFighter, there is no need for any output, and we do not\n",
    "        # need a `return` statement. Of course, sometimes you do want a method to have some sort of output. If so,\n",
    "        # you can add a `return` statement as required.\n",
    "\n",
    "    def kick(self, other_fighter):\n",
    "        \"\"\"Kick another KungFuFighter.\"\"\"\n",
    "\n",
    "        # Print a message so that the user knows what has happened:\n",
    "        print(f'{self.name} kicked {other_fighter.name}!')\n",
    "\n",
    "        # Since other_fighter should be a KungFuFighter too, it should have the `.get_kicked()` method. We can use\n",
    "        # this fact to let one KungFuFighter kick another one. We will use the strength of our own KungFuFighter\n",
    "        # as the attack_strength of the kick.\n",
    "        other_fighter.get_kicked(kick_strength=self.strength)\n",
    "\n",
    "        # Again, we don't need a `return` statement, because all the data is stored inside the objects, and we do not\n",
    "        # need any output."
   ]
  },
  {
   "cell_type": "markdown",
   "metadata": {
    "collapsed": false
   },
   "source": [
    "Once a class has been defined, you can use the `help()` function to find out more about it. This works for all classes, not just the ones you have defined yourself:"
   ]
  },
  {
   "cell_type": "code",
   "execution_count": 20,
   "metadata": {
    "collapsed": false
   },
   "outputs": [
    {
     "name": "stdout",
     "output_type": "stream",
     "text": [
      "Help on class KungFuFighter in module __main__:\n",
      "\n",
      "class KungFuFighter(builtins.object)\n",
      " |  A Kung Fu Fighter. Hee-ya!\n",
      " |  \n",
      " |  Methods defined here:\n",
      " |  \n",
      " |  __init__(self, name='Unknown fighter', hit_points=100, strength=10)\n",
      " |      Initialize self.  See help(type(self)) for accurate signature.\n",
      " |  \n",
      " |  get_kicked(self, kick_strength)\n",
      " |      Get kicked by another KungFuFighter.\n",
      " |  \n",
      " |  kick(self, other_fighter)\n",
      " |      Kick another KungFuFighter.\n",
      " |  \n",
      " |  ----------------------------------------------------------------------\n",
      " |  Data descriptors defined here:\n",
      " |  \n",
      " |  __dict__\n",
      " |      dictionary for instance variables (if defined)\n",
      " |  \n",
      " |  __weakref__\n",
      " |      list of weak references to the object (if defined)\n",
      "\n"
     ]
    }
   ],
   "source": [
    "help(KungFuFighter)"
   ]
  },
  {
   "cell_type": "markdown",
   "metadata": {
    "collapsed": false
   },
   "source": [
    "### Practice 1.6: Create and use a KungFuFighter instance\n",
    "\n",
    "Execute the below code cell to create two KungFuFighters."
   ]
  },
  {
   "cell_type": "code",
   "execution_count": 0,
   "metadata": {
    "collapsed": false
   },
   "outputs": [
   ],
   "source": [
    "fighter_one = KungFuFighter(name=\"Fighter One\", hit_points=50, strength=30)\n",
    "fighter_two = KungFuFighter(name=\"Fighter Two\", hit_points=180, strength=15)"
   ]
  },
  {
   "cell_type": "markdown",
   "metadata": {
    "collapsed": false
   },
   "source": [
    "Now you can use the below cell to make `fighter_two` attack `fighter_one`. How many times do you need to execute the cell before `fighter_one` is KO'd?"
   ]
  },
  {
   "cell_type": "markdown",
   "metadata": {
    "collapsed": false
   },
   "source": [
    "Now have a play around with the two code cells. If you re-execute the first cell, the fighters will be re-created with their original attibutes. You can also alter their `hit_points` and `strength` as you please. You can then change the code in the second cell to change the course of the battle. If you add additional lines of code you can change who attacks whom, and how many times."
   ]
  },
  {
   "cell_type": "markdown",
   "metadata": {
    "collapsed": false
   },
   "source": [
    "### Assignment 1.6: Everybody was Kung Fu Fight-ing!\n",
    "\n",
    "For this assignment, you are going to create *two* Kung Fu fighters and battle them against one another.\n",
    "\n",
    "Your task:\n",
    "* Create two fighters, `lady_sun` and `cao_cao`. `lady_sun` should have the name \"[Sun Shangxiang](https://en.wikipedia.org/wiki/Lady_Sun)\", have `150` hit points, and have a strength of `30`. `cao_cao` should be called \"[Cao Cao](\"https://en.wikipedia.org/wiki/Cao_Cao\")\", have `90` hit points and have a strength of `50`.\n",
    "* It's the battle of [Red Cliffs](https://en.wikipedia.org/wiki/Battle_of_Red_Cliffs). Lady Sun attacks Cao Cao until he is knocked out. (**NB:** You need to use `lady_sun`'s' the `.kick()` method to make this work. To complete the assignment correctly, you need to make the correct number of kicks occur from just *one* execution of the cell.)"
   ]
  },
  {
   "cell_type": "code",
   "execution_count": 10,
   "metadata": {
    "collapsed": false,
    "nbgrader": {
     "grade": false,
     "grade_id": "kung_fu_fighting",
     "locked": false,
     "schema_version": 3,
     "solution": true,
     "task": false
    }
   },
   "outputs": [
    {
     "name": "stdout",
     "output_type": "stream",
     "text": [
      "Sun Shangxiang kicked Cao Cao!\n",
      "Sun Shangxiang kicked Cao Cao!\n",
      "Sun Shangxiang kicked Cao Cao!\n",
      "Cao Cao has been knocked out!\n"
     ]
    }
   ],
   "source": [
    "### BEGIN SOLUTION\n",
    "lady_sun = KungFuFighter(name=\"Sun Shangxiang\", hit_points=150, strength=30)\n",
    "cao_cao = KungFuFighter(name=\"Cao Cao\", hit_points=90, strength=50)\n",
    "lady_sun.kick(cao_cao)\n",
    "lady_sun.kick(cao_cao)\n",
    "lady_sun.kick(cao_cao)\n",
    "### END SOLUTION"
   ]
  },
  {
   "cell_type": "code",
   "execution_count": 12,
   "metadata": {
    "collapsed": false,
    "nbgrader": {
     "grade": true,
     "grade_id": "kung_fu_fighting_tests",
     "locked": true,
     "points": 5,
     "schema_version": 3,
     "solution": false,
     "task": false
    }
   },
   "outputs": [
    {
     "name": "stdout",
     "output_type": "stream",
     "text": [
      "Lady Sun's type: <class '__main__.KungFuFighter'>\n",
      "Cao Cao's status: Knocked out\n"
     ]
    }
   ],
   "source": [
    "# Is lady_sun of the right type?\n",
    "print(\"Lady Sun's type: \" + str(type(lady_sun)))\n",
    "\n",
    "# Did she KO Cao Cao?\n",
    "print(\"Cao Cao's status: \" + cao_cao.status)\n",
    "### BEGIN HIDDEN TESTS\n",
    "assert type(lady_sun) is KungFuFighter\n",
    "assert type(cao_cao) is KungFuFighter\n",
    "assert lady_sun.name == \"Sun Shangxiang\"\n",
    "assert lady_sun.strength == 30\n",
    "assert cao_cao.name == \"Cao Cao\"\n",
    "assert cao_cao.strength == 50\n",
    "assert cao_cao.hit_points <= 0 and cao_cao.status == 'Knocked out'\n",
    "### END HIDDEN TESTS"
   ]
  },
  {
   "cell_type": "markdown",
   "metadata": {
    "collapsed": false
   },
   "source": [
    "Expected output:\n",
    "```\n",
    "Lady Sun's type: <class '__main__.KungFuFighter'>\n",
    "Cao Cao's status: Knocked out\n",
    "```"
   ]
  },
  {
   "cell_type": "markdown",
   "metadata": {
    "collapsed": false
   },
   "source": [
    "## Section 4: Building a Haiku Generator\n",
    "\n",
    "With the knowledge you have of Python's basic structures, you are now ready for your first big assignment: to build a Haiku generator. To do this, you are going to define a new class, `HaikuGenerator`. This class will contain data: a set of pre-written lines that can be used to construct haikus. It will also contain methods: methods for updating the database of haiku lines, and also for generating new haikus.\n",
    "\n",
    "As you hopefully know, a haiku is a traditional form of Japanese poetry that consists of three lines of 5, 7, and 5 syllables each. Traditionally a haiku should also have a *kigo*, or a reference to a season, and a *kireji* or 'cutting word', which flips or bifurcates the meaning of the poem. This is a programming assignment, however, so you will not be marked on whether your poems fit these strict requirements.\n",
    "\n",
    "Nonetheless, you will need to have some lines to upload into your HaikuGenerator...\n",
    "\n",
    "### Assignment 1.7: Create a list of `short_lines` and a list of `long_lines`\n",
    "\n",
    "For the first part of this assignment, you need to create a `list` of short lines (roughly five syllables each) and a list of long lines (roughly seven syllables each). You should have at least 6 short lines and 3 long lines.\n",
    "\n",
    "As we saw above, to create a list you use square brackets:\n",
    "```\n",
    "my_list = [item1, item2, item3, ...]\n",
    "```\n",
    "\n",
    "If you're struggling to think of lines, you could borrow a line or two from famous haikus by [Matsuo Basho](https://en.wikipedia.org/wiki/Matsuo_Bash%C5%8D), [Wendy Cope](https://poetryarchive.org/poem/strugnells-haiku/) or [Richard Wright](https://livinghaikuanthology.com/index-of-poets/livinglegacies/2711-richard-wright.html).\n",
    "\n",
    "Your task:\n",
    "* Create a list called `short_lines` that contains at least six five-syllable lines (don't worry too much about the syllable count)\n",
    "* Create a list called `long_lines` that contains at least three seven-syllable lines (ditto on the syllable count)"
   ]
  },
  {
   "cell_type": "code",
   "execution_count": 13,
   "metadata": {
    "collapsed": false,
    "nbgrader": {
     "grade": false,
     "grade_id": "line_lists",
     "locked": false,
     "schema_version": 3,
     "solution": true,
     "task": false
    }
   },
   "outputs": [
   ],
   "source": [
    "### BEGIN SOLUTION\n",
    "short_lines = [\n",
    "    'Whenever I wander there', 'They roll—the sea, time', 'Clacking on keyboards',\n",
    "    'Opening the door...', 'Together at last!', 'Only then they spoke'\n",
    "]\n",
    "long_lines = [\n",
    "    'Iguanas will sun themselves', 'I see the bus, complaining', 'My eyes flutter painfully'\n",
    "]\n",
    "### END SOLUTION"
   ]
  },
  {
   "cell_type": "code",
   "execution_count": 14,
   "metadata": {
    "collapsed": false,
    "nbgrader": {
     "grade": true,
     "grade_id": "line_lists_test",
     "locked": true,
     "points": 1,
     "schema_version": 3,
     "solution": false,
     "task": false
    }
   },
   "outputs": [
    {
     "name": "stdout",
     "output_type": "stream",
     "text": [
      "short_lines is a list with 6 items in it.\n",
      "long_lines is a list with 3 items in it.\n"
     ]
    }
   ],
   "source": [
    "print(f'short_lines is a {type(short_lines).__name__} with {len(short_lines)} items in it.')\n",
    "print(f'long_lines is a {type(long_lines).__name__} with {len(long_lines)} items in it.')\n",
    "### BEGIN HIDDEN TESTS\n",
    "assert type(short_lines) == list\n",
    "assert len(short_lines) >= 6\n",
    "assert type(long_lines) == list\n",
    "assert len(long_lines) >= 3\n",
    "### END HIDDEN TESTS"
   ]
  },
  {
   "cell_type": "markdown",
   "metadata": {
    "collapsed": false
   },
   "source": [
    "Expected output:\n",
    "```\n",
    "short_lines is a list with 6 items in it.\n",
    "long_lines is a list with 3 items in it.\n",
    "```\n",
    "Of course these numbers could be higher, if you have added more than 6 or 3 lines to your `lists`."
   ]
  },
  {
   "cell_type": "markdown",
   "metadata": {
    "collapsed": false
   },
   "source": [
    "Now you need to define the `HaikuGenerator` class, which will store and internal database of short lines and long lines, and will randomly generate haikus from them. The cells below introduce a function and a method that will be useful for you.\n",
    "1. The `random` packages contains a function called `choice()`, which you can use to randomly select an item from a collection such as a list. "
   ]
  },
  {
   "cell_type": "code",
   "execution_count": 15,
   "metadata": {
    "collapsed": false
   },
   "outputs": [
    {
     "name": "stdout",
     "output_type": "stream",
     "text": [
      "A random line: Opening the door...\n"
     ]
    }
   ],
   "source": [
    "from random import choice\n",
    "\n",
    "random_line = choice(short_lines)\n",
    "print(\"A random line: \" + random_line)"
   ]
  },
  {
   "cell_type": "markdown",
   "metadata": {
    "collapsed": false
   },
   "source": [
    "2. `str` objects (i.e. string variables or literals) have a method called `.join()` that you can use to join items together.\n",
    "\n",
    "The `.join()` method joins together whatever is inside the parentheses using the string on which you call the method.\n",
    "\n",
    "Two notes:\n",
    "* Put the string that you want to use to join the other strings together before the '`.`'. So if you want to join together a bunch of strings using a newline ('\\n'), then you need to type `'\\n'.join()`\n",
    "* `.join()` requires a `list` as its parameter. You can either provide a variable that is a list: `\" \".join(my_list)`, or you can type a list directly into the parentheses, `my_string.join([\"join this\", \"and this\", \"and this\"])`."
   ]
  },
  {
   "cell_type": "code",
   "execution_count": 16,
   "metadata": {
    "collapsed": false
   },
   "outputs": [
    {
     "name": "stdout",
     "output_type": "stream",
     "text": [
      "Macbeth's speech:\n",
      "Tomorrow and tomorrow and tomorrow\n",
      "Creeps in this petty pace from day to day,\n",
      "To the last syllable of recorded time ...\n",
      "\n",
      "Hamlet's speech:\n",
      "To be or not to be, that is the question\n",
      "Whether 'tis nobler in the mind to suffer\n",
      "The slings and arrows of outrageous fortune ...\n"
     ]
    }
   ],
   "source": [
    "macbeth_speech = '\\n'.join(\n",
    "    [\"Tomorrow and tomorrow and tomorrow\", \"Creeps in this petty pace from day to day,\", \"To the last syllable of recorded time ...\"]\n",
    ")\n",
    "print(\"Macbeth's speech:\")\n",
    "print(macbeth_speech)\n",
    "\n",
    "# If that code is confusing, you can also do this:\n",
    "\n",
    "newline = '\\n'\n",
    "hamlet_lines = [\"To be or not to be, that is the question\", \"Whether 'tis nobler in the mind to suffer\", \"The slings and arrows of outrageous fortune ...\"]\n",
    "hamlet_speech = newline.join(hamlet_lines)\n",
    "print(\"\\nHamlet's speech:\")\n",
    "print(hamlet_speech)"
   ]
  },
  {
   "cell_type": "markdown",
   "metadata": {
    "collapsed": false
   },
   "source": [
    "### Assignment 1.8: Build your HaikuGenerator\n",
    "\n",
    "Now it's your turn to define your first custom class in Python. `HaikuGenerator` will store an internal database of poetic lines, and use them to randomly generate new haikus.\n",
    "\n",
    "Your `HaikuGenerator` will have two attributes and three methods.\n",
    "\n",
    "The attributes:\n",
    "* `five_syllable_lines`: a `list` of five-syllable lines\n",
    "* `seven_syllable_lines`: a `list` of seven-syllable lines\n",
    "\n",
    "The methods:\n",
    "* `generate_haiku`: generate a new haiku by randomly selecting lines from the internal database and joining them together. This method should `return` the new haiku as a single string.\n",
    "* `add_five_syllable_line`: add a new five-syllable line to the internal database. Returns nothing.\n",
    "* `add_seven_syllable_line`: add a new seven-syllable line to the internal database. Returns nothing.\n",
    "\n",
    "All the instructions are included as comments in the cell below. If you need more space for your code, simply press <kbd>Enter</kbd> a few times to add some more blank space to the cell."
   ]
  },
  {
   "cell_type": "code",
   "execution_count": 26,
   "metadata": {
    "collapsed": false,
    "nbgrader": {
     "grade": false,
     "grade_id": "haiku_generator",
     "locked": false,
     "schema_version": 3,
     "solution": true,
     "task": false
    }
   },
   "outputs": [
   ],
   "source": [
    "class HaikuGenerator():\n",
    "    \"\"\"Generates haiku from an internal database of five- and seven-syllable lines.\"\"\"\n",
    "\n",
    "    # In the __init__ method, store the provided five_syllable_lines and seven_syllable_lines as\n",
    "    # attributes of the HaikuGenerator.\n",
    "    # NB: The reason is slightly complex, but if a parameter provided is a `list`, then instead\n",
    "    # of writing `self.attribute = parameter`, as we did above, you need to write `self.attribute = parameter.copy()`.\n",
    "    # This is because a list is a 'mutable' variable. We will cover this in Week 3.\n",
    "    def __init__(self, five_syllable_lines, seven_syllable_lines):\n",
    "        ### BEGIN SOLUTION\n",
    "        self.five_syllable_lines = five_syllable_lines.copy()\n",
    "        self.seven_syllable_lines = seven_syllable_lines.copy()\n",
    "        ### END SOLUTION\n",
    "\n",
    "    # Now add the most important method: the one that actually generates a random haiku.\n",
    "    def generate_haiku(self):\n",
    "        \"\"\"Generates a new haiku.\"\"\"\n",
    "        ### BEGIN SOLUTION\n",
    "        # Select a `first_line` from `self.five_syllable_lines` using `choice()`:\n",
    "        first_line = choice(self.five_syllable_lines)\n",
    "        # Select a `second_line` using the same approach (be careful which list you choose from):\n",
    "        second_line = choice(self.seven_syllable_lines)\n",
    "        # Select a `third_line` using the same approach:\n",
    "        third_line = choice(self.five_syllable_lines)\n",
    "        # Join the three lines together using `'\\n'.join()`. Store it in a variable called `haiku`\n",
    "        haiku = '\\n'.join([first_line, second_line, third_line])\n",
    "        ### END SOLUTION\n",
    "        # Instead of printing the haiku to the screen, we will output it as a value\n",
    "        # so it can be saved and used.\n",
    "        return haiku\n",
    "\n",
    "    # Now you are going to add two more methods. If you have forgotten about the `.append()` method\n",
    "    # of a list, scroll up and take a look to remind yourself.\n",
    "\n",
    "    # The first method will be called `add_five_syllable_line`. It will let the user add another\n",
    "    # five-syllable line to the generator's internal database.\n",
    "    def add_five_syllable_line(self, new_line):\n",
    "        \"\"\"Adds a new line to the generator's database of five-syllable lines.\"\"\"\n",
    "        ### BEGIN SOLUTION\n",
    "        # Add `new_line` to `self.five_syllable_lines` using the `.append()` method.\n",
    "        # [Remember, `self.five_syllable_lines` is a list!]\n",
    "        self.five_syllable_lines.append(new_line)\n",
    "        ### END SOLUTION\n",
    "\n",
    "    # Now add an equivalent method called `add_seven_syllable_line` that allows the user to add\n",
    "    # another seven-syllable line to the generator's internal database.\n",
    "    # Remember:\n",
    "    #   - The first parameter of the method should be `self`\n",
    "    #   - The second parameter should be `new_line`, and we expect the user to input a string\n",
    "    #   - After the `def` line, you should add a 'docstring' using triple quotation marks (\"\"\"), to\n",
    "    #     explain what the function does. This docstring is used by Python's `help()` function.\n",
    "    #   - You already know how to use list.append().\n",
    "    #   - There is no need for this method to return anything.\n",
    "    ### BEGIN SOLUTION\n",
    "    def add_seven_syllable_line(self, new_line):\n",
    "        \"\"\"Adds a new line to the generator's database of seven-syllable lines.\"\"\"\n",
    "        self.seven_syllable_lines.append(new_line)\n",
    "    ### END SOLUTION"
   ]
  },
  {
   "cell_type": "code",
   "execution_count": 27,
   "metadata": {
    "collapsed": false,
    "nbgrader": {
     "grade": true,
     "grade_id": "haiku_generator_test",
     "locked": true,
     "points": 8,
     "schema_version": 3,
     "solution": false,
     "task": false
    }
   },
   "outputs": [
    {
     "name": "stdout",
     "output_type": "stream",
     "text": [
      "Help on class HaikuGenerator in module __main__:\n",
      "\n",
      "class HaikuGenerator(builtins.object)\n",
      " |  Generates haiku from an internal database of five- and seven-syllable lines.\n",
      " |  \n",
      " |  Methods defined here:\n",
      " |  \n",
      " |  __init__(self, five_syllable_lines, seven_syllable_lines)\n",
      " |      Initialize self.  See help(type(self)) for accurate signature.\n",
      " |  \n",
      " |  add_five_syllable_line(self, new_line)\n",
      " |      Adds a new line to the generator's database of five-syllable lines.\n",
      " |  \n",
      " |  add_seven_syllable_line(self, new_line)\n",
      " |      Adds a new line to the generator's database of seven-syllable lines.\n",
      " |  \n",
      " |  generate_haiku(self)\n",
      " |      Generates a new haiku.\n",
      " |  \n",
      " |  ----------------------------------------------------------------------\n",
      " |  Data descriptors defined here:\n",
      " |  \n",
      " |  __dict__\n",
      " |      dictionary for instance variables (if defined)\n",
      " |  \n",
      " |  __weakref__\n",
      " |      list of weak references to the object (if defined)\n",
      "\n"
     ]
    }
   ],
   "source": [
    "help(HaikuGenerator)\n",
    "### BEGIN HIDDEN TESTS\n",
    "assert HaikuGenerator.add_seven_syllable_line\n",
    "assert len(HaikuGenerator.add_seven_syllable_line.__doc__) > 0\n",
    "test_short = [\"A\"]\n",
    "test_long = [\"B\"]\n",
    "test_gen = HaikuGenerator(test_short, test_long)\n",
    "assert test_gen.five_syllable_lines == test_short\n",
    "assert test_gen.seven_syllable_lines == test_long\n",
    "test_haiku = test_gen.generate_haiku()\n",
    "assert test_haiku.count('\\n') == 2 # 2 line breaks for three lines\n",
    "test_lines = test_haiku.split('\\n')\n",
    "assert test_lines[0] in test_short\n",
    "assert test_lines[1] in test_long\n",
    "assert test_lines[2] in test_short\n",
    "### END HIDDEN TESTS"
   ]
  },
  {
   "cell_type": "markdown",
   "metadata": {
    "collapsed": false
   },
   "source": [
    "Expected output:\n",
    "```\n",
    "Help on class HaikuGenerator in module __main__:\n",
    "\n",
    "class HaikuGenerator(builtins.object)\n",
    " |  Generates haiku from an internal database of five- and seven-syllable lines.\n",
    " |  \n",
    " |  Methods defined here:\n",
    " |  \n",
    " |  __init__(self, five_syllable_lines, seven_syllable_lines)\n",
    " |      Initialize self.  See help(type(self)) for accurate signature.\n",
    " |  \n",
    " |  add_five_syllable_line(self, new_line)\n",
    " |      Adds a new line to the generator's database of five-syllable lines.\n",
    " |  \n",
    " |  add_seven_syllable_line(self, new_line)\n",
    " |      Adds a new line to the generator's database of seven-syllable lines.\n",
    " |  \n",
    " |  generate_haiku(self)\n",
    " |      Generates a new haiku.\n",
    " |  \n",
    " |  ----------------------------------------------------------------------\n",
    " |  Data descriptors defined here:\n",
    " |  \n",
    " |  __dict__\n",
    " |      dictionary for instance variables (if defined)\n",
    " |  \n",
    " |  __weakref__\n",
    " |      list of weak references to the object (if defined)\n",
    "```"
   ]
  },
  {
   "cell_type": "markdown",
   "metadata": {
    "collapsed": false
   },
   "source": [
    "### Assignment 1.9: Generate some haikus!\n",
    "\n",
    "Well done, you've reached the end of Week 1. You know have a good knowledge of most of Python's fundamental structures. Your final task is to take your new `HaikuGenerator` for a spin.\n",
    "\n",
    "For this final assignment, you need to:\n",
    "* Create a new instance of your HaikuGenerator class. Call it `my_haiku_generator` and initialise it using your lists of `short_lines` and `long_lines`\n",
    "* Add either a new five- or seven-syllable line to `my_haiku_generator`'s internal database using one of your two line-adding methods\n",
    "* Generate a new haiku using `my_haiku_generator.generate_haiku()`. Call it `new_haiku`."
   ]
  },
  {
   "cell_type": "code",
   "execution_count": 28,
   "metadata": {
    "collapsed": false,
    "nbgrader": {
     "grade": false,
     "grade_id": "use_generator",
     "locked": false,
     "schema_version": 3,
     "solution": true,
     "task": false
    }
   },
   "outputs": [
   ],
   "source": [
    "### BEGIN SOLUTION\n",
    "my_haiku_generator = HaikuGenerator(short_lines, long_lines)\n",
    "my_haiku_generator.add_five_syllable_line('Rains came strongly there')\n",
    "new_haiku = my_haiku_generator.generate_haiku()\n",
    "### END SOLUTION"
   ]
  },
  {
   "cell_type": "code",
   "execution_count": 0,
   "metadata": {
    "collapsed": false,
    "nbgrader": {
     "grade": true,
     "grade_id": "use_generator_tests",
     "locked": true,
     "points": 1,
     "schema_version": 3,
     "solution": false,
     "task": false
    }
   },
   "outputs": [
   ],
   "source": [
    "### BEGIN HIDDEN TESTS\n",
    "assert my_haiku_generator\n",
    "assert (len(my_haiku_generator.five_syllable_lines) > len(short_lines)) or (len(my_haiku_generator.seven_syllable_lines) > len(long_lines))\n",
    "assert type(new_haiku) == str\n",
    "assert new_haiku.count('\\n') == 2\n",
    "### END HIDDEN TESTS\n",
    "print(f'my_haiku_generators\\'s internal database:\\n')\n",
    "print(f'five_syllable_lines == {my_haiku_generator.five_syllable_lines}\\n')\n",
    "print(f'seven_syllable_lines == {my_haiku_generator.seven_syllable_lines}\\n')\n",
    "print(f'The generated haiku:\\n\\n{new_haiku}')"
   ]
  },
  {
   "cell_type": "markdown",
   "metadata": {
    "collapsed": false
   },
   "source": [
    "Expected output:\n",
    "```\n",
    "my_haiku_generator's internal database:\n",
    "\n",
    "five_syllable_lines == [Your original list of `short_lines`, with another line or two added if you used `.add_five_syllable_line()`]\n",
    "\n",
    "seven_syllable_lines == [Your original list of `long_lines`, with another line or two added if you used `.add_seven_syllable_line()`]\n",
    "\n",
    "The generated haiku:\n",
    "\n",
    "[A randomly generated haiku]\n",
    "```"
   ]
  },
  {
   "cell_type": "markdown",
   "metadata": {
    "collapsed": false
   },
   "source": [
    "## Conclusion\n",
    "\n",
    "Congratulations! Having complete this Jupyter Notebook, you are an accomplished Python programmer already. All Python programs involve literals, variables, types (also called classes), functions, objects and methods. Now that you know how functions and objects are defined, you have a direct insight into the guts of Python. A 'package' is really just a big set of customised classes and functions that work together to provide a range of functionality.\n",
    "\n",
    "Next week we will move into text analysis, building on the little taster you had this week with NLTK's `Text()` object. You will learn how to import your own text data into Python, and start analysing patterns in the words.\n",
    "\n",
    "I hope you enjoyed the first week of this course. See you next week for **Week 2: Text Analysis**."
   ]
  },
  {
   "cell_type": "markdown",
   "metadata": {
    "collapsed": false
   },
   "source": [
    "### Extension 1.20: Improve the HaikuGenerator\n",
    "\n",
    "If you try your haiku generator a few times, you will see that it sometimes makes a silly mistake: it uses the same line for the first line and the last line! Perhaps you find this repetition poetic, and don't mind. But if you would rather the generator used three *unique* lines in each poem, then you will need to change the `.generate_haiku()` method.\n",
    "\n",
    "I have started off your answer for you. Using [inheritance](https://docs.python.org/3.8/tutorial/classes.html?highlight=expressions#inheritance), we can create a *new* class that inherits all of the attributes and methods of another class. All you need to do is write a new, better version of the `.generate_haiku()` method.\n",
    "\n",
    "**Hint:** You might like to import the `sample` function from the `random` package. [See the documentation](https://docs.python.org/3/library/random.html#random.sample). If you do import any functions from other packages, make sure you do so *outside* the definition of the class."
   ]
  },
  {
   "cell_type": "code",
   "execution_count": 0,
   "metadata": {
    "collapsed": false
   },
   "outputs": [
   ],
   "source": [
    "class NewHaikuGenerator(HaikuGenerator):\n",
    "    \"\"\"New and improved HaikuGenerator\"\"\"\n",
    "\n",
    "    def generate_haiku(self):\n",
    "        \"\"\"Generates a new haiku.\"\"\"\n",
    "        ### YOUR CODE HERE\n",
    "        \n",
    "        ### END OF YOUR CODE"
   ]
  }
 ],
 "metadata": {
  "kernelspec": {
   "display_name": "Python 3 (system-wide)",
   "language": "python",
   "metadata": {
    "cocalc": {
     "description": "Python 3 programming language",
     "priority": 100,
     "url": "https://www.python.org/"
    }
   },
   "name": "python3",
   "resource_dir": "/ext/jupyter/kernels/python3"
  },
  "language_info": {
   "codemirror_mode": {
    "name": "ipython",
    "version": 3
   },
   "file_extension": ".py",
   "mimetype": "text/x-python",
   "name": "python",
   "nbconvert_exporter": "python",
   "pygments_lexer": "ipython3",
   "version": "3.8.5"
  }
 },
 "nbformat": 4,
 "nbformat_minor": 4
}