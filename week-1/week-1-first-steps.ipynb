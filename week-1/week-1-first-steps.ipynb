{
 "cells": [
  {
   "cell_type": "markdown",
   "metadata": {
    "collapsed": false
   },
   "source": [
    "# Hacking the Humanities Week 1: First Steps in Python\n",
    "\n",
    "Welcome to *Hacking the Humanities*. If this is your first time coding, and you haven't yet watched the welcome lecture on Moodle or completed the notebook in the [welcome](../welcome) folder of your CoCalc project, I would recommend you do both now.\n",
    "\n",
    "Otherwise, let's get started with the course!\n",
    "\n",
    "In this first week of the course, we are going to learn to define our own custom **functions** and **objects** in Python. By doing so, we will have the opportunity to learn all the basic components of the Python programming language, in particular *variables*, *functions*, *operators*, *packages* and *types* or *object classes*. These terms should already be familar to you if you have watched the explainer videos on Moodle."
   ]
  },
  {
   "cell_type": "markdown",
   "metadata": {
    "collapsed": false
   },
   "source": [
    "## Section 1: Variables, Functions and Operators\n",
    "\n",
    "A **variable** is like a pronoun (they, it, this, that) or a pronumeral (x, y). It is a placeholder to which you can assign a value. By convention, variable names are written in [snake_case](https://en.wikipedia.org/wiki/Snake_case). There cannot be a space in a variable name. You can assign a value to a variable using `=`.\n",
    "\n",
    "If you just type a value without giving it a name, e.g. `7`, `\"Star Wars\"`, or `[1,2,3,4]`, this is called a **literal**.\n",
    "\n",
    "Execute the cell below to see how to assign a value to a variable. To execute the cell, click on it, then press <kbd>Ctrl</kbd>/<kbd>Control</kbd> + <kbd>Enter</kbd>."
   ]
  },
  {
   "cell_type": "code",
   "execution_count": 0,
   "metadata": {
    "collapsed": false
   },
   "outputs": [
   ],
   "source": [
    "my_var = 'This variable is a string'\n",
    "print(my_var)"
   ]
  },
  {
   "cell_type": "markdown",
   "metadata": {
    "collapsed": false
   },
   "source": [
    "A **function** is a command you can use to make Python do something. Most functions require some *arguments* or *parameters* to be provided, which tell the computer how it should perform the function. You can think of a function as a *verb*, and the parameters as *nouns*.\n",
    "\n",
    "An example: The `int()` function converts its input into an integer. Execute the cell below to see how it works."
   ]
  },
  {
   "cell_type": "code",
   "execution_count": 0,
   "metadata": {
    "collapsed": false
   },
   "outputs": [
   ],
   "source": [
    "my_string = '100'\n",
    "print(f'my_string is a {type(my_string)}')\n",
    "print(my_string + ' billion dollars')\n",
    "\n",
    "# Let's convert my_string into an integer using int()\n",
    "my_int = int(my_string)\n",
    "print(f'my_int is a {type(my_int)}')\n",
    "print(my_int + 10)"
   ]
  },
  {
   "cell_type": "markdown",
   "metadata": {
    "collapsed": false
   },
   "source": [
    "In the code cell above, you will also have seen a `+`. This is an example of an **operator**. Operators are a bit like functions, in that they command the computer to do something. But whereas a function is a word with paraentheses, e.g. `do_something()`, an operator is simply a symbol or a word that in between two variables or literals you wish to affect. Common operators in Python include:\n",
    "\n",
    "Symbol | Operation \n",
    "--- | --- \n",
    "`=` | Assignment\n",
    "`==` | Equality\n",
    "`+` | Addition or Concatenation\n",
    "`-` | Subtraction\n",
    "`*` | Multiplication\n",
    "`/` | Division (with decimal point)\n",
    "`//` | Division (whole number, drop the remainder)\n",
    "`%` | Modulo (divide and just keep the remainder)\n",
    "\n",
    "As you will have seen above, `+` does something different to strings and numbers:"
   ]
  },
  {
   "cell_type": "code",
   "execution_count": 0,
   "metadata": {
    "collapsed": false
   },
   "outputs": [
   ],
   "source": [
    "# `+` adds two numbers:\n",
    "print(26.5 + 81.332)\n",
    "\n",
    "# But it concatenates two strings\n",
    "print('Arnold' + 'Schwarzenegger')"
   ]
  },
  {
   "cell_type": "markdown",
   "metadata": {
    "collapsed": false
   },
   "source": [
    "### Practice 1.1: Assignment vs. Equality\n",
    "\n",
    "As mentioned in the explainer videos, there are two different kinds of equals sign in Python (as in many other programming languages). A single equals sign, `=`, is the *assignment operator*. It assigns a value to a variable. The double equals sign, `==`, is the *equality operator*. It checks if one variable or literal is equal to another. There are a range of similar operators in Python, such as `!=`, which is the *negation operator*, or `>=`, which is *greater than or equal to*, or `is` and `is not`, which are similar to `==` and `!=`, but check for *identity* rather than *equality*.\n",
    "\n",
    "For this practice, experiment with the code cell below. To get you started, here are some questions you could consider:\n",
    "* Does `'étrange'` equal `'etrange'`? How about `'Joe'` and `'joe'`?\n",
    "* Does `7. == 7` yield the same result as `7. is 7`? How about `!=` and `is not`?\n",
    "* Is `'27'` greater than or equal to `5`? (Note the quotation marks)\n",
    "* What happens if you try to execute `82 = 82`? Why does that happen?\n",
    "\n",
    "Python's different operators are explained in the [Expressions](https://docs.python.org/3/reference/expressions.html?highlight=operators#comparisons) chapter of the official documentation."
   ]
  },
  {
   "cell_type": "code",
   "execution_count": 0,
   "metadata": {
    "collapsed": false
   },
   "outputs": [
   ],
   "source": [
    "my_var = 'A string'\n",
    "\n",
    "my_var == 'a string'"
   ]
  },
  {
   "cell_type": "markdown",
   "metadata": {
    "collapsed": false
   },
   "source": [
    "### Assignment 1.2: Define your own function\n",
    "\n",
    "In order to do real programming in Python, you need to be able to define your own functions. To define a function, you need to use a `def` statement. This is the format:\n",
    "\n",
    "```\n",
    "def function_name(parameter_1, parameter_2=45, parameter_3=\"default value\", etc.):\n",
    "    \"\"\"A docstring describing what your function does\"\"\"\n",
    "\n",
    "    # Some code which does something to the parameters\n",
    "    # NB: These lines must be indented. By default you indent four spaces, which you can do using the 'tab' key\n",
    "\n",
    "    output = parameter_1 // parameter_2 * 7\n",
    "\n",
    "    # At the end of a function, you should usually have a `return` statement, which says what the output of the function will be.\n",
    "    # If there is no 'return' statement, then the function will not have an output.\n",
    "\n",
    "    return output\n",
    "```\n",
    "\n",
    "When you are developing code, it is a good practice to include comments explaining what it does, so that other people can understand your code—and so that you can understand it when you come back to it later. There are two ways of writing a comment in Python:\n",
    "\n",
    "```\n",
    "# A hashtag turns everything after it into a comment\n",
    "```\n",
    "or\n",
    "```\n",
    "\"\"\"\n",
    "You can use triple quotation marks\n",
    "to create a multiline comment.\n",
    "Triple inverted commas (''') work as well.\n",
    "\"\"\"\n",
    "```\n",
    "\n",
    "Now you know how to create a variable, use some basic operators and define a function, here is your first assignment: create a function called `concatenate()` that concatenates two strings. To do this:\n",
    "* Define a function called `concatenate` that takes two parameters as input. (By convention, functions are also named in [snake_case](https://en.wikipedia.org/wiki/Snake_case), just like variables.)\n",
    "* Inside the function, use the correct operator to concatenate those parameters\n",
    "* Use a `return` statement to output the concatenated string"
   ]
  },
  {
   "cell_type": "code",
   "execution_count": 0,
   "metadata": {
    "collapsed": false,
    "nbgrader": {
     "grade": false,
     "grade_id": "define_function",
     "locked": false,
     "schema_version": 3,
     "solution": true,
     "task": false
    }
   },
   "outputs": [
   ],
   "source": [
    "### BEGIN SOLUTION\n",
    "def concatenate(string_1, string_2):\n",
    "    \"\"\"Concatenates two strings\"\"\"\n",
    "    return string_1 + string_2\n",
    "### END SOLUTION"
   ]
  },
  {
   "cell_type": "code",
   "execution_count": 0,
   "metadata": {
    "collapsed": false,
    "nbgrader": {
     "grade": true,
     "grade_id": "define_function_test",
     "locked": true,
     "points": 3,
     "schema_version": 3,
     "solution": false,
     "task": false
    }
   },
   "outputs": [
   ],
   "source": [
    "my_concatenated_string = concatenate('Your mother was a hamster, ', 'and your father smelled of elderberries.')\n",
    "print(my_concatenated_string)\n",
    "### BEGIN HIDDEN TESTS\n",
    "assert concatenate('Astro', 'Turf') == 'AstroTurf'\n",
    "### END HIDDEN TESTS"
   ]
  },
  {
   "cell_type": "markdown",
   "metadata": {
    "collapsed": false
   },
   "source": [
    "Expected output:\n",
    "```\n",
    "Your mother was a hamster, and your father smelled of elderberries.\n",
    "```"
   ]
  },
  {
   "cell_type": "markdown",
   "metadata": {
    "collapsed": false
   },
   "source": [
    "### Extension 1.3: Can you fix this error?\n",
    "\n",
    "Run the cell below. Why doesn't it work? Can you fix your function so that is no longer vulnerable to this error? (Hint: Python has [a built-in function](https://docs.python.org/3/library/functions.html) that might help.)"
   ]
  },
  {
   "cell_type": "code",
   "execution_count": 0,
   "metadata": {
    "collapsed": false
   },
   "outputs": [
   ],
   "source": [
    "concatenate(7, '21')"
   ]
  },
  {
   "cell_type": "markdown",
   "metadata": {
    "collapsed": false
   },
   "source": [
    "## Section 2: Packages\n",
    "\n",
    "One of the most powerful aspects of Python is the wide range of *packages* which you can import to extend the language's functionality. There are a number of useful packages included in the 'Python standard library', such as `random`, `IO` and `functools`, and there are many popular packages such as `NLTK`, `scipy` and `scikit-learn` that you can download onto your machine to add further functionality. Many of the popular additional packages are already included here in CoCalc, so for the purposes of this course you don't need to worry about downloading anything.\n",
    "\n",
    "Once you get your skills up a bit in Python, it is surprisingly easy to develop your own packages and distribute them on the web. The ease with which packages can be created is one of the reasons Python is such a popular language today.\n",
    "\n",
    "Importing a package is easy, using the `import` command. Execute the cell below to see how we can import the `datetime` package (part of the Python standard library), and use its `date` object to calculate today's date."
   ]
  },
  {
   "cell_type": "code",
   "execution_count": 0,
   "metadata": {
    "collapsed": false
   },
   "outputs": [
   ],
   "source": [
    "import datetime\n",
    "\n",
    "todays_date = datetime.date.today()\n",
    "\n",
    "print(todays_date)"
   ]
  },
  {
   "cell_type": "markdown",
   "metadata": {
    "collapsed": false
   },
   "source": [
    "In the cell above, we imported the whole `datetime` package. But what if we just wanted to use one part of the package? It would be inconvenient to have to keep typing `datetime.date.today()` if all we wanted was `today()`. You can use the `from ... import` structure to just get the particular parts of a package you want."
   ]
  },
  {
   "cell_type": "code",
   "execution_count": 0,
   "metadata": {
    "collapsed": false
   },
   "outputs": [
   ],
   "source": [
    "from nltk.tokenize import wordpunct_tokenize\n",
    "\n",
    "my_tokens = wordpunct_tokenize('This sentence has five words.')\n",
    "\n",
    "print(my_tokens)"
   ]
  },
  {
   "cell_type": "markdown",
   "metadata": {
    "collapsed": false
   },
   "source": [
    "Using `from ... import` we can avoid having to type `nltk.tokenize.wordpunct_tokenize` every time. We will be looking at 'tokenizing' text next week.\n",
    "\n",
    "If you want even more convenience, you can use `as` to give a nickname to what you import."
   ]
  },
  {
   "cell_type": "code",
   "execution_count": 0,
   "metadata": {
    "collapsed": false
   },
   "outputs": [
   ],
   "source": [
    "from matplotlib import pyplot as plt\n",
    "\n",
    "plt.bar(['A','B','C','D','E'],[7,21,5,4,15])\n",
    "plt.show()"
   ]
  },
  {
   "cell_type": "markdown",
   "metadata": {
    "collapsed": false
   },
   "source": [
    "We will learn about `matplotlib` and creating graphs next week. But now you have seen how to import and use functions, you can attempt...\n",
    "\n",
    "### Assignment 1.4: Generate a random number\n",
    "\n",
    "A simple task that is useful in lots of programming contexts is random number generation. Generating [true random numbers is complicated](https://en.wikipedia.org/wiki/Pseudorandomness). But Python allows you to easily generate 'pseudorandom' numbers, which are nearly just as good. For your first assignment of *Hacking the Humanities*, you will learn how to use the `random` package to introduce randomness into your code. The `random` package is fully documented [here](https://docs.python.org/3/library/random.html).\n",
    "\n",
    "Your task:\n",
    "* Import the `randint` function from the `random` package using `from ... import ...`. (NB: Do not use `as` for this exercise, it will confuse the grader.)\n",
    "* Use the `randint` function to generate a random integer called `my_int`. (NB: the `randint()` function needs you to put a minimum and a maximum value, e.g. if you provide the values `0` and `22`, then it will generate a pseudorandom number between 0 and 22.)"
   ]
  },
  {
   "cell_type": "code",
   "execution_count": 0,
   "metadata": {
    "collapsed": false,
    "nbgrader": {
     "grade": false,
     "grade_id": "gen_rand_int",
     "locked": false,
     "schema_version": 3,
     "solution": true,
     "task": false
    }
   },
   "outputs": [
   ],
   "source": [
    "### BEGIN SOLUTION\n",
    "from random import randint\n",
    "my_int = randint(0, 10)\n",
    "### END SOLUTION"
   ]
  },
  {
   "cell_type": "code",
   "execution_count": 0,
   "metadata": {
    "collapsed": false,
    "nbgrader": {
     "grade": true,
     "grade_id": "gen_rand_int_test",
     "locked": true,
     "points": 2,
     "schema_version": 3,
     "solution": false,
     "task": false
    }
   },
   "outputs": [
   ],
   "source": [
    "# Have you created the variable correctly?\n",
    "if type(my_int) == int:\n",
    "    print(f'Success! You have randomly generated the integer {my_int}')\n",
    "### BEGIN HIDDEN TESTS\n",
    "assert randint\n",
    "assert type(my_int) is int\n",
    "### END HIDDEN TESTS"
   ]
  },
  {
   "cell_type": "markdown",
   "metadata": {
    "collapsed": false
   },
   "source": [
    "Expected output:\n",
    "```\n",
    "Success! You have randomly generated the integer [a random whole number]\n",
    "```"
   ]
  },
  {
   "cell_type": "markdown",
   "metadata": {
    "collapsed": false
   },
   "source": [
    "## Section 3: Types and Objects\n",
    "\n",
    "Every variable (or literal) in Python has both a **type** and a **value**. You have already encountered several types, including strings and integers. Here are some of Python's most common types:\n",
    "\n",
    "Type | Definition | Example Value\n",
    "--- | --- | ---\n",
    "`str` | A string of characters | 'Ramayana' or \"Ramayana\"\n",
    "`int` | A whole number | 891\n",
    "`float` | A decimal number (a [floating point number](https://en.wikipedia.org/wiki/Floating-point_arithmetic), in computer science terms) | 75.442\n",
    "`list` | An ordered collection of items | [9, 10, 10, 41]\n",
    "`tuple` | An immutable\\* ordered collection of items | (9, 10, 10, 41)\n",
    "`dict` | A labelled collection of items | {'author':'Eliza Haywood', 'title':'Betsy Thoughtless', 'year':1751}\n",
    "`set` | An unordered collection of unique items | {25,41,100028}\n",
    "\n",
    "\\* We will cover the distinction between 'mutable' and 'immutable' variables in **Week 3**.\n",
    "\n",
    "Here is where things get a bit more complicated. Python is a so-called [object-oriented programming language](https://en.wikipedia.org/wiki/Object-oriented_programming). This means that (with a very few exceptions), nearly everything you encounter is Python is an **object** that combines *data* with *functionality*. We have already seen some free-floating functions like `print()` and `int()` and your own `concatenate()` function that you can use to do this or that using Python. But objects also have built-in functions, usually known as **methods**, which allow them to do things. When we talk about objects, we often refer to their **class** rather than their **type**, but the two words are synonymous.\n",
    "\n",
    "One important class of object you will use throughout *Hacking the Humanities* is the `list`. It has [many useful methods](https://docs.python.org/3/tutorial/datastructures.html). Execute the cell below to see some of them in action. (**NB:** In this week's programming assignment we will use another class, `set`, which is similar to the `list` but has slightly more useful methods for our particular task.)"
   ]
  },
  {
   "cell_type": "code",
   "execution_count": 0,
   "metadata": {
    "collapsed": false,
    "scrolled": true
   },
   "outputs": [
   ],
   "source": [
    "# You define a list using square brackets\n",
    "my_fruits = ['apple', 'pawpaw', 'kiwi', 'achacha', 'durian']\n",
    "print(f'my_fruits when first created: {my_fruits}')\n",
    "\n",
    "# You can add to the list using `.append()`\n",
    "my_fruits.append('mango')\n",
    "print(f'my_fruits after using .append(\\'mango\\'): {my_fruits}')\n",
    "\n",
    "# You can retrieve the last item from the list using `.pop()`\n",
    "last_fruit = my_fruits.pop()\n",
    "print(f'The str \\'{last_fruit}\\' popped out of my_fruits')\n",
    "print(f'Now my_fruits looks like this: {my_fruits}')"
   ]
  },
  {
   "cell_type": "markdown",
   "metadata": {
    "collapsed": false
   },
   "source": [
    "Another object that we covered in the explainer video was the **`date`** object, which can be accessed using the `datetime` package. We have already imported this package (see above), so we can just go ahead and create a new **instance** of the `date` **class** using the code below. If it doesn't work, you will need to scroll up a few cells, find the cell where we imported the `datetime` package and execute it."
   ]
  },
  {
   "cell_type": "code",
   "execution_count": 0,
   "metadata": {
    "collapsed": false
   },
   "outputs": [
   ],
   "source": [
    "the_queens_birthday = datetime.date(1926, 4, 21)"
   ]
  },
  {
   "cell_type": "markdown",
   "metadata": {
    "collapsed": false
   },
   "source": [
    "We have created a new **instance** of the `date` **class**, which represents the Queen's birthday. Now that we have created this object, we can access many useful **attributes** and **methods**. One attribute we can access, for example, is the month the Queen was born:"
   ]
  },
  {
   "cell_type": "code",
   "execution_count": 0,
   "metadata": {
    "collapsed": false
   },
   "outputs": [
   ],
   "source": [
    "the_queens_birthday.month"
   ]
  },
  {
   "cell_type": "markdown",
   "metadata": {
    "collapsed": false
   },
   "source": [
    "A nifty *method* we can use is the `.weekday()` method. This works out what day of the week it was on the given day. What day of the week was the Queen born? (**NB:** Python counts from `0`, and considers Monday to be the first day of the week, so `0 == Monday`, `1 == Tuesday`, `2 == Wednesday` etc. etc.)"
   ]
  },
  {
   "cell_type": "code",
   "execution_count": 0,
   "metadata": {
    "collapsed": false
   },
   "outputs": [
   ],
   "source": [
    "the_queens_birthday.weekday()"
   ]
  },
  {
   "cell_type": "markdown",
   "metadata": {
    "collapsed": false
   },
   "source": [
    "If you want to have a play with the `date` class, you can find a comprehensive list of all its attributes and methods [in the official Python documentation](https://docs.python.org/3/library/datetime.html#datetime.date)."
   ]
  },
  {
   "cell_type": "markdown",
   "metadata": {
    "collapsed": false
   },
   "source": [
    "### Practice 1.5: Have a play with a `Text` object\n",
    "\n",
    "Python packages typically contain a whole host of useful **classes** that you can use for particular applications. The `numpy` package, for instance, allows you to work with different kinds of mathematical objects, such as vectors and matrices. The `pandas` package lets you work with tables of data. The Python **Natural Language Toolkit** contains many kinds of object that are extremely useful for linguistic analysis, such as `corpora` of texts, `tokenizers` to split them up with, and different kinds of `models` for analysing them.\n",
    "\n",
    "One of the most useful classes in the **Natural Language Toolkit** is the `Text` class. We have seen how basic types, like `str` and `int`, can be created simply by typing a string or a number. More complex classes must be created using a **constructor**. By convention, constructors are written in TitleCase. You can provide parameters to the constructor in just the same way you would to a function.\n",
    "\n",
    "You create a new **instance** of the `Text` class by calling the constructor on a `list` of words:\n",
    "```\n",
    "my_text = Text(list_of_words)\n",
    "```\n",
    "Execute the cell below to create a `Text` out of Walt Whitman's *Leaves of Grass*.\\* Then use the following cell to experiment with some of the useful methods that come with the `Text` class. Here is the [full list of the methods](https://www.nltk.org/api/nltk.html#nltk.text.Text). The `.concordance` and `.dispersion_plot` methods are particularly fun to start with.\n",
    "\n",
    "\\* We will be looking at how to import your own text data in **Week 2**."
   ]
  },
  {
   "cell_type": "code",
   "execution_count": 0,
   "metadata": {
    "collapsed": false
   },
   "outputs": [
   ],
   "source": [
    "import nltk\n",
    "from nltk.text import Text\n",
    "\n",
    "leaves_of_grass_words = nltk.corpus.gutenberg.words('whitman-leaves.txt')\n",
    "\n",
    "leaves_of_grass_text = Text(leaves_of_grass_words)\n",
    "\n",
    "# leaves_of_grass_text is of type 'nltk.text.Text':\n",
    "type(leaves_of_grass_text)"
   ]
  },
  {
   "cell_type": "code",
   "execution_count": 0,
   "metadata": {
    "collapsed": false
   },
   "outputs": [
   ],
   "source": [
    "# Have a play with some of the Text methods:\n",
    "leaves_of_grass_text.concordance('myself', width=101, lines=30)"
   ]
  },
  {
   "cell_type": "markdown",
   "metadata": {
    "collapsed": false
   },
   "source": [
    "You can define a new class of object using a `class` statement, which works a lot like the `def` statement you use to define a function. Just like when you define a function, everything 'inside' the class has to be indented. The cell below creates a simple `class` called `KungFuFighter`. You will see that classes are a little more complex to define than functions.\n",
    "\n",
    "The most important concept for understanding how an object works is the special `self` variable. This variable is built-in to every function and by default, every time you use a `method` of that function, `self` is provided as the first parameter. So when you type\n",
    "```\n",
    "leaves_of_grass_text.concordance('myself')\n",
    "```\n",
    "the computer interprets it as\n",
    "```\n",
    "leaves_of_grass_text.concordance(self, 'myself')\n",
    "```\n",
    "and knows that you want to apply the `.concordance()` method to *Leaves of Grass* itself.\n",
    "\n",
    "**NB:** When you use an object method, you never need to type the word `self`——it is implied. If you look above, you will see that we typed `my_fruits.append('mango')` and NOT `my_fruits.append(self, 'mango')`.\n",
    "\n",
    "Run the cell below to create the new class called `KungFuFighter`. The code is commented to explain to you how it works. After you have run the cell, you will be able to use the `KungFuFighter()` constructor to create new martial artists."
   ]
  },
  {
   "cell_type": "code",
   "execution_count": 0,
   "metadata": {
    "collapsed": false
   },
   "outputs": [
   ],
   "source": [
    "class KungFuFighter():\n",
    "    \"\"\"A Kung Fu Fighter. Hee-ya!\"\"\"\n",
    "\n",
    "    # Every class needs to have an '__init__' method. This is the method that is used to 'initialise' a new\n",
    "    # instance of the class. It has double-underscores on either side of the name because it is a 'hidden'\n",
    "    # method. The user will never have to type KungFuFighter.__init__(). If they want to create a new KungFuFighter,\n",
    "    # they can just type `my_fighter = KungFuFighter(name=... etc.)`\n",
    "\n",
    "    # A method is just a special kind of function, so you use a `def` statement to define it. Note how `self`\n",
    "    # is the first parameter of the method, and that we indent the lines a second time to indicate we are 'inside'\n",
    "    # the method:\n",
    "\n",
    "    def __init__(self, name='Unknown fighter', hit_points=100, strength=10):\n",
    "\n",
    "        # When we initialise a new KungFuFighter, we want to let the user choose its attributes.\n",
    "        # If the user does not choose a name, hit_points or strength, then the default values will be used.\n",
    "        # To store some data as an attribute, you just create a variable inside the class with a `self.` in its name.\n",
    "        self.name = name\n",
    "        self.hit_points = hit_points\n",
    "        self.strength = strength\n",
    "\n",
    "        # You can also add attributes that the user cannot control. By design, each KungFuFighter is alive\n",
    "        # when they are created:\n",
    "        self.status = 'Alive and kicking'\n",
    "\n",
    "        # This is a general pattern: you define the attributes of a `class` in the `__init__()` method. Then you\n",
    "        # define further methods below, which make use of those attributes or even change them.\n",
    "\n",
    "        # You can access the attributes of an object in the same sort of way you access their methods. If I want to know\n",
    "        # how many hit_points my KungFuFighter has, I just type `my_fighter.hit_points` or `print(my_fighter.hit_points)`.\n",
    "        # Because an attribute is a variable, not a function, you do not need parentheses after `hit_points`.\n",
    "\n",
    "    # Now we will add some more methods so our KungFuFighter can engage in combat.\n",
    "\n",
    "    def get_kicked(self, kick_strength):\n",
    "        \"\"\"Get kicked by another KungFuFighter.\"\"\"\n",
    "\n",
    "        # If our KungFuFighter gets kicked, then we want their hit_points to go down according to how strong\n",
    "        # the kick was.\n",
    "        self.hit_points = self.hit_points - kick_strength\n",
    "\n",
    "        # What happens when our KungFuFighter runs out of hit_points? Let's change their status from\n",
    "        # 'Alive and kicking' to 'Knocked out' (this Kung Fu film is PG)\n",
    "        if self.hit_points <= 0:\n",
    "            self.status = 'Knocked out'\n",
    "            print(f'{self.name} has been knocked out!')\n",
    "\n",
    "        # Since we are storing the data inside the KungFuFighter, there is no need for any output, and we do not\n",
    "        # need a `return` statement. Of course, sometimes you do want a method to have some sort of output. If so,\n",
    "        # you can add a `return` statement as required.\n",
    "\n",
    "    def kick(self, other_fighter):\n",
    "        \"\"\"Kick another KungFuFighter.\"\"\"\n",
    "\n",
    "        # If the fighter is knocked out, it can't kick!\n",
    "        if self.hit_points <= 0:\n",
    "            print(f'{self.name} can\\'t kick, they\\'ve been KO\\'d!')\n",
    "            # To stop the function from continuing, we can add a `return None` statement, which ends the function.\n",
    "            return None\n",
    "\n",
    "        # Print a message so that the user knows what has happened:\n",
    "        print(f'{self.name} kicked {other_fighter.name}!')\n",
    "\n",
    "        # Since other_fighter should be a KungFuFighter too, it should have the `.get_kicked()` method. We can use\n",
    "        # this fact to let one KungFuFighter kick another one. We will use the strength of our own KungFuFighter\n",
    "        # as the attack_strength of the kick.\n",
    "        other_fighter.get_kicked(kick_strength=self.strength)\n",
    "\n",
    "        # Again, we don't need a `return` statement, because all the data is stored inside the objects, and we do not\n",
    "        # need any output."
   ]
  },
  {
   "cell_type": "markdown",
   "metadata": {
    "collapsed": false
   },
   "source": [
    "Once a class has been defined, you can use the `help()` function to find out more about it. This works for all classes, not just the ones you have defined yourself:"
   ]
  },
  {
   "cell_type": "code",
   "execution_count": 0,
   "metadata": {
    "collapsed": false
   },
   "outputs": [
   ],
   "source": [
    "help(KungFuFighter)"
   ]
  },
  {
   "cell_type": "markdown",
   "metadata": {
    "collapsed": false
   },
   "source": [
    "### Practice 1.6: Create and use a KungFuFighter instance\n",
    "\n",
    "Execute the below code cell to create two KungFuFighters."
   ]
  },
  {
   "cell_type": "code",
   "execution_count": 0,
   "metadata": {
    "collapsed": false
   },
   "outputs": [
   ],
   "source": [
    "fighter_one = KungFuFighter(name=\"Fighter One\", hit_points=50, strength=30)\n",
    "fighter_two = KungFuFighter(name=\"Fighter Two\", hit_points=180, strength=15)"
   ]
  },
  {
   "cell_type": "markdown",
   "metadata": {
    "collapsed": false
   },
   "source": [
    "Now you can use the below cell to make `fighter_two` attack `fighter_one`. How many times do you need to execute the cell before `fighter_one` is KO'd?"
   ]
  },
  {
   "cell_type": "code",
   "execution_count": 0,
   "metadata": {
    "collapsed": false
   },
   "outputs": [
   ],
   "source": [
    "fighter_two.kick(fighter_one)"
   ]
  },
  {
   "cell_type": "markdown",
   "metadata": {
    "collapsed": false
   },
   "source": [
    "Now have a play around with the two code cells. If you re-execute the first cell, the fighters will be re-created with their original attibutes. You can also alter their `hit_points` and `strength` as you please. You can then change the code in the second cell to change the course of the battle. If you add additional lines of code you can change who attacks whom, and how many times."
   ]
  },
  {
   "cell_type": "markdown",
   "metadata": {
    "collapsed": false
   },
   "source": [
    "### Assignment 1.7 Everybody was Kung Fu Fight-ing!\n",
    "\n",
    "For this assignment, you are going to create *two* Kung Fu fighters and battle them against one another.\n",
    "\n",
    "Your task:\n",
    "* Create two fighters, `lady_sun` and `cao_cao`. `lady_sun` should have the name \"[Sun Shangxiang](https://en.wikipedia.org/wiki/Lady_Sun)\", have `150` hit points, and have a strength of `30`. `cao_cao` should be called \"[Cao Cao](\"https://en.wikipedia.org/wiki/Cao_Cao\")\", have `90` hit points and have a strength of `50`.\n",
    "* It's the battle of [Red Cliffs](https://en.wikipedia.org/wiki/Battle_of_Red_Cliffs). Lady Sun attacks Cao Cao until he is knocked out. (**NB:** You need to use `lady_sun`'s' the `.kick()` method to make this work. To complete the assignment correctly, you need to make the correct number of kicks occur from just *one* execution of the cell.)"
   ]
  },
  {
   "cell_type": "code",
   "execution_count": 0,
   "metadata": {
    "collapsed": false,
    "nbgrader": {
     "grade": false,
     "grade_id": "kung_fu_fighting",
     "locked": false,
     "schema_version": 3,
     "solution": true,
     "task": false
    }
   },
   "outputs": [
   ],
   "source": [
    "### BEGIN SOLUTION\n",
    "lady_sun = KungFuFighter(name=\"Sun Shangxiang\", hit_points=150, strength=30)\n",
    "cao_cao = KungFuFighter(name=\"Cao Cao\", hit_points=90, strength=50)\n",
    "lady_sun.kick(cao_cao)\n",
    "lady_sun.kick(cao_cao)\n",
    "lady_sun.kick(cao_cao)\n",
    "### END SOLUTION"
   ]
  },
  {
   "cell_type": "code",
   "execution_count": 0,
   "metadata": {
    "collapsed": false,
    "nbgrader": {
     "grade": true,
     "grade_id": "kung_fu_fighting_tests",
     "locked": true,
     "points": 5,
     "schema_version": 3,
     "solution": false,
     "task": false
    }
   },
   "outputs": [
   ],
   "source": [
    "# Is lady_sun of the right type?\n",
    "print(\"Lady Sun's type: \" + str(type(lady_sun)))\n",
    "\n",
    "# Did she KO Cao Cao?\n",
    "print(\"Cao Cao's status: \" + cao_cao.status)\n",
    "### BEGIN HIDDEN TESTS\n",
    "assert type(lady_sun) is KungFuFighter\n",
    "assert type(cao_cao) is KungFuFighter\n",
    "assert lady_sun.name == \"Sun Shangxiang\"\n",
    "assert lady_sun.strength == 30\n",
    "assert cao_cao.name == \"Cao Cao\"\n",
    "assert cao_cao.strength == 50\n",
    "assert cao_cao.hit_points <= 0 and cao_cao.status == 'Knocked out'\n",
    "### END HIDDEN TESTS"
   ]
  },
  {
   "cell_type": "markdown",
   "metadata": {
    "collapsed": false
   },
   "source": [
    "Expected output:\n",
    "```\n",
    "Lady Sun's type: <class '__main__.KungFuFighter'>\n",
    "Cao Cao's status: Knocked out\n",
    "```"
   ]
  },
  {
   "cell_type": "markdown",
   "metadata": {
    "collapsed": false
   },
   "source": [
    "## Section 4: Creating a `ShoppingList` Object\n",
    "\n",
    "With the knowledge you have of Python's basic structures, you are now ready for your first big assignment: to define your own **object class** and use it to create your own **instances**.\n",
    "\n",
    "Based on what we covered in the lecture, you are going to build a class for making shopping lists in Python. You will first define a ne **class** called `ShoppingList`. You will then use this **class** to create several different shopping lists for different shops you need to visit. Each of these particular shopping lists will be an **instance** of the `ShoppingList` **class**.\n",
    "\n",
    "To be useful, the `ShoppingList` class needs to be able to do four things:\n",
    "* Store information about which shop you are going to (we will use an **attribute** to do this)\n",
    "* Store a list of items you need to buy inside it (we will use an **attribute** to do this)\n",
    "* Allow you to add new items to the list (we will use a **method** to do this)\n",
    "* Allow you to remove items from the list once you have bought them (we will use another **method** to do this)\n",
    "\n",
    "You should be able to see how the `ShoppingList` will be similar to `KungFuFighter`. `KungFuFighter` also stored some data (the `name`, `hit_points` and `strength` of the fighter) and had some useful methods (`.kick()` and `.get_kicked()`).\n",
    "\n",
    "This Section is in two parts. First you need to define `ShoppingList` using a `class` statement. Then in the following section you need to create two **instances** of this class for two shops that you are going to visit.\n",
    "\n",
    "### Assignment 1.8: Define the `ShoppingList` Class\n",
    "\n",
    "For this assignment, you need to define the class. I have already provided the `class` statement and docstring to get you going. To complete the assignment, you need to do three things:\n",
    "1. Write an `__init__` method that defines the class's attributes. The `ShoppingList` class needs two attributes: `self.shop`, the name of the shop that the list is for, and `self.items`, the items that the user wants to buy at the shop. `self.items` should be of the `set` type. **Remember:** Here you are defining the **class**, not a particular **instance** of a shopping list. Your `__init__` function will take information from the user and save it inside the object. I have provided some guidance in the code cell below.\n",
    "2. Write an `add_item` method that allows the user to add an item to their shopping list. If you correctly defined `self.items` as a `set` in step 1, then you will be able to make use of `self.items`'s built-in `.add()` method.\n",
    "3. Write a `buy_item` method that removes an item from the shopping list once the user has bought it. If you have correctly defined `self.items` as a `set` in step 1, then you will be able to make use of `self.items`'s `.remove()` method.\n",
    "\n",
    "**Hints:**\n",
    "* I show how to complete this assignment in detail in Explainer Video 1 - 3, starting at about 10 minutes.\n",
    "* Make sure you keep track of your indentation. Each `def` statement (for `__init__`, `add_item` and `buy_item`) should be indented 4 spaces. Everything *inside* any of those `def` statements should be indented 4 spaces more\n",
    "* None of the functions you define inside `ShoppingList` need a `return` statement, as they are all object **methods** that manipulate the object itself rather than returning an output to the user"
   ]
  },
  {
   "cell_type": "code",
   "execution_count": 0,
   "metadata": {
    "collapsed": false,
    "nbgrader": {
     "grade": false,
     "grade_id": "define_shopping_list_class",
     "locked": false,
     "schema_version": 3,
     "solution": true,
     "task": false
    }
   },
   "outputs": [
   ],
   "source": [
    "class ShoppingList(object):\n",
    "    \"\"\"A class for creating and using shopping lists.\"\"\"\n",
    "\n",
    "    # First you need to define the `__init__` method. This is the hidden method that Python\n",
    "    # will use to initialise a new shopping list each time the user creates a new instance of\n",
    "    # the ShoppingList class.\n",
    "    # You can use the `__init__` method to define some attributes for the object.\n",
    "    # All attributes should have `self.` put in front of them. The `self.` tells Python that you\n",
    "    # want the relevant data stored inside *this* object.\n",
    "    # We need two attributes for this class: `shop` and `items`.\n",
    "\n",
    "    # Step 1: Use a `def` statement to define a function calld `__init__`. This function should\n",
    "    # have two parameters: `self` and `shop`. `self` is a hidden parameter that helps the class\n",
    "    # work correctly. `shop` will be the name of a shop, inputted by the user.\n",
    "    def __init__(self, shop):\n",
    "        # Step 2: Inside the `__init__` function, define the first attribute, `shop`. This attribute\n",
    "        # should store the shop name inputted by the user. Remember, to define an attribute you can use\n",
    "        # the template self.attribute = parameter. In this case, the attribute should be called `shop`\n",
    "        # and the paramter happens also to be called `shop`.\n",
    "        self.shop = shop\n",
    "        # Step 3: Still inside the `__init__` function, define the second attribute, `items`. This\n",
    "        # attribute will be empty of data, because we have not asked the user to input any items\n",
    "        # when they first create the ShoppingList object. (The only thing we ask is for them to \n",
    "        # enter a `shop` paraemter.) BUT - we still need to define the `items` attribute so it is\n",
    "        # ready to store the user's data when they input it. AND we want the `items` attribute to be\n",
    "        # of the type `set`. If you want to create an empty attribute of a particular type, you can use\n",
    "        # the template `self.attribute = type_name()` (e.g. self.something = list() would create an\n",
    "        # attribute called `something` of type `list`). In this case,the attribute should be `items` and\n",
    "        # the type_name is `set`.\n",
    "        self.items = set()\n",
    "\n",
    "    # Step 4: Use a new `def` statement to define the `add_item` method. This method should have two\n",
    "    # parameters: `self` and then `item`. Add the following docstring to the method: \"\"\"Add item to my shopping list\"\"\"\n",
    "    def add_item(self, item):\n",
    "        \"\"\"Add item to my shopping list\"\"\"\n",
    "        # Step 5: Write the code that will add the item inputted by the user to the items attribute.\n",
    "        # If you have correctly made self.items a `set` object, then you will be able to use its built-in\n",
    "        # `.add()` method. Use the following template for your code: self.attribute.method(parameter).\n",
    "        # The attribute is `items`, the method is `add`, and the parameter is `item`.\n",
    "        self.items.add(item)\n",
    "\n",
    "    # Step 6: Use a new `def` statement to define the `buy_item` method. This method should look very\n",
    "    # similar to the `add_item` method. It should also have the parameters `self` and `item`. But the\n",
    "    # docstring should be different: \"\"\"Tick off item once I've bought it\"\"\"\n",
    "    def buy_item(self, item):\n",
    "        \"\"\"Tick off item once I've bought it\"\"\"\n",
    "        # Step 6: Write the code that will remove the item from the list once you've bought it.\n",
    "        # This code will look very similar to the code for `add_item`, but with one crucial\n",
    "        # difference. This time you shoudl use the `.remove()` method of `self.items`, rather than\n",
    "        # the `.add()` method.\n",
    "        self.items.remove(item)"
   ]
  },
  {
   "cell_type": "code",
   "execution_count": 0,
   "metadata": {
    "collapsed": false,
    "nbgrader": {
     "grade": true,
     "grade_id": "361e97",
     "locked": true,
     "points": 10,
     "schema_version": 3,
     "solution": false,
     "task": false
    }
   },
   "outputs": [
   ],
   "source": [
    "help(ShoppingList)\n",
    "### BEGIN HIDDEN TESTS\n",
    "assert hasattr(ShoppingList, \"add_item\")\n",
    "assert ShoppingList.add_item.__doc__ == \"Add item to my shopping list\"\n",
    "assert hasattr(ShoppingList, \"buy_item\")\n",
    "assert ShoppingList.buy_item.__doc__ == \"Tick off item once I've bought it\"\n",
    "test_list = ShoppingList('just a random string')\n",
    "assert hasattr(test_list, \"shop\")\n",
    "assert test_list.shop == 'just a random string'\n",
    "assert hasattr(test_list, \"items\")\n",
    "assert isinstance(test_list.items, set)\n",
    "test_list.add_item(\"klingons\")\n",
    "assert \"klingons\" in test_list.items\n",
    "assert len(test_list.items) == 1\n",
    "test_list.buy_item(\"klingons\")\n",
    "assert len(test_list.items) == 0\n",
    "### END HIDDEN TESTS"
   ]
  },
  {
   "cell_type": "markdown",
   "metadata": {
    "collapsed": false
   },
   "source": [
    "If you have defined the `ShoppingList` class correctly, then the output of the above cell should look like so:\n",
    "```Help on class ShoppingList in module __main__:\n",
    "\n",
    "class ShoppingList(builtins.object)\n",
    " |  ShoppingList(shop)\n",
    " |  \n",
    " |  A class for creating and using shopping lists.\n",
    " |  \n",
    " |  Methods defined here:\n",
    " |  \n",
    " |  __init__(self, shop)\n",
    " |      Initialize self.  See help(type(self)) for accurate signature.\n",
    " |  \n",
    " |  add_item(self, item)\n",
    " |      Add item to my shopping list\n",
    " |  \n",
    " |  buy_item(self, item)\n",
    " |      Tick off item once I've bought it\n",
    " |  \n",
    " |  ----------------------------------------------------------------------\n",
    " |  Data descriptors defined here:\n",
    " |  \n",
    " |  __dict__\n",
    " |      dictionary for instance variables (if defined)\n",
    " |  \n",
    " |  __weakref__\n",
    " |      list of weak references to the object (if defined)\n",
    "```\n",
    "Some things to check:\n",
    "* Are all the required methods there? (`__init__`, `add_item` etc.)\n",
    "* Are all the docstrings correct?\n",
    "* Does each method have the correct parameters? (`self`, `shop` etc.)"
   ]
  },
  {
   "cell_type": "markdown",
   "metadata": {
    "collapsed": false
   },
   "source": [
    "### Assignment 1.9: Create some `ShoppingList`s!\n",
    "\n",
    "Now you have defined the `ShoppingList` **class**, you can create some **instances** of the class to do some shopping.\n",
    "\n",
    "You can create a `ShoppingList` using the below template. This template would create a new variable `grocery_list`, which would be for the `'Groceries'`. It would have two items on the list, `potatoes` and `cheese`. To see what items are on the list, we can use `print()`.\n",
    "```\n",
    "grocery_list = ShoppingList(shop='Groceries')\n",
    "grocery_list.add_item('potatoes')\n",
    "grocery_list.add_item('cheese')\n",
    "print(grocery_list.items)\n",
    "\n",
    "Expected output:\n",
    "potatoes\n",
    "cheese\n",
    "```\n",
    "\n",
    "To complete this assignment, you are going to create two `ShoppingList`s, and make use of their `add_item` and `buy_item` methods.\n",
    "\n",
    "This is what you need to do:\n",
    "1. Create a shopping list for the bakery. Use `bakery_list` for the variable name, and make `'Bakery'` the `shop` attribute. (1 line of code)\n",
    "2. Add two items to `bakery_list`: `'rolls'` and `'sponge cake'` (2 lines)\n",
    "3. Create another shopping list, this time for the homewares store. Use `homewares_list` for the variable name, and `'Lakeland'` for the `shop` attribute. (1 line)\n",
    "4. Add one item to `homewares_list`: `'pressure cooker'` (1 line)\n",
    "5. You are at the bakery. They have run out of rolls, but they still have sponge cake. Use the `.buy_item()` method to buy the `'sponge cake'`. (1 line)"
   ]
  },
  {
   "cell_type": "code",
   "execution_count": 0,
   "metadata": {
    "collapsed": false,
    "nbgrader": {
     "grade": false,
     "grade_id": "create_shopping_lists",
     "locked": false,
     "schema_version": 3,
     "solution": true,
     "task": false
    }
   },
   "outputs": [
   ],
   "source": [
    "### BEGIN SOLUTION\n",
    "bakery_list = ShoppingList(shop='Bakery')\n",
    "bakery_list.add_item('rolls')\n",
    "bakery_list.add_item('sponge cake')\n",
    "homewares_list = ShoppingList(shop='Lakeland')\n",
    "homewares_list.add_item('pressure cooker')\n",
    "bakery_list.buy_item('sponge cake')\n",
    "### END SOLUTION"
   ]
  },
  {
   "cell_type": "code",
   "execution_count": 0,
   "metadata": {
    "collapsed": false,
    "nbgrader": {
     "grade": true,
     "grade_id": "9ee4d9",
     "locked": true,
     "points": 5,
     "schema_version": 3,
     "solution": false,
     "task": false
    }
   },
   "outputs": [
   ],
   "source": [
    "print(\"What's left to buy?\")\n",
    "print(f\"At the {bakery_list.shop} I need to buy: {bakery_list.items}\")\n",
    "print(f\"At {homewares_list.shop} I need to buy: {homewares_list.items}\")\n",
    "### BEGIN HIDDEN TESTS\n",
    "assert isinstance(bakery_list, ShoppingList)\n",
    "assert isinstance(homewares_list, ShoppingList)\n",
    "assert 'rolls' in bakery_list.items\n",
    "assert 'sponge cake' not in bakery_list.items\n",
    "assert 'pressure cooker' in homewares_list.items\n",
    "assert 'Bakery' == bakery_list.shop\n",
    "assert 'Lakeland' == homewares_list.shop\n",
    "### END HIDDEN TESTS"
   ]
  },
  {
   "cell_type": "markdown",
   "metadata": {
    "collapsed": false
   },
   "source": [
    "**Expected output:**\n",
    "```\n",
    "What's left to buy?\n",
    "At the Bakery I need to buy: {'rolls'} <-- 'sponge cake' should have disappeared\n",
    "At Lakeland I need to buy: {'pressure cooker'}\n",
    "```"
   ]
  },
  {
   "cell_type": "markdown",
   "metadata": {
    "collapsed": false
   },
   "source": [
    "## Conclusion\n",
    "\n",
    "Congratulations! You've made it to the end of Week 1, and learned some serious programming skills along the way. You now know all the fundamental concepts of object-orientd programming in Python: variables, operators, functions, objects, classes, attributes and methods. You can create your own unique software by defining your own custom functions and--even cooler--by defining your own unique object classes that let you package together data and functionality.\n",
    "\n",
    "In Week 2 we will start to see how you can apply your new skills to literary analysis.\n",
    "\n",
    "### Extension 1.20\n",
    "\n",
    "If you want to challenge yourself, you could try creating a new version of your `ShoppingList` object with improved functionality. You can do this easily using subclassing. I have provided the necessary code below. When you create a subclass, you create a new object which has all the same attribute and methods as its parent object by default. Then you can add a new method or two, or overwrite an existing method as you wish.\n",
    "\n",
    "Some things you could try:\n",
    "* Redefine the `__init__` method so that the user can add items to the shopping list when it is first initialised\n",
    "* Add a new method that displays which items are in the list, so that the user doesn't need to use the `print()` function\n",
    "* **Advanced:** Change the `.add_item` and `.buy_item` methods so that users can add or buy multiple items at once. There is a clever trick that will let you do this by simply adding a single character to the `items` parameter in the function definition, and then below when you use `.add()` or `.remove()`. The trick is called unpacking. You can [read about it here](https://docs.python.org/3/tutorial/controlflow.html?highlight=unpacking#unpacking-argument-lists)."
   ]
  },
  {
   "cell_type": "code",
   "execution_count": 0,
   "metadata": {
    "collapsed": false
   },
   "outputs": [
   ],
   "source": [
    "class ImprovedShoppingList(ShoppingList):\n",
    "    \"\"\"New and improved ShoppingList!\"\"\"\n",
    "\n",
    "    # Make any changes you like below..."
   ]
  }
 ],
 "metadata": {
  "kernelspec": {
   "display_name": "Python 3 (system-wide)",
   "language": "python",
   "metadata": {
    "cocalc": {
     "description": "Python 3 programming language",
     "priority": 100,
     "url": "https://www.python.org/"
    }
   },
   "name": "python3",
   "resource_dir": "/ext/jupyter/kernels/python3"
  },
  "language_info": {
   "codemirror_mode": {
    "name": "ipython",
    "version": 3
   },
   "file_extension": ".py",
   "mimetype": "text/x-python",
   "name": "python",
   "nbconvert_exporter": "python",
   "pygments_lexer": "ipython3",
   "version": "3.8.5"
  }
 },
 "nbformat": 4,
 "nbformat_minor": 4
}